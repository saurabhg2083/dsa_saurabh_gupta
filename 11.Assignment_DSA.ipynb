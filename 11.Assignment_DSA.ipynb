{
 "cells": [
  {
   "cell_type": "markdown",
   "id": "86f6f253",
   "metadata": {},
   "source": [
    "##### Assignment 11 Questions - Arrays | DSA\n",
    "\n",
    "https://pwskills.notion.site/Assignment-Questions-11-e836967d718144d5bc2e5f18b1a18ac4"
   ]
  },
  {
   "cell_type": "markdown",
   "id": "c33f29a8",
   "metadata": {},
   "source": [
    "#### Question 1\n",
    "\n",
    "Given a non-negative integer x, return the square root of x rounded down to the nearest integer. The returned integer should be non-negative as well.\n",
    "\n",
    "    Input: x = 8\n",
    "    Output: 2\n",
    "    Explanation: The square root of 8 is 2.82842..., and since we round it down to the nearest integer, 2 is returned."
   ]
  },
  {
   "cell_type": "code",
   "execution_count": 1,
   "id": "18d34f7a",
   "metadata": {},
   "outputs": [
    {
     "data": {
      "text/plain": [
       "2"
      ]
     },
     "execution_count": 1,
     "metadata": {},
     "output_type": "execute_result"
    }
   ],
   "source": [
    "def func1(n):\n",
    "    left=0\n",
    "    right=100\n",
    "    mid=(left+right)//2\n",
    "    while(True):\n",
    "        temp=mid\n",
    "        if mid*mid>n:\n",
    "            right=mid+1\n",
    "        else:\n",
    "            left=mid\n",
    "        mid=(left+right)//2\n",
    "        if temp==mid:\n",
    "            break\n",
    "    return left\n",
    "\n",
    "func1(8)"
   ]
  },
  {
   "cell_type": "markdown",
   "id": "a5034378",
   "metadata": {},
   "source": [
    "#### Question 2\n",
    "\n",
    "A peak element is an element that is strictly greater than its neighbors.\n",
    "\n",
    "Given a **0-indexed** integer array `nums`, find a peak element, and return its index. If the array contains multiple peaks, return the index to **any of the peaks**.\n",
    "\n",
    "You may imagine that `nums[-1] = nums[n] = -∞`. In other words, an element is always considered to be strictly greater than a neighbor that is outside the array.\n",
    "\n",
    "You must write an algorithm that runs in `O(log n)` time.\n",
    "\n",
    "Input: nums = [1,2,1,3,5,6,4]\n",
    "Output: 5\n",
    "Explanation: Your function can return either index number 1 where the peak element is 2, or index number 5 where the peak element is 6."
   ]
  },
  {
   "cell_type": "code",
   "execution_count": 2,
   "id": "9b55bd29",
   "metadata": {},
   "outputs": [
    {
     "name": "stdout",
     "output_type": "stream",
     "text": [
      "[1, 5]\n"
     ]
    }
   ],
   "source": [
    "def func2(nums):\n",
    "    n = len(nums)\n",
    "    \n",
    "    if (n == 1) :\n",
    "        return 0\n",
    "    if (nums[0] >= nums[1]) :\n",
    "        return 0\n",
    "    if (nums[n - 1] >= nums[n - 2]) :\n",
    "        return n - 1\n",
    "\n",
    "    arr = []\n",
    "    for i in range(1, n - 1) :\n",
    "        if (nums[i] >= nums[i - 1] and nums[i] >= nums[i + 1]) :\n",
    "            arr.append(i)\n",
    "\n",
    "    return arr\n",
    "\n",
    "nums = [1,2,1,3,5,6,4]\n",
    "print(func2(nums))"
   ]
  },
  {
   "cell_type": "markdown",
   "id": "386d84e3",
   "metadata": {},
   "source": [
    "#### Question 3\n",
    "\n",
    "\n",
    "Given an array `nums` containing `n` distinct numbers in the range `[0, n]`, return *the only number in the range that is missing from the array.*\n",
    "\n",
    "**Example 1:**\n",
    "\n",
    "    Input: nums = [3,0,1]\n",
    "    Output: 2\n",
    "    Explanation: n = 3 since there are 3 numbers, so all numbers are in the range [0,3]. 2 is the missing number in the range since it does not appear in nums.\n"
   ]
  },
  {
   "cell_type": "code",
   "execution_count": 3,
   "id": "7e90e058",
   "metadata": {},
   "outputs": [
    {
     "data": {
      "text/plain": [
       "2"
      ]
     },
     "execution_count": 3,
     "metadata": {},
     "output_type": "execute_result"
    }
   ],
   "source": [
    "def func3(nums):\n",
    "    n = len(nums)\n",
    "\n",
    "    temp = [0] * (n+1)\n",
    " \n",
    "    for i in range(0, n):\n",
    "        temp[nums[i] - 1] = 1\n",
    " \n",
    "    for i in range(0, n+1):\n",
    "        if(temp[i] == 0):\n",
    "            ans = i + 1\n",
    "    return ans\n",
    "    #for i in range(0, n+1) :\n",
    "    #    print(i)\n",
    "    #    if i not in nums:\n",
    "    #        return i\n",
    "    #return -1\n",
    "\n",
    "\n",
    "nums = [3,0,1, 4]\n",
    "func3(nums)"
   ]
  },
  {
   "cell_type": "markdown",
   "id": "d02114d4",
   "metadata": {},
   "source": [
    "#### Question 4\n",
    "\n",
    "Given an array of integers `nums` containing `n + 1` integers where each integer is in the range `[1, n]` inclusive.\n",
    "\n",
    "There is only one repeated number in nums, return this repeated number.\n",
    "You must solve the problem **without** modifying the array `nums` and uses only constant extra space.\n",
    "   \n",
    "   Input: nums = [1,3,4,2,2]\n",
    "    Output: 2\n"
   ]
  },
  {
   "cell_type": "code",
   "execution_count": 4,
   "id": "299bd5de",
   "metadata": {},
   "outputs": [
    {
     "data": {
      "text/plain": [
       "2"
      ]
     },
     "execution_count": 4,
     "metadata": {},
     "output_type": "execute_result"
    }
   ],
   "source": [
    "def func4(nums):\n",
    "    slow = nums[0]\n",
    "    fast = nums[0]\n",
    "    while True:\n",
    "        slow = nums[slow]\n",
    "        fast = nums[nums[fast]]\n",
    "        if slow == fast:\n",
    "            break\n",
    "    fast = nums[0]\n",
    "    while slow != fast:\n",
    "        slow = nums[slow]\n",
    "        fast = nums[fast]\n",
    "        if slow == fast:\n",
    "            break\n",
    "    return slow\n",
    "    \n",
    "nums = [1,3,4,2,2] \n",
    "func4(nums)"
   ]
  },
  {
   "cell_type": "markdown",
   "id": "999b2d26",
   "metadata": {},
   "source": [
    "#### Question 5\n",
    "\n",
    "Given two integer arrays nums1 and nums2, return an array of their intersection. Each element in the result must be unique and you may return the result in any order."
   ]
  },
  {
   "cell_type": "code",
   "execution_count": 5,
   "id": "1a522323",
   "metadata": {},
   "outputs": [
    {
     "data": {
      "text/plain": [
       "[2, 3]"
      ]
     },
     "execution_count": 5,
     "metadata": {},
     "output_type": "execute_result"
    }
   ],
   "source": [
    "def func5(nums1,nums2):\n",
    "    ans=[]\n",
    "    dc={}\n",
    "    for a in nums1:\n",
    "        dc[a]=1\n",
    "    nums2=set(nums2)\n",
    "    for a in nums2:\n",
    "        if(dc[a]==1):\n",
    "            ans.append(a)\n",
    "    return ans\n",
    "\n",
    "nums1 = [1,2,2,1,3]\n",
    "nums2 = [2,2,3]\n",
    "#Output: [2]\n",
    "func5(nums1,nums2)\n"
   ]
  },
  {
   "cell_type": "markdown",
   "id": "2f21c68d",
   "metadata": {},
   "source": [
    "#### Question 6\n",
    "\n",
    "Suppose an array of length n sorted in ascending order is rotated between 1 and n times. For example, the array nums = [0,1,2,4,5,6,7] might become:\n",
    "- `[4,5,6,7,0,1,2]` if it was rotated `4` times.\n",
    "- `[0,1,2,4,5,6,7]` if it was rotated `7` times."
   ]
  },
  {
   "cell_type": "code",
   "execution_count": 6,
   "id": "0bc4cf96",
   "metadata": {},
   "outputs": [
    {
     "data": {
      "text/plain": [
       "1"
      ]
     },
     "execution_count": 6,
     "metadata": {},
     "output_type": "execute_result"
    }
   ],
   "source": [
    "def func6(nums):\n",
    "    left = 0\n",
    "    right = len(nums) - 1\n",
    "\n",
    "    while left < right:\n",
    "        mid = left + (right - left) // 2\n",
    "\n",
    "        if nums[mid] > nums[right]:\n",
    "            left = mid + 1\n",
    "        else:\n",
    "            right = mid\n",
    "\n",
    "    return nums[left]\n",
    "\n",
    "    \n",
    "nums = [4,5,6,1,2,3]\n",
    "func6(nums)\n",
    "\n",
    "#Output: 1\n",
    "#Explanation: The original array was [1,2,3,4,5] rotated 3 times.\n"
   ]
  },
  {
   "cell_type": "markdown",
   "id": "533d0cc9",
   "metadata": {},
   "source": [
    "#### Question 7\n",
    "\n",
    "Given an array of integers nums sorted in non-decreasing order, find the starting and ending position of a given target value.\n",
    "\n",
    "If target is not found in the array, return [-1, -1].\n"
   ]
  },
  {
   "cell_type": "code",
   "execution_count": 7,
   "id": "169c599c",
   "metadata": {
    "scrolled": true
   },
   "outputs": [
    {
     "data": {
      "text/plain": [
       "[3, 4]"
      ]
     },
     "execution_count": 7,
     "metadata": {},
     "output_type": "execute_result"
    }
   ],
   "source": [
    "def func7(nums, target):\n",
    "    ans = [-1, -1]\n",
    "    start, end = 0, len(nums) - 1\n",
    "    # First occurrence\n",
    "    while start <= end:\n",
    "        mid = (start + end) // 2\n",
    "        if target == nums[mid]:\n",
    "            ans[0] = mid\n",
    "            end = mid - 1\n",
    "        elif target < nums[mid]:\n",
    "            end = mid - 1\n",
    "        else:\n",
    "            start = mid + 1\n",
    "    # Last occurrence\n",
    "    start, end = 0, len(nums) - 1\n",
    "    while start <= end:\n",
    "        mid = (start + end) // 2\n",
    "        if target == nums[mid]:\n",
    "            ans[1] = mid\n",
    "            start = mid + 1\n",
    "        elif target < nums[mid]:\n",
    "            end = mid - 1\n",
    "        else:\n",
    "            start = mid + 1\n",
    "    return ans\n",
    "\n",
    "\n",
    "    \n",
    "nums = [5,7,7,8,8,10]\n",
    "target = 8\n",
    "func7(nums, target)\n",
    "#Output: [3,4]\n"
   ]
  },
  {
   "cell_type": "markdown",
   "id": "388e38a8",
   "metadata": {},
   "source": [
    "#### Question 8\n",
    "\n",
    "Given two integer arrays nums1 and nums2, return an array of their intersection. Each element in the result must appear as many times as it shows in both arrays and you may return the result in any order."
   ]
  },
  {
   "cell_type": "code",
   "execution_count": 9,
   "id": "3060f747",
   "metadata": {},
   "outputs": [
    {
     "data": {
      "text/plain": [
       "[2, 2]"
      ]
     },
     "execution_count": 9,
     "metadata": {},
     "output_type": "execute_result"
    }
   ],
   "source": [
    "def func8(nums1,nums2):\n",
    "    sortedArr1 = sorted(nums1)\n",
    "    sortedArr2 = sorted(nums2)\n",
    "    i = 0\n",
    "    j = 0\n",
    "    output = []\n",
    "    while i < len(sortedArr1) and j < len(sortedArr2):        \n",
    "        if sortedArr1[i] < sortedArr2[j]:\n",
    "            i += 1       \n",
    "        elif sortedArr2[j] < sortedArr1[i]:\n",
    "            j += 1        \n",
    "        else:\n",
    "            output.append(sortedArr1[i])\n",
    "            i += 1\n",
    "            j += 1\n",
    "    return output\n",
    "\n",
    "nums1 = [1,2,2,1]\n",
    "nums2 = [2,2]\n",
    "func8(nums1, nums2)\n",
    "#Output: [2,2]\n"
   ]
  },
  {
   "cell_type": "code",
   "execution_count": null,
   "id": "218a5660",
   "metadata": {},
   "outputs": [],
   "source": []
  },
  {
   "cell_type": "code",
   "execution_count": null,
   "id": "d1beb93d",
   "metadata": {},
   "outputs": [],
   "source": []
  }
 ],
 "metadata": {
  "kernelspec": {
   "display_name": "Python 3 (ipykernel)",
   "language": "python",
   "name": "python3"
  },
  "language_info": {
   "codemirror_mode": {
    "name": "ipython",
    "version": 3
   },
   "file_extension": ".py",
   "mimetype": "text/x-python",
   "name": "python",
   "nbconvert_exporter": "python",
   "pygments_lexer": "ipython3",
   "version": "3.9.7"
  }
 },
 "nbformat": 4,
 "nbformat_minor": 5
}
