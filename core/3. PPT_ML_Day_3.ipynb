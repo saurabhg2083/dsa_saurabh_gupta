{
 "cells": [
  {
   "cell_type": "markdown",
   "id": "c0c50089",
   "metadata": {},
   "source": [
    "1. Scenario: A company wants to analyze the sales performance of its products in different regions. They have collected the following data:\n",
    "Region A: [10, 15, 12, 8, 14]\n",
    "Region B: [18, 20, 16, 22, 25]\n",
    "Calculate the mean sales for each region.\n"
   ]
  },
  {
   "cell_type": "code",
   "execution_count": 15,
   "id": "eb068db7",
   "metadata": {},
   "outputs": [
    {
     "name": "stdout",
     "output_type": "stream",
     "text": [
      "11.8 20.2\n"
     ]
    }
   ],
   "source": [
    "import numpy as np\n",
    "\n",
    "A= [10, 15, 12, 8, 14]\n",
    "B= [18, 20, 16, 22, 25]\n",
    "print(np.mean(A), np.mean(B))"
   ]
  },
  {
   "cell_type": "markdown",
   "id": "cdb07280",
   "metadata": {},
   "source": [
    "2. Scenario: A survey is conducted to measure customer satisfaction on a scale of 1 to 5. The data collected is as follows:\n",
    "   [4, 5, 2, 3, 5, 4, 3, 2, 4, 5]\n",
    "   Calculate the mode of the survey responses.\n"
   ]
  },
  {
   "cell_type": "code",
   "execution_count": 8,
   "id": "49018464",
   "metadata": {},
   "outputs": [
    {
     "data": {
      "text/plain": [
       "4"
      ]
     },
     "execution_count": 8,
     "metadata": {},
     "output_type": "execute_result"
    }
   ],
   "source": [
    "import statistics\n",
    "data = [4, 5, 2, 3, 5, 4, 3, 2, 4, 5]\n",
    "statistics.mode(data)"
   ]
  },
  {
   "cell_type": "markdown",
   "id": "7caea435",
   "metadata": {},
   "source": [
    "3. Scenario: A company wants to compare the salaries of two departments. The salary data for Department A and Department B are as follows:\n",
    "   \n",
    "Department A: [5000, 6000, 5500, 7000]\n",
    "\n",
    "Department B: [4500, 5500, 5800, 6000, 5200]\n",
    "\n",
    "Calculate the median salary for each department.\n"
   ]
  },
  {
   "cell_type": "code",
   "execution_count": 14,
   "id": "38f85c33",
   "metadata": {},
   "outputs": [
    {
     "name": "stdout",
     "output_type": "stream",
     "text": [
      "5750.0 5500\n",
      "5750.0 5500.0\n"
     ]
    }
   ],
   "source": [
    "Department_A= [5000, 6000, 5500, 7000]\n",
    "Department_B= [4500, 5500, 5800, 6000, 5200]\n",
    "\n",
    "\n",
    "print(statistics.median(Department_A),statistics.median(Department_B)) \n",
    "\n",
    "print(np.median(Department_A),np.median(Department_B)) "
   ]
  },
  {
   "cell_type": "markdown",
   "id": "54799042",
   "metadata": {},
   "source": [
    "4. Scenario: A data analyst wants to determine the variability in the daily stock prices of a company. The data collected is as follows:    [25.5, 24.8, 26.1, 25.3, 24.9]\n",
    "Calculate the range of the stock prices.\n"
   ]
  },
  {
   "cell_type": "code",
   "execution_count": 16,
   "id": "3c84a079",
   "metadata": {},
   "outputs": [
    {
     "data": {
      "text/plain": [
       "(24.8, 26.1)"
      ]
     },
     "execution_count": 16,
     "metadata": {},
     "output_type": "execute_result"
    }
   ],
   "source": [
    "data =  [25.5, 24.8, 26.1, 25.3, 24.9]\n",
    "\n",
    "np.min(data), np.max(data)\n"
   ]
  },
  {
   "cell_type": "markdown",
   "id": "8b3ef1a9",
   "metadata": {},
   "source": [
    "5. Scenario: A study is conducted to compare the performance of two different teaching methods. The test scores of the students in each group are as follows:\n",
    "   \n",
    "    Group A: [85, 90, 92, 88, 91]\n",
    "    \n",
    "    Group B: [82, 88, 90, 86, 87]\n",
    "    \n",
    "Perform a t-test to determine if there is a significant difference in the mean scores between the two groups.\n"
   ]
  },
  {
   "cell_type": "code",
   "execution_count": 18,
   "id": "3ff375fb",
   "metadata": {},
   "outputs": [
    {
     "data": {
      "text/plain": [
       "Ttest_indResult(statistic=1.4312528946642733, pvalue=0.19023970239078333)"
      ]
     },
     "execution_count": 18,
     "metadata": {},
     "output_type": "execute_result"
    }
   ],
   "source": [
    "import scipy.stats as stats\n",
    "\n",
    "Group_A= [85, 90, 92, 88, 91]\n",
    "Group_B= [82, 88, 90, 86, 87]\n",
    "\n",
    "stats.ttest_ind(a=Group_A, b=Group_B, equal_var=True)"
   ]
  },
  {
   "cell_type": "code",
   "execution_count": 20,
   "id": "3d0566e2",
   "metadata": {},
   "outputs": [
    {
     "name": "stdout",
     "output_type": "stream",
     "text": [
      "We accept the Null Hypothsis\n"
     ]
    }
   ],
   "source": [
    "p = stats.ttest_ind(a=Group_A, b=Group_B, equal_var=True)[1]\n",
    "if p > 0.05:\n",
    "    print(\"We accept the Null Hypothsis\")\n",
    "else:\n",
    "    print(\"We reject the Null Hypothsis\")"
   ]
  },
  {
   "cell_type": "markdown",
   "id": "dbbad3b7",
   "metadata": {},
   "source": [
    "6. Scenario: A company wants to analyze the relationship between advertising expenditure and sales. The data collected is as follows:\n",
    "       \n",
    "    Advertising Expenditure (in thousands): [10, 15, 12, 8, 14]\n",
    "    \n",
    "    Sales (in thousands): [25, 30, 28, 20, 26]\n",
    "\n",
    "Calculate the correlation coefficient between advertising expenditure and sales.\n"
   ]
  },
  {
   "cell_type": "code",
   "execution_count": 23,
   "id": "9c54d882",
   "metadata": {},
   "outputs": [
    {
     "data": {
      "text/plain": [
       "(array([[1.        , 0.87575114],\n",
       "        [0.87575114, 1.        ]]),\n",
       " 0.8757511375750132)"
      ]
     },
     "execution_count": 23,
     "metadata": {},
     "output_type": "execute_result"
    }
   ],
   "source": [
    "x =  [10, 15, 12, 8, 14]\n",
    "y = [25, 30, 28, 20, 26]\n",
    "r = np.corrcoef(x, y)\n",
    "r,r[0, 1]"
   ]
  },
  {
   "cell_type": "markdown",
   "id": "72b547bf",
   "metadata": {},
   "source": [
    "7. Scenario: A survey is conducted to measure the heights of a group of people. The data collected is as follows:\n",
    "   [160, 170, 165, 155, 175, 180, 170]\n",
    "   Calculate the standard deviation of the heights.\n"
   ]
  },
  {
   "cell_type": "code",
   "execution_count": 24,
   "id": "77fed1fd",
   "metadata": {},
   "outputs": [
    {
     "data": {
      "text/plain": [
       "7.953949089757174"
      ]
     },
     "execution_count": 24,
     "metadata": {},
     "output_type": "execute_result"
    }
   ],
   "source": [
    "data = [160, 170, 165, 155, 175, 180, 170] \n",
    "np.std(data)"
   ]
  },
  {
   "cell_type": "markdown",
   "id": "0e9c7511",
   "metadata": {},
   "source": [
    "8. Scenario: A company wants to analyze the relationship between employee tenure and job satisfaction. The data collected is as follows:\n",
    "   \n",
    "    Employee Tenure (in years): [2, 3, 5, 4, 6, 2, 4]\n",
    "    \n",
    "    Job Satisfaction (on a scale of 1 to 10): [7, 8, 6, 9, 5, 7, 6]\n",
    "\n",
    "Perform a linear regression analysis to predict job satisfaction based on employee tenure.\n"
   ]
  },
  {
   "cell_type": "code",
   "execution_count": 42,
   "id": "f2aacae0",
   "metadata": {},
   "outputs": [],
   "source": [
    "Tenure= [2, 3, 5, 4, 6, 2, 4]\n",
    "Job_Satisfaction = [7, 8, 6, 9, 5, 7, 6]\n",
    "\n",
    "from sklearn.linear_model import LinearRegression\n",
    "import scipy\n"
   ]
  },
  {
   "cell_type": "code",
   "execution_count": 44,
   "id": "69a75d47",
   "metadata": {},
   "outputs": [
    {
     "name": "stdout",
     "output_type": "stream",
     "text": [
      "0.27099664053751393\n"
     ]
    }
   ],
   "source": [
    "slope, intercept, r_value, p_value, std_err = scipy.stats.linregress(Tenure, Job_Satisfaction)\n",
    "    \n",
    "print(r_value**2)"
   ]
  },
  {
   "cell_type": "code",
   "execution_count": 46,
   "id": "f6767afc",
   "metadata": {},
   "outputs": [
    {
     "data": {
      "image/png": "[encoded data removed]",
      "text/plain": [
       "<Figure size 640x480 with 1 Axes>"
      ]
     },
     "metadata": {},
     "output_type": "display_data"
    }
   ],
   "source": [
    "import matplotlib.pyplot as plt\n",
    "plt.scatter(Job_Satisfaction , Tenure, c =\"blue\")\n",
    "plt.show()"
   ]
  },
  {
   "cell_type": "markdown",
   "id": "4a7b3574",
   "metadata": {},
   "source": [
    "9. Scenario: A study is conducted to compare the effectiveness of two different medications. The recovery times of the patients in each group are as follows:\n",
    "   \n",
    "   Medication A: [10, 12, 14, 11, 13]\n",
    "   \n",
    "   Medication B: [15, 17, 16, 14, 18]\n",
    "\n",
    "Perform an analysis of variance (ANOVA) to determine if there is a significant difference in the mean recovery times between the two medications.\n"
   ]
  },
  {
   "cell_type": "code",
   "execution_count": 13,
   "id": "8afca418",
   "metadata": {},
   "outputs": [
    {
     "name": "stdout",
     "output_type": "stream",
     "text": [
      "We reject the Null Hypothsis\n"
     ]
    }
   ],
   "source": [
    "A =[10, 12, 14, 11, 13]\n",
    "B = [15, 17, 16, 14, 18]\n",
    "\n",
    "from scipy.stats import f_oneway\n",
    "test = f_oneway(A, B)\n",
    "pvalue = test[1]\n",
    "\n",
    "if pvalue > 0.05:\n",
    "    print(\"We accept the Null Hypothsis\")\n",
    "else:\n",
    "    print(\"We reject the Null Hypothsis\")\n",
    "    "
   ]
  },
  {
   "cell_type": "markdown",
   "id": "2e87afcd",
   "metadata": {},
   "source": [
    "10. Scenario: A company wants to analyze customer feedback ratings on a scale of 1 to 10. The data collected is\n",
    "\n",
    " as follows:\n",
    "    [8, 9, 7, 6, 8, 10, 9, 8, 7, 8]\n",
    "    Calculate the 75th percentile of the feedback ratings.\n"
   ]
  },
  {
   "cell_type": "code",
   "execution_count": 27,
   "id": "5cd9dbc2",
   "metadata": {},
   "outputs": [
    {
     "data": {
      "text/plain": [
       "8.75"
      ]
     },
     "execution_count": 27,
     "metadata": {},
     "output_type": "execute_result"
    }
   ],
   "source": [
    "\n",
    "data =  [8, 9, 7, 6, 8, 10, 9, 8, 7, 8]\n",
    "\n",
    "index = np.percentile(np.abs(data),75)\n",
    "index"
   ]
  },
  {
   "cell_type": "code",
   "execution_count": 28,
   "id": "b92cd654",
   "metadata": {},
   "outputs": [
    {
     "data": {
      "text/plain": [
       "70.0"
      ]
     },
     "execution_count": 28,
     "metadata": {},
     "output_type": "execute_result"
    }
   ],
   "source": [
    "np.sum(np.abs(data) < index) / len(data) * 100"
   ]
  },
  {
   "cell_type": "markdown",
   "id": "9389d90b",
   "metadata": {},
   "source": [
    "11. Scenario: A quality control department wants to test the weight consistency of a product. The weights of a sample of products are as follows:\n",
    "    [10.2, 9.8, 10.0, 10.5, 10.3, 10.1]\n",
    "    Perform a hypothesis test to determine if the mean weight differs significantly from 10 grams.\n"
   ]
  },
  {
   "cell_type": "code",
   "execution_count": 62,
   "id": "a39a2749",
   "metadata": {},
   "outputs": [
    {
     "data": {
      "text/plain": [
       "(7.9, 6.66963212044085, 9.13036787955915)"
      ]
     },
     "execution_count": 62,
     "metadata": {},
     "output_type": "execute_result"
    }
   ],
   "source": [
    "import math\n",
    "import scipy.stats as stats\n",
    "\n",
    "data1 =  [10.2, 9.8, 10.0, 10.5, 10.3, 10.1]\n",
    "h0= \"Not differ\"\n",
    "h1 = \"differ\"\n",
    "\n",
    "data=[7, 9, 6, 8, 10, 7, 8, 9, 7, 8]\n",
    "#stats.zscore(np.mean(data))\n",
    "\n",
    "import numpy as np\n",
    "import scipy.stats\n",
    "\n",
    "def mean_confidence_interval(data, confidence=0.99):\n",
    "    a = 1.0 * np.array(data)\n",
    "    n = len(a)\n",
    "    m, se = np.mean(a), scipy.stats.sem(a)\n",
    "    h = se * scipy.stats.t.ppf((1 + confidence) / 2., n-1)\n",
    "    return m, m-h, m+h\n",
    "\n",
    "\n",
    "mean_confidence_interval(data)"
   ]
  },
  {
   "cell_type": "markdown",
   "id": "99b07f46",
   "metadata": {},
   "source": [
    "12. Scenario: A company wants to analyze the click-through rates of two different website designs. The number of clicks for each design is as follows:\n",
    "    Design A: [100, 120, 110, 90, 95]\n",
    "    Design B: [80, 85, 90, 95, 100]\n",
    "    Perform a chi-square test to determine if there is a significant difference in the click-through rates between the two designs.\n"
   ]
  },
  {
   "cell_type": "code",
   "execution_count": 51,
   "id": "d7e237a4",
   "metadata": {},
   "outputs": [
    {
     "name": "stdout",
     "output_type": "stream",
     "text": [
      "p value is 0.19103526314060293\n",
      "Independent (H0 holds true)\n"
     ]
    }
   ],
   "source": [
    "A = [100, 120, 110, 90, 95] \n",
    "B = [80, 85, 90, 95, 100] \n",
    "\n",
    "from scipy.stats import chi2_contingency\n",
    " \n",
    "# defining the table\n",
    "data = [A, B]\n",
    "stat, p, dof, expected = chi2_contingency(data)\n",
    " \n",
    "# interpret p-value\n",
    "alpha = 0.05\n",
    "print(\"p value is \" + str(p))\n",
    "if p <= alpha:\n",
    "    print('Dependent (reject H0)')\n",
    "else:\n",
    "    print('Independent (H0 holds true)')"
   ]
  },
  {
   "cell_type": "markdown",
   "id": "a2b9b271",
   "metadata": {},
   "source": [
    "13. Scenario: A survey is conducted to measure customer satisfaction with a product on a scale of 1 to 10. The data collected is as follows:\n",
    "    [7, 9, 6, 8, 10, 7, 8, 9, 7, 8]\n",
    "    Calculate the 95% confidence interval for the population mean satisfaction score.\n",
    "\n"
   ]
  },
  {
   "cell_type": "code",
   "execution_count": 61,
   "id": "3986d9c7",
   "metadata": {},
   "outputs": [
    {
     "data": {
      "text/plain": [
       "(7.9, 7.043561120599888, 8.756438879400113)"
      ]
     },
     "execution_count": 61,
     "metadata": {},
     "output_type": "execute_result"
    }
   ],
   "source": [
    "data=[7, 9, 6, 8, 10, 7, 8, 9, 7, 8]\n",
    "#stats.zscore(np.mean(data))\n",
    "\n",
    "import numpy as np\n",
    "import scipy.stats\n",
    "\n",
    "def mean_confidence_interval(data, confidence=0.95):\n",
    "    a = 1.0 * np.array(data)\n",
    "    n = len(a)\n",
    "    m, se = np.mean(a), scipy.stats.sem(a)\n",
    "    h = se * scipy.stats.t.ppf((1 + confidence) / 2., n-1)\n",
    "    return m, m-h, m+h\n",
    "\n",
    "\n",
    "mean_confidence_interval(data)"
   ]
  },
  {
   "cell_type": "markdown",
   "id": "2a8e8ffa",
   "metadata": {},
   "source": [
    "14. Scenario: A company wants to analyze the effect of temperature on product performance. The data collected is as follows:\n",
    "    Temperature (in degrees Celsius): [20, 22, 23, 19, 21]\n",
    "    Performance (on a scale of 1 to 10): [8, 7, 9, 6, 8]\n",
    "    Perform a simple linear regression to predict performance based on temperature.\n"
   ]
  },
  {
   "cell_type": "code",
   "execution_count": 68,
   "id": "0194aa27",
   "metadata": {},
   "outputs": [
    {
     "name": "stdout",
     "output_type": "stream",
     "text": [
      "0.4807692307692307\n"
     ]
    }
   ],
   "source": [
    "X= [8, 7, 9, 6, 8] \n",
    "y =  [20, 22, 23, 19, 21] \n",
    "\n",
    "\n",
    "import scipy\n",
    "slope, intercept, r_value, p_value, std_err = scipy.stats.linregress(X, y)\n",
    "    \n",
    "print(r_value**2)"
   ]
  },
  {
   "cell_type": "code",
   "execution_count": 76,
   "id": "0a0988fd",
   "metadata": {},
   "outputs": [],
   "source": [
    "import numpy as np\n",
    "import matplotlib.pyplot as plt\n",
    "  \n",
    "from sklearn.linear_model import LinearRegression\n",
    "from sklearn.metrics import mean_squared_error, r2_score\n",
    "import statsmodels.api as sm\n",
    "\n",
    "X= np.array([8, 7, 9, 6, 8])\n",
    "y =  np.array([20, 22, 23, 19, 21]) "
   ]
  },
  {
   "cell_type": "code",
   "execution_count": 78,
   "id": "d6a43e97",
   "metadata": {},
   "outputs": [
    {
     "name": "stdout",
     "output_type": "stream",
     "text": [
      "Slope: [0.96153846]\n",
      "Intercept: 13.692307692307693\n",
      "MSE: 1.03846153846154\n",
      "Root mean squared error:  1.019049330730137\n",
      "R2 score:  0.48076923076922995\n"
     ]
    }
   ],
   "source": [
    "X = X.reshape(-1,1)\n",
    "lr = LinearRegression()\n",
    "\n",
    "lr.fit(X,y)\n",
    "y_predicted = lr.predict(X)\n",
    "mse=mean_squared_error(y,y_predicted)\n",
    "rmse = np.sqrt(mean_squared_error(y, y_predicted))\n",
    "r2 = r2_score(y, y_predicted)\n",
    "\n",
    "print('Slope:' ,lr.coef_)\n",
    "print('Intercept:', lr.intercept_)\n",
    "print('MSE:',mse)\n",
    "print('Root mean squared error: ', rmse)\n",
    "print('R2 score: ', r2)"
   ]
  },
  {
   "cell_type": "code",
   "execution_count": 82,
   "id": "a203e02f",
   "metadata": {},
   "outputs": [
    {
     "data": {
      "text/plain": [
       "(array([21.38461538, 20.42307692, 22.34615385, 19.46153846, 21.38461538]),\n",
       " array([20, 22, 23, 19, 21]))"
      ]
     },
     "execution_count": 82,
     "metadata": {},
     "output_type": "execute_result"
    }
   ],
   "source": [
    "y_predicted, y"
   ]
  },
  {
   "cell_type": "code",
   "execution_count": 80,
   "id": "feea3b21",
   "metadata": {},
   "outputs": [
    {
     "data": {
      "text/plain": [
       "Text(0, 0.5, 'y')"
      ]
     },
     "execution_count": 80,
     "metadata": {},
     "output_type": "execute_result"
    },
    {
     "data": {
      "image/png": "[encoded data removed]",
      "text/plain": [
       "<Figure size 640x480 with 1 Axes>"
      ]
     },
     "metadata": {},
     "output_type": "display_data"
    }
   ],
   "source": [
    "plt.scatter(X, y, color = 'red')\n",
    "plt.plot(X, y_predicted, color = 'green')\n",
    "plt.xlabel('X')\n",
    "plt.ylabel('y')"
   ]
  },
  {
   "cell_type": "markdown",
   "id": "418b93a4",
   "metadata": {},
   "source": [
    "15. Scenario: A study is conducted to compare the preferences of two groups of participants. The preferences are measured on a Likert scale from 1 to 5. The data collected is as follows:\n",
    "    Group A: [4, 3, 5, 2, 4]\n",
    "    Group B: [3, 2, 4, 3, 3]\n",
    "    Perform a Mann-Whitney U test to determine if there is a significant difference in the median preferences between the two groups.\n"
   ]
  },
  {
   "cell_type": "code",
   "execution_count": 84,
   "id": "91ea081e",
   "metadata": {},
   "outputs": [
    {
     "name": "stdout",
     "output_type": "stream",
     "text": [
      "Statistics=17.00, p=0.38\n",
      "Do not Reject Null Hypothesis (No significant difference between two samples)\n"
     ]
    }
   ],
   "source": [
    "A = [4, 3, 5, 2, 4]\n",
    "B= [3, 2, 4, 3, 3] \n",
    "\n",
    "from scipy.stats import mannwhitneyu\n",
    "\n",
    "stat, p_value = mannwhitneyu(A, B)\n",
    "print('Statistics=%.2f, p=%.2f' % (stat, p_value))\n",
    "\n",
    "alpha = 0.05\n",
    "if p_value < alpha:\n",
    "    print('Reject Null Hypothesis (Significant difference between two samples)')\n",
    "else:\n",
    "    print('Do not Reject Null Hypothesis (No significant difference between two samples)')\n"
   ]
  },
  {
   "cell_type": "markdown",
   "id": "e2a9d824",
   "metadata": {},
   "source": [
    "16. Scenario: A company wants to analyze the distribution of customer ages. The data collected is as follows:\n",
    "    [25, 30, 35, 40, 45, 50, 55, 60, 65, 70]\n",
    "    Calculate the interquartile range (IQR) of the ages.\n",
    "\n"
   ]
  },
  {
   "cell_type": "code",
   "execution_count": 85,
   "id": "4c648813",
   "metadata": {},
   "outputs": [
    {
     "data": {
      "text/plain": [
       "22.5"
      ]
     },
     "execution_count": 85,
     "metadata": {},
     "output_type": "execute_result"
    }
   ],
   "source": [
    "data = [25, 30, 35, 40, 45, 50, 55, 60, 65, 70]\n",
    "\n",
    "import numpy as np\n",
    "\n",
    "data = np.array(data)\n",
    "q3, q1 = np.percentile(data, [75 ,25])\n",
    "iqr = q3 - q1\n",
    "iqr"
   ]
  },
  {
   "cell_type": "markdown",
   "id": "518b7880",
   "metadata": {},
   "source": [
    "17. Scenario: A study is conducted to compare the performance of three different machine learning algorithms. The accuracy scores for each algorithm are as follows:\n",
    "    Algorithm A: [0.85, 0.80, 0.82, 0.87, 0.83]\n",
    "    Algorithm B: [0.78, 0.82, 0.84, 0.80, 0.79]\n",
    "    Algorithm C: [0.90, 0.88, 0.89, 0.86, 0.87]\n",
    "    Perform a Kruskal-Wallis test to determine if there is a significant difference in the median accuracy scores between the algorithms.\n"
   ]
  },
  {
   "cell_type": "code",
   "execution_count": 86,
   "id": "3bb309a8",
   "metadata": {},
   "outputs": [
    {
     "name": "stdout",
     "output_type": "stream",
     "text": [
      "KruskalResult(statistic=9.696947935368053, pvalue=0.007840333026249539)\n"
     ]
    }
   ],
   "source": [
    "Algorithm_A= [0.85, 0.80, 0.82, 0.87, 0.83]\n",
    "Algorithm_B= [0.78, 0.82, 0.84, 0.80, 0.79]\n",
    "Algorithm_C= [0.90, 0.88, 0.89, 0.86, 0.87]\n",
    "result = stats.kruskal(Algorithm_A, Algorithm_B, Algorithm_C)\n",
    "print(result)"
   ]
  },
  {
   "cell_type": "markdown",
   "id": "6f5608a5",
   "metadata": {},
   "source": [
    "18. Scenario: A company wants to analyze the effect of price on sales. The data collected is as follows:\n",
    "    Price (in dollars): [10, 15, 12, 8, 14]\n",
    "    Sales: [100, 80, 90, 110, 95]\n",
    "    Perform a simple linear regression to predict\n",
    "\n",
    " sales based on price.\n"
   ]
  },
  {
   "cell_type": "code",
   "execution_count": null,
   "id": "a04712af",
   "metadata": {},
   "outputs": [],
   "source": [
    "X= [10, 15, 12, 8, 14] \n",
    "y= [100, 80, 90, 110, 95] "
   ]
  },
  {
   "cell_type": "code",
   "execution_count": 90,
   "id": "a015a187",
   "metadata": {},
   "outputs": [
    {
     "name": "stdout",
     "output_type": "stream",
     "text": [
      "Slope: [-3.50609756]\n",
      "Intercept: 136.3719512195122\n",
      "MSE: 19.35975609756095\n",
      "Root mean squared error:  4.399972283726449\n",
      "R2 score:  0.8064024390243905\n"
     ]
    }
   ],
   "source": [
    "X = X.reshape(-1,1)\n",
    "lr = LinearRegression()\n",
    "\n",
    "lr.fit(X,y)\n",
    "y_predicted = lr.predict(X)\n",
    "mse=mean_squared_error(y,y_predicted)\n",
    "rmse = np.sqrt(mean_squared_error(y, y_predicted))\n",
    "r2 = r2_score(y, y_predicted)\n",
    "\n",
    "print('Slope:' ,lr.coef_)\n",
    "print('Intercept:', lr.intercept_)\n",
    "print('MSE:',mse)\n",
    "print('Root mean squared error: ', rmse)\n",
    "print('R2 score: ', r2)"
   ]
  },
  {
   "cell_type": "code",
   "execution_count": 91,
   "id": "878a1558",
   "metadata": {},
   "outputs": [
    {
     "data": {
      "text/plain": [
       "Text(0, 0.5, 'y')"
      ]
     },
     "execution_count": 91,
     "metadata": {},
     "output_type": "execute_result"
    },
    {
     "data": {
      "image/png": "[encoded data removed]",
      "text/plain": [
       "<Figure size 640x480 with 1 Axes>"
      ]
     },
     "metadata": {},
     "output_type": "display_data"
    }
   ],
   "source": [
    "plt.scatter(X, y, color = 'red')\n",
    "plt.plot(X, y_predicted, color = 'green')\n",
    "plt.xlabel('X')\n",
    "plt.ylabel('y')"
   ]
  },
  {
   "cell_type": "markdown",
   "id": "9d959bff",
   "metadata": {},
   "source": [
    "19. Scenario: A survey is conducted to measure the satisfaction levels of customers with a new product. The data collected is as follows:\n",
    "    [7, 8, 9, 6, 8, 7, 9, 7, 8, 7]\n",
    "    Calculate the standard error of the mean satisfaction score.\n",
    "\n"
   ]
  },
  {
   "cell_type": "code",
   "execution_count": 92,
   "id": "6b48280b",
   "metadata": {},
   "outputs": [
    {
     "data": {
      "text/plain": [
       "0.30550504633038933"
      ]
     },
     "execution_count": 92,
     "metadata": {},
     "output_type": "execute_result"
    }
   ],
   "source": [
    "data = [7, 8, 9, 6, 8, 7, 9, 7, 8, 7]\n",
    "\n",
    "from scipy.stats import sem\n",
    "sem(data)"
   ]
  },
  {
   "cell_type": "markdown",
   "id": "86d7ea33",
   "metadata": {},
   "source": [
    "\n",
    "\n",
    "20. Scenario: A company wants to analyze the relationship between advertising expenditure and sales. The data collected is as follows:\n",
    "    Advertising Expenditure (in thousands): [10, 15, 12, 8, 14]\n",
    "    Sales (in thousands): [25, 30, 28, 20, 26]\n",
    "    Perform a multiple regression analysis to predict sales based on advertising expenditure."
   ]
  },
  {
   "cell_type": "code",
   "execution_count": 98,
   "id": "6e2b529b",
   "metadata": {},
   "outputs": [],
   "source": [
    "X= np.array([10, 15, 12, 8, 14])\n",
    "y= [25, 30, 28, 20, 26]"
   ]
  },
  {
   "cell_type": "code",
   "execution_count": 99,
   "id": "4c4e649d",
   "metadata": {},
   "outputs": [
    {
     "name": "stdout",
     "output_type": "stream",
     "text": [
      "Slope: [1.15243902]\n",
      "Intercept: 12.20121951219512\n",
      "MSE: 2.647560975609756\n",
      "Root mean squared error:  1.6271327467695302\n",
      "R2 score:  0.7669400549639299\n"
     ]
    }
   ],
   "source": [
    "X = X.reshape(-1,1)\n",
    "lr = LinearRegression()\n",
    "\n",
    "lr.fit(X,y)\n",
    "y_predicted = lr.predict(X)\n",
    "mse=mean_squared_error(y,y_predicted)  \n",
    "rmse = np.sqrt(mean_squared_error(y, y_predicted))\n",
    "r2 = r2_score(y, y_predicted)\n",
    "\n",
    "print('Slope:' ,lr.coef_)\n",
    "print('Intercept:', lr.intercept_)\n",
    "print('MSE:',mse)\n",
    "print('Root mean squared error: ', rmse)\n",
    "print('R2 score: ', r2)"
   ]
  },
  {
   "cell_type": "code",
   "execution_count": 100,
   "id": "eb8bd494",
   "metadata": {},
   "outputs": [
    {
     "data": {
      "text/plain": [
       "Text(0, 0.5, 'y')"
      ]
     },
     "execution_count": 100,
     "metadata": {},
     "output_type": "execute_result"
    },
    {
     "data": {
      "image/png": "[encoded data removed]",
      "text/plain": [
       "<Figure size 640x480 with 1 Axes>"
      ]
     },
     "metadata": {},
     "output_type": "display_data"
    }
   ],
   "source": [
    "plt.scatter(X, y, color = 'red')\n",
    "plt.plot(X, y_predicted, color = 'green')\n",
    "plt.xlabel('X')\n",
    "plt.ylabel('y')"
   ]
  },
  {
   "cell_type": "code",
   "execution_count": null,
   "id": "886cafdc",
   "metadata": {},
   "outputs": [],
   "source": []
  }
 ],
 "metadata": {
  "kernelspec": {
   "display_name": "Python 3 (ipykernel)",
   "language": "python",
   "name": "python3"
  },
  "language_info": {
   "codemirror_mode": {
    "name": "ipython",
    "version": 3
   },
   "file_extension": ".py",
   "mimetype": "text/x-python",
   "name": "python",
   "nbconvert_exporter": "python",
   "pygments_lexer": "ipython3",
   "version": "3.10.9"
  }
 },
 "nbformat": 4,
 "nbformat_minor": 5
}
