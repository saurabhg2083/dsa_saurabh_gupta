{
 "cells": [
  {
   "cell_type": "markdown",
   "id": "86f6f253",
   "metadata": {},
   "source": [
    "##### Assignment 18 Questions - Linked List | DSA\n",
    "\n",
    "https://pwskills.notion.site/Assignment-Questions-18-db358f9e35814b5699027313c6e2fc11"
   ]
  },
  {
   "cell_type": "markdown",
   "id": "c33f29a8",
   "metadata": {},
   "source": [
    "#### Question 1\n",
    "\n",
    "Given an array of intervals where intervals[i] = [starti, endi], merge all overlapping intervals, and return an array of the non-overlapping intervals that cover all the intervals in the input."
   ]
  },
  {
   "cell_type": "code",
   "execution_count": 1,
   "id": "18d34f7a",
   "metadata": {},
   "outputs": [
    {
     "data": {
      "text/plain": [
       "[[1, 6], [8, 10], [15, 18]]"
      ]
     },
     "execution_count": 1,
     "metadata": {},
     "output_type": "execute_result"
    }
   ],
   "source": [
    "\n",
    "def merge(intervals):\n",
    "    if not intervals:\n",
    "        return []\n",
    "\n",
    "    merged = []\n",
    "    intervals.sort(key=lambda x: x[0])\n",
    "    \n",
    "    prev = intervals[0]\n",
    "\n",
    "    for interval in intervals[1:]:\n",
    "        if interval[0] <= prev[1]:\n",
    "            prev[1] = max(prev[1], interval[1])\n",
    "        else:\n",
    "            merged.append(prev)\n",
    "            prev = interval\n",
    "\n",
    "    merged.append(prev)\n",
    "\n",
    "    return merged\n",
    "\n",
    "merge([[1,3],[2,6],[8,10],[15,18]])"
   ]
  },
  {
   "cell_type": "markdown",
   "id": "a5034378",
   "metadata": {},
   "source": [
    "#### Question 2\n",
    "\n",
    "Given an array nums with n objects colored red, white, or blue, sort them in-place so that objects of the same color are adjacent, with the colors in the order red, white, and blue."
   ]
  },
  {
   "cell_type": "code",
   "execution_count": 3,
   "id": "9b55bd29",
   "metadata": {},
   "outputs": [
    {
     "data": {
      "text/plain": [
       "[0, 0, 1, 1, 2, 2]"
      ]
     },
     "execution_count": 3,
     "metadata": {},
     "output_type": "execute_result"
    }
   ],
   "source": [
    "def sortColors(nums):\n",
    "    if len(nums)==1:\n",
    "        return nums\n",
    "    \n",
    "    m0=nums.count(0)\n",
    "    m1=m0+nums.count(1)\n",
    "    m2=m1+nums.count(2)\n",
    "    \n",
    "    j=0\n",
    "    while(j<len(nums)):\n",
    "        if j<m0:\n",
    "            nums[j]=0\n",
    "        elif j<m1:\n",
    "            nums[j]=1\n",
    "        elif j<m2:\n",
    "            nums[j]=2\n",
    "        j=j+1\n",
    "    return nums\n",
    "\n",
    "sortColors([2,0,2,1,1,0])"
   ]
  },
  {
   "cell_type": "markdown",
   "id": "386d84e3",
   "metadata": {},
   "source": [
    "#### Question 3"
   ]
  },
  {
   "cell_type": "code",
   "execution_count": 5,
   "id": "7e90e058",
   "metadata": {
    "scrolled": true
   },
   "outputs": [],
   "source": [
    "def firstBadVersion(n):\n",
    "    if n < 2:\n",
    "        if isBadVersion(n):\n",
    "            return n\n",
    "        return -1\n",
    "    # [1, 2, 3, 4, 5]\n",
    "    l, r = 1, n\n",
    "    first_bad_version = None\n",
    "    while l < r:\n",
    "        m = (l + r) // 2\n",
    "        if isBadVersion(m) is True:\n",
    "            first_bad_version = m\n",
    "            r = m\n",
    "        else:\n",
    "            l = m + 1\n",
    "    if isBadVersion(l) and l != first_bad_version:\n",
    "            return l\n",
    "    return first_bad_version\n",
    "\n"
   ]
  },
  {
   "cell_type": "markdown",
   "id": "d02114d4",
   "metadata": {},
   "source": [
    "#### Question 4\n",
    "\n"
   ]
  },
  {
   "cell_type": "code",
   "execution_count": 6,
   "id": "299bd5de",
   "metadata": {},
   "outputs": [],
   "source": []
  },
  {
   "cell_type": "markdown",
   "id": "999b2d26",
   "metadata": {},
   "source": [
    "#### Question 5\n",
    "\n"
   ]
  },
  {
   "cell_type": "code",
   "execution_count": 7,
   "id": "1a522323",
   "metadata": {},
   "outputs": [
    {
     "data": {
      "text/plain": [
       "True"
      ]
     },
     "execution_count": 7,
     "metadata": {},
     "output_type": "execute_result"
    }
   ],
   "source": [
    "def containsDuplicate(nums):\n",
    "    hset={}\n",
    "    for i in nums:\n",
    "        if i in hset:\n",
    "            return True\n",
    "        hset[i]=1\n",
    "    return False\n",
    "\n",
    "nums=[1,2,3,1]\n",
    "containsDuplicate(nums)"
   ]
  },
  {
   "cell_type": "markdown",
   "id": "2f21c68d",
   "metadata": {},
   "source": [
    "#### Question 6\n",
    "\n"
   ]
  },
  {
   "cell_type": "code",
   "execution_count": null,
   "id": "0bc4cf96",
   "metadata": {},
   "outputs": [],
   "source": []
  },
  {
   "cell_type": "markdown",
   "id": "533d0cc9",
   "metadata": {},
   "source": [
    "#### Question 7\n",
    "\n"
   ]
  },
  {
   "cell_type": "code",
   "execution_count": null,
   "id": "169c599c",
   "metadata": {
    "scrolled": true
   },
   "outputs": [],
   "source": []
  },
  {
   "cell_type": "markdown",
   "id": "388e38a8",
   "metadata": {},
   "source": [
    "#### Question 8\n",
    "\n"
   ]
  },
  {
   "cell_type": "code",
   "execution_count": 10,
   "id": "3060f747",
   "metadata": {},
   "outputs": [
    {
     "data": {
      "text/plain": [
       "True"
      ]
     },
     "execution_count": 10,
     "metadata": {},
     "output_type": "execute_result"
    }
   ],
   "source": [
    "def find132pattern(nums):\n",
    "    stack = []\n",
    "    s2 = float('-inf')\n",
    "    for i in nums[::-1]:\n",
    "        if i<s2: \n",
    "            return True\n",
    "        while stack and i>stack[-1]: \n",
    "            s2 = stack.pop()\n",
    "        stack.append(i)\n",
    "    return False\n",
    "\n",
    "\n",
    "nums = [1,3,2,4]\n",
    "find132pattern(nums)"
   ]
  },
  {
   "cell_type": "code",
   "execution_count": null,
   "id": "218a5660",
   "metadata": {},
   "outputs": [],
   "source": []
  },
  {
   "cell_type": "code",
   "execution_count": null,
   "id": "d1beb93d",
   "metadata": {},
   "outputs": [],
   "source": []
  }
 ],
 "metadata": {
  "kernelspec": {
   "display_name": "Python 3 (ipykernel)",
   "language": "python",
   "name": "python3"
  },
  "language_info": {
   "codemirror_mode": {
    "name": "ipython",
    "version": 3
   },
   "file_extension": ".py",
   "mimetype": "text/x-python",
   "name": "python",
   "nbconvert_exporter": "python",
   "pygments_lexer": "ipython3",
   "version": "3.10.9"
  }
 },
 "nbformat": 4,
 "nbformat_minor": 5
}
