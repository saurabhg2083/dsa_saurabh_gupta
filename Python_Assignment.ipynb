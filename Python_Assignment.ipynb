{
 "cells": [
  {
   "cell_type": "code",
   "execution_count": 4,
   "id": "21bb4d36",
   "metadata": {},
   "outputs": [
    {
     "name": "stdout",
     "output_type": "stream",
     "text": [
      "Reversed string: atpuG hbaruaS\n"
     ]
    }
   ],
   "source": [
    "# 1. Write a Python program to reverse a string without using any built-in string reversal functions\n",
    "\n",
    "my_string=(\"Saurabh Gupta\")\n",
    "str=\"\"\n",
    "for i in my_string:\n",
    "    str=i+str\n",
    "print(\"Reversed string:\",str)"
   ]
  },
  {
   "cell_type": "code",
   "execution_count": 5,
   "id": "641a38d0",
   "metadata": {},
   "outputs": [
    {
     "name": "stdout",
     "output_type": "stream",
     "text": [
      "atpuG hbaruaS\n"
     ]
    }
   ],
   "source": [
    "print(my_string[::-1])"
   ]
  },
  {
   "cell_type": "code",
   "execution_count": 8,
   "id": "f2493db4",
   "metadata": {},
   "outputs": [
    {
     "name": "stdout",
     "output_type": "stream",
     "text": [
      "No\n",
      "Yes\n"
     ]
    }
   ],
   "source": [
    "# 2. Implement a function to check if a given string is a palindrome.\n",
    "\n",
    "def isPalindrome(s):\n",
    "    return s == s[::-1]\n",
    "\n",
    "s = \"Saurabh Gupta\"\n",
    "ans = isPalindrome(s)\n",
    "\n",
    "if ans:\n",
    "    print(\"Yes\")\n",
    "else:\n",
    "    print(\"No\")\n",
    "    \n",
    "s = \"abcddcba\"\n",
    "ans = isPalindrome(s)\n",
    "\n",
    "if ans:\n",
    "    print(\"Yes\")\n",
    "else:\n",
    "    print(\"No\")\n"
   ]
  },
  {
   "cell_type": "code",
   "execution_count": 16,
   "id": "9a9900bf",
   "metadata": {},
   "outputs": [
    {
     "name": "stdout",
     "output_type": "stream",
     "text": [
      "Largest element is: 99\n"
     ]
    }
   ],
   "source": [
    "# 3. Write a program to find the largest element in a given list.\n",
    "\n",
    "list1 = [10, 20, 4, 45, 99]\n",
    "list1.sort()\n",
    "print(\"Largest element is:\", list1[-1])"
   ]
  },
  {
   "cell_type": "code",
   "execution_count": 17,
   "id": "6be9277f",
   "metadata": {},
   "outputs": [
    {
     "name": "stdout",
     "output_type": "stream",
     "text": [
      "Largest element is: 99\n"
     ]
    }
   ],
   "source": [
    "print(\"Largest element is:\", max(list1))"
   ]
  },
  {
   "cell_type": "code",
   "execution_count": 21,
   "id": "2fb541af",
   "metadata": {},
   "outputs": [
    {
     "name": "stdout",
     "output_type": "stream",
     "text": [
      "5\n"
     ]
    }
   ],
   "source": [
    "# 4. Implement a function to count the occurrence of each element in a list.\n",
    "\n",
    "def countX(lst, x):\n",
    "    count = 0\n",
    "    for ele in lst:\n",
    "        if (ele == x):\n",
    "            count = count + 1\n",
    "    return count\n",
    "\n",
    "lst = [8, 6, 8, 10, 8, 20, 10, 8, 8]\n",
    "x = 8\n",
    "print(countX(lst, x))\n"
   ]
  },
  {
   "cell_type": "code",
   "execution_count": 22,
   "id": "3371b4ef",
   "metadata": {},
   "outputs": [
    {
     "data": {
      "text/plain": [
       "8     5\n",
       "10    2\n",
       "6     1\n",
       "20    1\n",
       "dtype: int64"
      ]
     },
     "execution_count": 22,
     "metadata": {},
     "output_type": "execute_result"
    }
   ],
   "source": [
    "import pandas as pd\n",
    "l = [8, 6, 8, 10, 8, 20, 10, 8, 8]\n",
    " \n",
    "pd.Series(l).value_counts()"
   ]
  },
  {
   "cell_type": "code",
   "execution_count": 25,
   "id": "66dff397",
   "metadata": {},
   "outputs": [
    {
     "name": "stdout",
     "output_type": "stream",
     "text": [
      "Second highest number is :  45\n"
     ]
    }
   ],
   "source": [
    "# 5. Write a Python program to find the second largest number in a list.\n",
    "\n",
    "list1 = [10, 20, 4, 45, 99]\n",
    "\n",
    "mx = max(list1[0], list1[1])\n",
    "secondmax = min(list1[0], list1[1])\n",
    "n = len(list1)\n",
    "for i in range(2,n):\n",
    "    if list1[i] > mx:\n",
    "        secondmax = mx\n",
    "        mx = list1[i]\n",
    "    elif list1[i] > secondmax and mx != list1[i]:\n",
    "        secondmax = list1[i]\n",
    "    elif mx == secondmax and secondmax != list1[i]:\n",
    "        secondmax = list1[i]\n",
    "\n",
    "print(\"Second highest number is : \",secondmax)\n"
   ]
  },
  {
   "cell_type": "code",
   "execution_count": 30,
   "id": "e67a4863",
   "metadata": {},
   "outputs": [
    {
     "name": "stdout",
     "output_type": "stream",
     "text": [
      "Original List:  [1, 2, 4, 2, 1, 4, 5]\n",
      "List after removing duplicate elements:  [1, 2, 4, 5]\n"
     ]
    }
   ],
   "source": [
    "# 6. Implement a function to remove duplicate elements from a list.\n",
    "l = [1, 2, 4, 2, 1, 4, 5]\n",
    "print(\"Original List: \", l)\n",
    "res = [*set(l)]\n",
    "print(\"List after removing duplicate elements: \", res)"
   ]
  },
  {
   "cell_type": "code",
   "execution_count": 32,
   "id": "da7ffff0",
   "metadata": {},
   "outputs": [
    {
     "name": "stdout",
     "output_type": "stream",
     "text": [
      "120\n"
     ]
    }
   ],
   "source": [
    "# 7. Write a program to calculate the factorial of a given number.\n",
    "\n",
    "def factorial(x):\n",
    "    if x == 1:\n",
    "        return 1\n",
    "    else:\n",
    "        return (x * factorial(x-1))\n",
    "\n",
    "num = 5\n",
    "print(factorial(num))"
   ]
  },
  {
   "cell_type": "code",
   "execution_count": 33,
   "id": "5916bfc4",
   "metadata": {},
   "outputs": [
    {
     "name": "stdout",
     "output_type": "stream",
     "text": [
      "11 is a prime number\n"
     ]
    }
   ],
   "source": [
    "# 8. Implement a function to check if a given number is prime.\n",
    "num = 11\n",
    "if num > 1:\n",
    "    for i in range(2, int(num/2)+1):\n",
    "        if (num % i) == 0:\n",
    "            print(num, \"is not a prime number\")\n",
    "            break\n",
    "    else:\n",
    "        print(num, \"is a prime number\")\n",
    "else:\n",
    "    print(num, \"is not a prime number\")"
   ]
  },
  {
   "cell_type": "code",
   "execution_count": 37,
   "id": "527a0beb",
   "metadata": {},
   "outputs": [
    {
     "name": "stdout",
     "output_type": "stream",
     "text": [
      "[1, 1, 2, 2, 4, 4, 5]\n"
     ]
    }
   ],
   "source": [
    "# 9. Write a Python program to sort a list of integers in ascending order.\n",
    "\n",
    "arr=[1, 2, 4, 2, 1, 4, 5]\n",
    "n=len(arr)\n",
    "arr.sort(reverse=False)\n",
    "print(arr)"
   ]
  },
  {
   "cell_type": "code",
   "execution_count": 40,
   "id": "1f11733b",
   "metadata": {},
   "outputs": [
    {
     "name": "stdout",
     "output_type": "stream",
     "text": [
      "20\n"
     ]
    }
   ],
   "source": [
    "# 10. Implement a function to find the sum of all numbers in a list.\n",
    "def sum(numbers):\n",
    "    total = 0\n",
    "    for x in numbers:\n",
    "        total += x\n",
    "    return total\n",
    "print(sum([8, 2, 3, 0, 7]))"
   ]
  },
  {
   "cell_type": "code",
   "execution_count": 41,
   "id": "211a4dca",
   "metadata": {},
   "outputs": [
    {
     "name": "stdout",
     "output_type": "stream",
     "text": [
      "{5}\n",
      "No common elements\n"
     ]
    }
   ],
   "source": [
    "# 11. Write a program to find the common elements between two lists.\n",
    "\n",
    "def common_member(a, b):\n",
    "    a_set = set(a)\n",
    "    b_set = set(b)\n",
    "\n",
    "    if (a_set & b_set):\n",
    "        print(a_set & b_set)\n",
    "    else:\n",
    "        print(\"No common elements\")\n",
    "\n",
    "\n",
    "a = [1, 2, 3, 4, 5]\n",
    "b = [5, 6, 7, 8, 9]\n",
    "common_member(a, b)\n",
    "\n",
    "a = [1, 2, 3, 4, 5]\n",
    "b = [6, 7, 8, 9]\n",
    "common_member(a, b)\n"
   ]
  },
  {
   "cell_type": "code",
   "execution_count": 47,
   "id": "1af0c6e5",
   "metadata": {},
   "outputs": [
    {
     "name": "stdout",
     "output_type": "stream",
     "text": [
      "Anagram - YES\n"
     ]
    }
   ],
   "source": [
    "# 12. Implement a function to check if a given string is an anagram of another string.\n",
    "\n",
    "def isAnagram(a, b):\n",
    "    if sorted(a) == sorted(b):\n",
    "        return True\n",
    "    else:\n",
    "        return False\n",
    "\n",
    "a = \"gram\"\n",
    "b = \"armg\"\n",
    "if(isAnagram(a, b)):\n",
    "    print(\"Anagram - YES\")\n",
    "else:\n",
    "    print(\"Anagram - NO\")"
   ]
  },
  {
   "cell_type": "code",
   "execution_count": 49,
   "id": "e487c157",
   "metadata": {},
   "outputs": [
    {
     "name": "stdout",
     "output_type": "stream",
     "text": [
      "abc\n",
      "acb\n",
      "bac\n",
      "bca\n",
      "cab\n",
      "cba\n"
     ]
    }
   ],
   "source": [
    "# 13. Write a Python program to generate all permutations of a given string.\n",
    "\n",
    "import itertools\n",
    "\n",
    "string = \"abc\"\n",
    "permutaion_list = list(itertools.permutations(string))\n",
    "for tup in permutaion_list:\n",
    "    print(\"\".join(tup))"
   ]
  },
  {
   "cell_type": "code",
   "execution_count": 61,
   "id": "63ea786e",
   "metadata": {},
   "outputs": [
    {
     "name": "stdout",
     "output_type": "stream",
     "text": [
      "([0, 1, 1, 2, 3, 5, 8, 13, 21, 34], 34)\n"
     ]
    }
   ],
   "source": [
    "# 14. Implement a function to calculate the Fibonacci sequence up to a given number of terms.\n",
    "\n",
    "def fibonacci(n):\n",
    "    if n == 0:\n",
    "        f = [0]\n",
    "    elif n == 1:\n",
    "        f = [0, 1]\n",
    "    else:\n",
    "        f = [0, 1]\n",
    "        for i in range(2, n+1):\n",
    "            f.append(f[i-1] + f[i-2])\n",
    "    \n",
    "    return f,f[n]\n",
    "    \n",
    "print(fibonacci(9))"
   ]
  },
  {
   "cell_type": "code",
   "execution_count": 72,
   "id": "e06fb872",
   "metadata": {},
   "outputs": [
    {
     "name": "stdout",
     "output_type": "stream",
     "text": [
      "Median of list is :  8.5\n"
     ]
    }
   ],
   "source": [
    "# 15. Write a program to find the median of a list of numbers.\n",
    "\n",
    "test_list = [4, 5, 8, 9, 10, 17]\n",
    "test_list.sort()\n",
    "n = len(test_list)\n",
    "\n",
    "if n % 2 == 0:\n",
    "    median = (test_list[n//2 - 1] + test_list[n//2]) / 2\n",
    "else:\n",
    "    median = test_list[n//2]\n",
    "\n",
    "print(\"Median of list is : \", median)\n"
   ]
  },
  {
   "cell_type": "code",
   "execution_count": 90,
   "id": "e76cddca",
   "metadata": {},
   "outputs": [
    {
     "name": "stdout",
     "output_type": "stream",
     "text": [
      "No, List is not sorted.\n"
     ]
    }
   ],
   "source": [
    "# 16. Implement a function to check if a given list is sorted in non-decreasing order.\n",
    "\n",
    "test_list = [1, 4, 6, 5, 8, 10]\n",
    "flag = 0\n",
    "i = 1\n",
    "while i < len(test_list):\n",
    "    if(test_list[i] < test_list[i - 1]):\n",
    "        flag = 1\n",
    "        break\n",
    "    i += 1\n",
    "\n",
    "if (not flag) :\n",
    "    print (\"Yes, List is sorted.\")\n",
    "else :\n",
    "    print (\"No, List is not sorted.\")\n"
   ]
  },
  {
   "cell_type": "code",
   "execution_count": 94,
   "id": "5cac1e52",
   "metadata": {},
   "outputs": [
    {
     "name": "stdout",
     "output_type": "stream",
     "text": [
      "[9, 11, 26, 28]\n",
      "[9, 26, 11, 28]\n"
     ]
    }
   ],
   "source": [
    "# 17. Write a Python program to find the intersection of two lists.\n",
    "\n",
    "lst1 = [4, 9, 1, 17, 11, 26, 28, 54, 69]\n",
    "lst2 = [9, 9, 74, 21, 45, 11, 63, 28, 26]\n",
    "print([value for value in lst1 if value in lst2])\n",
    "\n",
    "print(list(set(lst1) & set(lst2)))\n"
   ]
  },
  {
   "cell_type": "code",
   "execution_count": 95,
   "id": "b9010e0d",
   "metadata": {},
   "outputs": [
    {
     "name": "stdout",
     "output_type": "stream",
     "text": [
      "16\n"
     ]
    }
   ],
   "source": [
    "# 18. Implement a function to find the maximum subarray sum in a given list.\n",
    "def maximumSubarraySum(arr):\n",
    "    n = len(arr)\n",
    "    maxSum = -1e8\n",
    "\n",
    "    for i in range(0, n):\n",
    "        currSum = 0\n",
    "        for j in range(i, n):\n",
    "            currSum = currSum + arr[j]\n",
    "            if(currSum > maxSum):\n",
    "                maxSum = currSum\n",
    "\n",
    "    return maxSum\n",
    "\n",
    "a = [1, 3, 8, -2, 6, -8, 5];\n",
    "print(maximumSubarraySum(a))"
   ]
  },
  {
   "cell_type": "code",
   "execution_count": 96,
   "id": "c51628d9",
   "metadata": {},
   "outputs": [
    {
     "name": "stdout",
     "output_type": "stream",
     "text": [
      "My nm s Srbh Gpt\n"
     ]
    }
   ],
   "source": [
    "# 19. Write a program to remove all vowels from a given string.\n",
    "\n",
    "def rem_vowel(string):\n",
    "    vowels = ['a','e','i','o','u']\n",
    "    result = [letter for letter in string if letter.lower() not in vowels]\n",
    "    result = ''.join(result)\n",
    "    print(result)\n",
    "\n",
    "string = \"My name is Saurabh Gupta\"\n",
    "rem_vowel(string)\n"
   ]
  },
  {
   "cell_type": "code",
   "execution_count": 97,
   "id": "4ea43168",
   "metadata": {},
   "outputs": [
    {
     "data": {
      "text/plain": [
       "'sentence given a in words of order the reverse to function a Implement'"
      ]
     },
     "execution_count": 97,
     "metadata": {},
     "output_type": "execute_result"
    }
   ],
   "source": [
    "# 20. Implement a function to reverse the order of words in a given sentence.\n",
    "\n",
    "def reverseWords(sentence):\n",
    "    temp=sentence.split()\n",
    "    temp.reverse()\n",
    "    ans=\" \".join(temp)\n",
    "    return ans\n",
    "\n",
    "sentence = \"Implement a function to reverse the order of words in a given sentence\"\n",
    "reverseWords(sentence)"
   ]
  },
  {
   "cell_type": "code",
   "execution_count": 98,
   "id": "ed589878",
   "metadata": {},
   "outputs": [
    {
     "name": "stdout",
     "output_type": "stream",
     "text": [
      "Anagram - YES\n"
     ]
    }
   ],
   "source": [
    "# 21. Write a Python program to check if two strings are anagrams of each other.\n",
    "def isAnagram(a, b):\n",
    "    if sorted(a) == sorted(b):\n",
    "        return True\n",
    "    else:\n",
    "        return False\n",
    "\n",
    "a = \"gram\"\n",
    "b = \"armg\"\n",
    "if(isAnagram(a, b)):\n",
    "    print(\"Anagram - YES\")\n",
    "else:\n",
    "    print(\"Anagram - NO\")"
   ]
  },
  {
   "cell_type": "code",
   "execution_count": 113,
   "id": "9646f015",
   "metadata": {},
   "outputs": [
    {
     "name": "stdout",
     "output_type": "stream",
     "text": [
      "First non-repeating character is c\n"
     ]
    },
    {
     "data": {
      "text/plain": [
       "'No'"
      ]
     },
     "execution_count": 113,
     "metadata": {},
     "output_type": "execute_result"
    }
   ],
   "source": [
    "# 22. Implement a function to find the first non-repeating character in a string.\n",
    "\n",
    "def FirstNonRepeat(s):\n",
    "    for i in s:\n",
    "        if (s.find(i, (s.find(i)+1))) == -1:\n",
    "            print(\"First non-repeating character is\", i)\n",
    "            break\n",
    "    return \"No\"\n",
    "\n",
    "\n",
    "\n",
    "s = 'aabbc'\n",
    "\n",
    "FirstNonRepeat(s)"
   ]
  },
  {
   "cell_type": "code",
   "execution_count": 120,
   "id": "63d51940",
   "metadata": {},
   "outputs": [
    {
     "name": "stdout",
     "output_type": "stream",
     "text": [
      "3\n",
      "3\n",
      "5\n",
      "7\n"
     ]
    }
   ],
   "source": [
    "# 23. Write a program to find the prime factors of a given number.\n",
    "\n",
    "import math\n",
    "def primeFactors(n):\n",
    "    while n % 2 == 0:\n",
    "        print(2)\n",
    "        n = n / 2\n",
    "\n",
    "    for i in range(3,int(math.sqrt(n))+1,2):\n",
    "        while n % i== 0:\n",
    "            print(i)\n",
    "            n = n / i\n",
    "\n",
    "    if n > 2:\n",
    "        print(n)\n",
    "\n",
    "\n",
    "n = 315\n",
    "primeFactors(n)\n"
   ]
  },
  {
   "cell_type": "code",
   "execution_count": 121,
   "id": "859bb3e1",
   "metadata": {},
   "outputs": [
    {
     "name": "stdout",
     "output_type": "stream",
     "text": [
      "No\n",
      "Yes\n"
     ]
    }
   ],
   "source": [
    "# 24. Implement a function to check if a given number is a power of two.\n",
    "\n",
    "def isPowerOfTwo(n):\n",
    "    if (n == 0):\n",
    "        return False\n",
    "    while (n != 1):\n",
    "        if (n % 2 != 0):\n",
    "            return False\n",
    "        n = n // 2\n",
    "\n",
    "    return True\n",
    "\n",
    "if(isPowerOfTwo(31)):\n",
    "    print('Yes')\n",
    "else:\n",
    "    print('No')\n",
    "\n",
    "if(isPowerOfTwo(64)):\n",
    "    print('Yes')\n",
    "else:\n",
    "    print('No')\n"
   ]
  },
  {
   "cell_type": "code",
   "execution_count": 122,
   "id": "3ba259d9",
   "metadata": {},
   "outputs": [
    {
     "name": "stdout",
     "output_type": "stream",
     "text": [
      "[1, 3, 4, 5, 6, 7, 8, 9, 10, 11]\n"
     ]
    }
   ],
   "source": [
    "# 25. Write a Python program to merge two sorted lists into a single sorted list.\n",
    "\n",
    "test_list1 = [1, 5, 6, 9, 11]\n",
    "test_list2 = [3, 4, 7, 8, 10]\n",
    "\n",
    "size_1 = len(test_list1)\n",
    "size_2 = len(test_list2)\n",
    "\n",
    "res = []\n",
    "i, j = 0, 0\n",
    "\n",
    "while i < size_1 and j < size_2:\n",
    "    if test_list1[i] < test_list2[j]:\n",
    "        res.append(test_list1[i])\n",
    "        i += 1\n",
    "    else:\n",
    "        res.append(test_list2[j])\n",
    "        j += 1\n",
    "\n",
    "res = res + test_list1[i:] + test_list2[j:]\n",
    "print(res)\n"
   ]
  },
  {
   "cell_type": "code",
   "execution_count": 124,
   "id": "2ce2e74e",
   "metadata": {},
   "outputs": [
    {
     "name": "stdout",
     "output_type": "stream",
     "text": [
      "[6, 8]\n"
     ]
    }
   ],
   "source": [
    "# 26. Implement a function to find the mode of a list of numbers.\n",
    "\n",
    "y= [11, 8, 8, 3, 4, 4, 5, 6, 6, 6, 7, 8]\n",
    "y.sort()\n",
    "\n",
    "L1=[]\n",
    "i = 0\n",
    "while i < len(y) :\n",
    "    L1.append(y.count(y[i]))\n",
    "    i += 1\n",
    "\n",
    "d1 = dict(zip(y, L1))\n",
    "d2=[k for (k,v) in d1.items() if v == max(L1) ]\n",
    "\n",
    "print(d2)\n"
   ]
  },
  {
   "cell_type": "code",
   "execution_count": 128,
   "id": "7926ac89",
   "metadata": {},
   "outputs": [
    {
     "name": "stdout",
     "output_type": "stream",
     "text": [
      "8\n",
      "6\n"
     ]
    }
   ],
   "source": [
    "import statistics\n",
    "\n",
    "set1 =[11, 8, 8, 3, 4, 4, 5, 6, 6, 6, 7, 8]\n",
    "print(statistics.mode(set1))\n",
    "\n",
    "\n",
    "set1 =[11, 8, 8, 3, 4, 4, 5, 6, 6, 6, 7, 8]\n",
    "set1.sort()\n",
    "print(statistics.mode(set1))"
   ]
  },
  {
   "cell_type": "code",
   "execution_count": 129,
   "id": "c5a7bfe6",
   "metadata": {},
   "outputs": [
    {
     "name": "stdout",
     "output_type": "stream",
     "text": [
      "14\n"
     ]
    }
   ],
   "source": [
    "# 27. Write a program to find the greatest common divisor (GCD) of two numbers.\n",
    "\n",
    "def gcd(a, b):\n",
    "    result = min(a, b)\n",
    "    while result:\n",
    "        if a % result == 0 and b % result == 0:\n",
    "            break\n",
    "        result -= 1\n",
    "\n",
    "    return result\n",
    "\n",
    "\n",
    "a = 98\n",
    "b = 56\n",
    "print(gcd(a, b))\n"
   ]
  },
  {
   "cell_type": "code",
   "execution_count": 130,
   "id": "9e27624d",
   "metadata": {},
   "outputs": [
    {
     "name": "stdout",
     "output_type": "stream",
     "text": [
      "3\n"
     ]
    }
   ],
   "source": [
    "# 28. Implement a function to calculate the square root of a given number.\n",
    "\n",
    "def floorSqrt(x):\n",
    "    if (x == 0 or x == 1):\n",
    "        return x\n",
    "\n",
    "    i = 1\n",
    "    result = 1\n",
    "    while (result <= x):\n",
    "        i += 1\n",
    "        result = i * i\n",
    "\n",
    "    return i - 1\n",
    "\n",
    "x = 11\n",
    "print(floorSqrt(x))\n"
   ]
  },
  {
   "cell_type": "code",
   "execution_count": 133,
   "id": "2017b665",
   "metadata": {},
   "outputs": [
    {
     "name": "stdout",
     "output_type": "stream",
     "text": [
      "True\n"
     ]
    }
   ],
   "source": [
    "# 29. Write a Python program to check if a given string is a valid palindrome ignoring non-alphanumeric characters.\n",
    "def isPalindrome(s):\n",
    "    left = 0\n",
    "    right = len(s)-1\n",
    "\n",
    "    while left < right:\n",
    "        # Step 1\n",
    "        while left < right and not s[left].isalnum():\n",
    "            left += 1\n",
    "        #Step 2\n",
    "        while left < right and not s[right].isalnum():\n",
    "            right -= 1\n",
    "\n",
    "        # Steps 3 and 4\n",
    "        if s[left].lower() != s[right].lower():\n",
    "            return False\n",
    "        else:\n",
    "            left += 1\n",
    "            right -= 1\n",
    "\n",
    "    # Step 6\n",
    "    return True\n",
    "\n",
    "s=\"a@bcc@ba\"\n",
    "print(isPalindrome(s))"
   ]
  },
  {
   "cell_type": "code",
   "execution_count": null,
   "id": "e004a32f",
   "metadata": {},
   "outputs": [],
   "source": [
    "# 30. Implement a function to find the minimum element in a rotated sorted list.\n",
    "\n",
    "def findMin(arr, N):\n",
    "    min_ele = arr[0]\n",
    "    for i in range(N):\n",
    "        if arr[i] < min_ele:\n",
    "            min_ele = arr[i]\n",
    "\n",
    "    return min_ele\n",
    "\n",
    "arr = [5, 6, 1, 2, 3, 4]\n",
    "N = len(arr)\n",
    "\n",
    "print(findMin(arr,N))\n"
   ]
  },
  {
   "cell_type": "code",
   "execution_count": 135,
   "id": "f8ad26a4",
   "metadata": {},
   "outputs": [
    {
     "name": "stdout",
     "output_type": "stream",
     "text": [
      "12\n"
     ]
    }
   ],
   "source": [
    "# 31. Write a program to find the sum of all even numbers in a list.\n",
    "\n",
    "nums = [5, 6, 1, 2, 3, 4]\n",
    "\n",
    "sum = 0\n",
    "for i in range(len(nums)):\n",
    "    if nums[i]%2 == 0:\n",
    "        sum = sum + nums[i]\n",
    "\n",
    "print(sum)"
   ]
  },
  {
   "cell_type": "code",
   "execution_count": 136,
   "id": "348f3a5b",
   "metadata": {},
   "outputs": [
    {
     "name": "stdout",
     "output_type": "stream",
     "text": [
      "25\n"
     ]
    }
   ],
   "source": [
    "# 32. Implement a function to calculate the power of a number using recursion.\n",
    "\n",
    "def power(N, P):\n",
    "    if P == 0:\n",
    "        return 1\n",
    "\n",
    "    return (N*power(N, P-1))\n",
    "\n",
    "N = 5\n",
    "P = 2\n",
    "print(power(N, P))\n"
   ]
  },
  {
   "cell_type": "code",
   "execution_count": 137,
   "id": "2e00170b",
   "metadata": {},
   "outputs": [
    {
     "name": "stdout",
     "output_type": "stream",
     "text": [
      "[2, 3, 5, 4, 6]\n"
     ]
    }
   ],
   "source": [
    "# 33. Write a Python program to remove duplicates from a list while preserving the order.\n",
    "\n",
    "lst = [2, 3, 3, 2, 5, 4, 4, 6]\n",
    " \n",
    "x = [] \n",
    "for i in lst:\n",
    "    if i not in x:\n",
    "        x.append(i)\n",
    "\n",
    "print(x)"
   ]
  },
  {
   "cell_type": "code",
   "execution_count": 139,
   "id": "8daf0e28",
   "metadata": {},
   "outputs": [
    {
     "name": "stdout",
     "output_type": "stream",
     "text": [
      "abc\n"
     ]
    }
   ],
   "source": [
    "# 34. Implement a function to find the longest common prefix among a list of strings.\n",
    "\n",
    "def longestCommonPrefix(a):\n",
    "    size = len(a)\n",
    "\n",
    "    if (size == 0):\n",
    "        return \"\"\n",
    "\n",
    "    if (size == 1):\n",
    "        return a[0]\n",
    "\n",
    "    a.sort()\n",
    "\n",
    "    end = min(len(a[0]), len(a[size - 1]))\n",
    "    i = 0\n",
    "    while (i < end and a[0][i] == a[size - 1][i]):\n",
    "        i += 1\n",
    "\n",
    "    pre = a[0][0: i]\n",
    "    return pre\n",
    "\n",
    "\n",
    "input = [\"abcefgabcdfghs\", \"abcas\",\"abc\"]\n",
    "print(longestCommonPrefix(input))\n"
   ]
  },
  {
   "cell_type": "code",
   "execution_count": 141,
   "id": "bdedc0d6",
   "metadata": {},
   "outputs": [
    {
     "data": {
      "text/plain": [
       "True"
      ]
     },
     "execution_count": 141,
     "metadata": {},
     "output_type": "execute_result"
    }
   ],
   "source": [
    "# 35. Write a program to check if a given number is a perfect square.\n",
    "\n",
    "import math\n",
    "\n",
    "def isPerfectSquare(x):\n",
    "    if(x >= 0):\n",
    "        sr = int(math.sqrt(x))\n",
    "        return ((sr*sr) == x)\n",
    "    return false\n",
    "\n",
    "x = 2500\n",
    "isPerfectSquare(x)\n"
   ]
  },
  {
   "cell_type": "code",
   "execution_count": 143,
   "id": "95a438fd",
   "metadata": {},
   "outputs": [
    {
     "name": "stdout",
     "output_type": "stream",
     "text": [
      "6\n"
     ]
    }
   ],
   "source": [
    "# 36. Implement a function to calculate the product of all elements in a list.\n",
    "\n",
    "def multiplyList(myList):\n",
    "    result = 1\n",
    "    for x in myList:\n",
    "        result = result * x\n",
    "    return result\n",
    "\n",
    "\n",
    "list1 = [1, 2, 3]\n",
    "print(multiplyList(list1))\n"
   ]
  },
  {
   "cell_type": "code",
   "execution_count": 146,
   "id": "822db31a",
   "metadata": {},
   "outputs": [
    {
     "name": "stdout",
     "output_type": "stream",
     "text": [
      "ym eman si hbaruas\n"
     ]
    }
   ],
   "source": [
    "# 37. Write a Python program to reverse the order of words in a sentence while preserving the word order.\n",
    "\n",
    "def reverseWordSentence(Sentence):\n",
    "    words = Sentence.split(\" \")\n",
    "    newWords = [word[::-1] for word in words]\n",
    "    newSentence = \" \".join(newWords)\n",
    "    return newSentence\n",
    "\n",
    "Sentence = \"my name is saurabh\"\n",
    "print(reverseWordSentence(Sentence))\n"
   ]
  },
  {
   "cell_type": "code",
   "execution_count": 157,
   "id": "32166289",
   "metadata": {},
   "outputs": [
    {
     "name": "stdout",
     "output_type": "stream",
     "text": [
      "-6\n"
     ]
    }
   ],
   "source": [
    "# 38. Implement a function to find the missing number in a given list of consecutive numbers.\n",
    "\n",
    "def findMissing(arr, n):\n",
    "\n",
    "    l, h = 0, n - 1\n",
    "    mid = 0\n",
    "\n",
    "    while (h > l):\n",
    "        mid = l + (h - l) // 2\n",
    "        if (arr[mid] - mid == arr[0]):\n",
    "            if (arr[mid + 1] - arr[mid] > 1):\n",
    "                return arr[mid] + 1\n",
    "            else:\n",
    "                l = mid + 1\n",
    "        else:\n",
    "            if (arr[mid] - arr[mid - 1] > 1):\n",
    "                return arr[mid] - 1\n",
    "            else:\n",
    "                h = mid - 1\n",
    "\n",
    "    return -1\n",
    "\n",
    "arr = [-9, -8, -7, -5, -4, -3, -2, -1, 0 ]\n",
    "n = len(arr)\n",
    "\n",
    "print(findMissing(arr, n))\n"
   ]
  },
  {
   "cell_type": "code",
   "execution_count": 3,
   "id": "13891a1d",
   "metadata": {},
   "outputs": [
    {
     "name": "stdout",
     "output_type": "stream",
     "text": [
      "15\n"
     ]
    }
   ],
   "source": [
    "# 39. Write a program to find the sum of digits of a given number.\n",
    "\n",
    "def getSum(n):\n",
    "    strr = str(n)\n",
    "    sum = 0\n",
    "    for digit in strr:\n",
    "        sum += int(digit)\n",
    "    return sum\n",
    "\n",
    "n = 12345\n",
    "print(getSum(n))"
   ]
  },
  {
   "cell_type": "code",
   "execution_count": 7,
   "id": "cf7cb203",
   "metadata": {},
   "outputs": [
    {
     "name": "stdout",
     "output_type": "stream",
     "text": [
      "False\n"
     ]
    }
   ],
   "source": [
    "# 40. Implement a function to check if a given string is a valid palindrome considering case sensitivity.\n",
    "\n",
    "def isPalindrome(s):\n",
    "    return s == s[::-1]\n",
    "\n",
    "s = \"malayalaM\"\n",
    "print(isPalindrome(s))"
   ]
  },
  {
   "cell_type": "code",
   "execution_count": 11,
   "id": "6392ddc0",
   "metadata": {},
   "outputs": [
    {
     "name": "stdout",
     "output_type": "stream",
     "text": [
      "[0, 1, 0, 0, 0, 0, 0, 0, 0, 1]\n",
      "1\n"
     ]
    }
   ],
   "source": [
    "# 41. Write a Python program to find the smallest missing positive integer in a list.\n",
    "\n",
    "def solution(A): \n",
    "    m = max(A)\n",
    "    if m < 1:\n",
    "        return 1\n",
    "    if len(A) == 1:\n",
    "        return 2 if A[0] == 1 else 1\n",
    "    \n",
    "    l = [0] * m\n",
    "\n",
    "    for i in range(len(A)):\n",
    "        if A[i] > 0:\n",
    "            if l[A[i] - 1] != 1:\n",
    "                l[A[i] - 1] = 1\n",
    "\n",
    "    for i in range(len(l)):\n",
    "        if l[i] == 0:\n",
    "            return i + 1\n",
    "    return i + 2\n",
    "\n",
    "\n",
    "arr = [0, 10, 2, -10, -20]\n",
    "print(solution(arr))\n"
   ]
  },
  {
   "cell_type": "code",
   "execution_count": 13,
   "id": "8df51847",
   "metadata": {},
   "outputs": [],
   "source": [
    "# 42. Implement a function to find the longest palindrome substring in a given string.\n",
    "\n"
   ]
  },
  {
   "cell_type": "code",
   "execution_count": 14,
   "id": "5c87a6d6",
   "metadata": {},
   "outputs": [
    {
     "name": "stdout",
     "output_type": "stream",
     "text": [
      "5\n"
     ]
    }
   ],
   "source": [
    "# 43. Write a program to find the number of occurrences of a given element in a list.\n",
    "\n",
    "def countX(lst, x):\n",
    "    count = 0\n",
    "    for ele in lst:\n",
    "        if (ele == x):\n",
    "            count = count + 1\n",
    "    return count\n",
    "\n",
    "\n",
    "lst = [8, 6, 8, 10, 8, 20, 10, 8, 8]\n",
    "x = 8\n",
    "print(countX(lst, x))"
   ]
  },
  {
   "cell_type": "code",
   "execution_count": 19,
   "id": "784292c2",
   "metadata": {},
   "outputs": [
    {
     "data": {
      "text/plain": [
       "True"
      ]
     },
     "execution_count": 19,
     "metadata": {},
     "output_type": "execute_result"
    }
   ],
   "source": [
    "# 44. Implement a function to check if a given number is a perfect number.\n",
    "\n",
    "def isPerfect( n ):\n",
    "    sum = 1\n",
    "\n",
    "    i = 2\n",
    "    while i * i <= n:\n",
    "        if n % i == 0:\n",
    "            sum = sum + i + n/i\n",
    "        i += 1\n",
    "    return (True if sum == n and n!=1 else False)\n",
    "\n",
    "\n",
    "n = 25\n",
    "isPerfect (n)\n",
    "n=6\n",
    "isPerfect (n)"
   ]
  },
  {
   "cell_type": "code",
   "execution_count": 22,
   "id": "3101c2d6",
   "metadata": {},
   "outputs": [
    {
     "name": "stdout",
     "output_type": "stream",
     "text": [
      "abcdesfor"
     ]
    }
   ],
   "source": [
    "# 45. Write a Python program to remove all duplicates from a string.\n",
    "\n",
    "string=\"abcdesforabcde\"\n",
    "k2=[]\n",
    "for ele in string:\n",
    "    if ele not in k2:\n",
    "        k2.append(ele)\n",
    "        \n",
    "for i in range(0,len(k2)):\n",
    "    print(k2[i],end=\"\")\n"
   ]
  },
  {
   "cell_type": "code",
   "execution_count": 23,
   "id": "c0861e6b",
   "metadata": {},
   "outputs": [
    {
     "name": "stdout",
     "output_type": "stream",
     "text": [
      "1\n"
     ]
    }
   ],
   "source": [
    "# 46. Implement a function to find the first missing positive\n",
    "\n",
    "def firstMissingPositive(arr, n):\n",
    "    for i in range(n):\n",
    "        while (arr[i] >= 1 and arr[i] <= n\n",
    "            and arr[i] != arr[arr[i] - 1]):\n",
    "            temp = arr[i]\n",
    "            arr[i] = arr[arr[i] - 1]\n",
    "            arr[temp - 1] = temp\n",
    "\n",
    "    for i in range(n):\n",
    "        if (arr[i] != i + 1):\n",
    "            return i + 1\n",
    "\n",
    "    return n + 1\n",
    "\n",
    "\n",
    "arr = [0, 10, 2, -10, -20]\n",
    "n = len(arr)\n",
    "ans = firstMissingPositive(arr, n)\n",
    "print(ans)\n"
   ]
  },
  {
   "cell_type": "code",
   "execution_count": null,
   "id": "e34ee9f5",
   "metadata": {},
   "outputs": [],
   "source": []
  }
 ],
 "metadata": {
  "kernelspec": {
   "display_name": "Python 3 (ipykernel)",
   "language": "python",
   "name": "python3"
  },
  "language_info": {
   "codemirror_mode": {
    "name": "ipython",
    "version": 3
   },
   "file_extension": ".py",
   "mimetype": "text/x-python",
   "name": "python",
   "nbconvert_exporter": "python",
   "pygments_lexer": "ipython3",
   "version": "3.10.9"
  }
 },
 "nbformat": 4,
 "nbformat_minor": 5
}
