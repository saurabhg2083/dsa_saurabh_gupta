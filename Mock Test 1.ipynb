{
 "cells": [
  {
   "cell_type": "markdown",
   "id": "f7330a49",
   "metadata": {},
   "source": [
    "### Mock Test"
   ]
  },
  {
   "cell_type": "markdown",
   "id": "fd498fd7",
   "metadata": {},
   "source": [
    "#### Given an integer array nums, move all 0's to the end of it while maintaining the relative order of the non-zero elements."
   ]
  },
  {
   "cell_type": "code",
   "execution_count": 25,
   "id": "e55949f8",
   "metadata": {},
   "outputs": [
    {
     "name": "stdout",
     "output_type": "stream",
     "text": [
      "[1, 3, 12, 0, 0]\n"
     ]
    }
   ],
   "source": [
    "def func1(nums):\n",
    "    n = len(nums)\n",
    "    \n",
    "    if n <= 0:\n",
    "        return 0\n",
    "    \n",
    "    count = 0\n",
    "    \n",
    "    for i in range(n):\n",
    "        if nums[i] != 0:\n",
    "            nums[count] = nums[i]\n",
    "            count+=1\n",
    "    #print(nums)\n",
    "    while count < n:\n",
    "        nums[count] = 0\n",
    "        count += 1\n",
    "    \n",
    "    return nums\n",
    "\n",
    "\n",
    "nums = [0,1,0,3,12]\n",
    "#Output: [1,3,12,0,0]\n",
    "print(func1(nums))"
   ]
  },
  {
   "cell_type": "code",
   "execution_count": 26,
   "id": "ebbf4da0",
   "metadata": {},
   "outputs": [
    {
     "name": "stdout",
     "output_type": "stream",
     "text": [
      "[0]\n"
     ]
    }
   ],
   "source": [
    "nums = [0]\n",
    "#Output: [0]\n",
    "print(func1(nums))"
   ]
  },
  {
   "cell_type": "markdown",
   "id": "8f03aecb",
   "metadata": {},
   "source": [
    "#### Given a string s, find the first non-repeating character in it and return its index. If it does not exist, return -1."
   ]
  },
  {
   "cell_type": "code",
   "execution_count": 50,
   "id": "cb7e68be",
   "metadata": {},
   "outputs": [],
   "source": [
    "def func2(s):\n",
    "\n",
    "    dic = {}\n",
    "    for letter in s:\n",
    "        if letter not in dic.keys():\n",
    "            dic[letter] = 0\n",
    "        else:\n",
    "            dic[letter] = 1\n",
    "        \n",
    "    #print(dic)\n",
    "    \n",
    "    getLetter =''\n",
    "    for key, value in dic.items():\n",
    "        if value == 0:\n",
    "            getLetter = key\n",
    "            break\n",
    "    \n",
    "    #print(getLetter)\n",
    "    if getLetter != '':\n",
    "        return s.index(getLetter)\n",
    "    else:\n",
    "        return -1\n",
    "\n"
   ]
  },
  {
   "cell_type": "code",
   "execution_count": 51,
   "id": "b175e0af",
   "metadata": {},
   "outputs": [
    {
     "name": "stdout",
     "output_type": "stream",
     "text": [
      "l\n"
     ]
    },
    {
     "data": {
      "text/plain": [
       "0"
      ]
     },
     "execution_count": 51,
     "metadata": {},
     "output_type": "execute_result"
    }
   ],
   "source": [
    "s = \"leetcode\"\n",
    "func2(s)"
   ]
  },
  {
   "cell_type": "code",
   "execution_count": 52,
   "id": "57d9865d",
   "metadata": {},
   "outputs": [
    {
     "name": "stdout",
     "output_type": "stream",
     "text": [
      "v\n"
     ]
    },
    {
     "data": {
      "text/plain": [
       "2"
      ]
     },
     "execution_count": 52,
     "metadata": {},
     "output_type": "execute_result"
    }
   ],
   "source": [
    "s = \"loveleetcode\"\n",
    "func2(s)"
   ]
  },
  {
   "cell_type": "code",
   "execution_count": 53,
   "id": "7b7c19c4",
   "metadata": {},
   "outputs": [
    {
     "name": "stdout",
     "output_type": "stream",
     "text": [
      "\n"
     ]
    },
    {
     "data": {
      "text/plain": [
       "-1"
      ]
     },
     "execution_count": 53,
     "metadata": {},
     "output_type": "execute_result"
    }
   ],
   "source": [
    "s=\"aabb\"\n",
    "func2(s)"
   ]
  },
  {
   "cell_type": "code",
   "execution_count": null,
   "id": "97c888d8",
   "metadata": {},
   "outputs": [],
   "source": []
  },
  {
   "cell_type": "code",
   "execution_count": null,
   "id": "c3b5f9dc",
   "metadata": {},
   "outputs": [],
   "source": []
  }
 ],
 "metadata": {
  "kernelspec": {
   "display_name": "Python 3 (ipykernel)",
   "language": "python",
   "name": "python3"
  },
  "language_info": {
   "codemirror_mode": {
    "name": "ipython",
    "version": 3
   },
   "file_extension": ".py",
   "mimetype": "text/x-python",
   "name": "python",
   "nbconvert_exporter": "python",
   "pygments_lexer": "ipython3",
   "version": "3.9.7"
  }
 },
 "nbformat": 4,
 "nbformat_minor": 5
}
