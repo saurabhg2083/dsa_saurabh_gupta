{
 "cells": [
  {
   "cell_type": "markdown",
   "id": "86f6f253",
   "metadata": {},
   "source": [
    "##### Assignment 15 Questions - Linked List | DSA\n",
    "\n",
    "https://pwskills.notion.site/Assignment-Questions-15-05099d0ec67e47c590647912ba07e962"
   ]
  },
  {
   "cell_type": "markdown",
   "id": "c33f29a8",
   "metadata": {},
   "source": [
    "#### Question 1\n",
    "Given an array arr[ ] of size N having elements, the task is to find the next greater element for each element of the array in order of their appearance in the array.Next greater element of an element in the array is the nearest element on the right which is greater than the current element.If there does not exist next greater of current element, then next greater element for current element is -1. For example, next greater of the last element is always -1.\n",
    "\n",
    "    Input:\n",
    "    N = 4, arr[] = [1 3 2 4]\n",
    "    Output:\n",
    "    3 4 4 -1\n",
    "    Explanation:\n",
    "    In the array, the next larger element\n",
    "    to 1 is 3 , 3 is 4 , 2 is 4 and for 4 ?\n",
    "    since it doesn't exist, it is -1.\n"
   ]
  },
  {
   "cell_type": "code",
   "execution_count": 11,
   "id": "18d34f7a",
   "metadata": {},
   "outputs": [
    {
     "name": "stdout",
     "output_type": "stream",
     "text": [
      "[8, -1, 1, 3, -1]\n"
     ]
    }
   ],
   "source": [
    "def func1(N, arr):\n",
    "    lst = []\n",
    "    for i in range(0, len(arr)):\n",
    "        for j in range(i+1, len(arr)):\n",
    "            if arr[i] < arr[j]:\n",
    "                lst.append(arr[j])\n",
    "                break\n",
    "        if len(lst) != i+1:\n",
    "            lst.append(-1)\n",
    "\n",
    "    \n",
    "    print(lst)\n",
    "    \n",
    "\n",
    "\n",
    "N = 5\n",
    "arr= [6, 8, 0, 1, 3]\n",
    "func1(N, arr)\n",
    "# 8 -1 1 3 -1"
   ]
  },
  {
   "cell_type": "code",
   "execution_count": 16,
   "id": "d6c76f31",
   "metadata": {},
   "outputs": [
    {
     "data": {
      "text/plain": [
       "[8, -1, 1, 3, -1]"
      ]
     },
     "execution_count": 16,
     "metadata": {},
     "output_type": "execute_result"
    }
   ],
   "source": [
    "def nextLargerElement(arr, n):\n",
    "    s = []\n",
    "    for i in range(len(arr)):\n",
    "        while s and s[-1].get(\"value\") < arr[i]:\n",
    "            d = s.pop()\n",
    "            arr[d.get(\"ind\")] = arr[i]\n",
    "        s.append({\"value\": arr[i], \"ind\": i})\n",
    "    while s:\n",
    "        d = s.pop()\n",
    "        arr[d.get(\"ind\")] = -1\n",
    "    return arr\n",
    "\n",
    "\n",
    "nextLargerElement([6, 8, 0, 1, 3], 5)\n"
   ]
  },
  {
   "cell_type": "markdown",
   "id": "a5034378",
   "metadata": {},
   "source": [
    "#### Question 2\n",
    "\n",
    "Given an array a of integers of length n, find the nearest smaller number for every element such that the smaller element is on left side.If no small element present on the left print -1."
   ]
  },
  {
   "cell_type": "code",
   "execution_count": 20,
   "id": "9b55bd29",
   "metadata": {},
   "outputs": [
    {
     "name": "stdout",
     "output_type": "stream",
     "text": [
      "-1, 1, -1, 0, 3, 4, "
     ]
    }
   ],
   "source": [
    "def printPrevSmaller(arr, n):\n",
    "    S = list()\n",
    "    for i in range(n):\n",
    "        while (len(S) > 0 and S[-1] >= arr[i]):\n",
    "            S.pop()\n",
    "        if (len(S) == 0):\n",
    "            print(\"-1, \", end = \"\")\n",
    "        else:\n",
    "            print(S[-1], end = \", \")\n",
    "\n",
    "        S.append(arr[i])\n",
    "\n",
    "arr = [1, 5, 0, 3, 4, 5]\n",
    "n = len(arr)\n",
    "printPrevSmaller(arr, n)"
   ]
  },
  {
   "cell_type": "markdown",
   "id": "386d84e3",
   "metadata": {},
   "source": [
    "#### Question 3\n",
    "\n",
    "Implement a Stack using two queues q1 and q2."
   ]
  },
  {
   "cell_type": "code",
   "execution_count": 28,
   "id": "7e90e058",
   "metadata": {},
   "outputs": [
    {
     "name": "stdout",
     "output_type": "stream",
     "text": [
      "current size: 3\n",
      "3\n",
      "2\n",
      "1\n",
      "current size: 1\n",
      "3\n",
      "2\n",
      "4\n",
      "2\n",
      "2\n",
      "current size: 1\n"
     ]
    }
   ],
   "source": [
    "from collections import deque\n",
    "\n",
    "class Stack:\n",
    "    def __init__(self):\n",
    "        # Create an empty dequeue\n",
    "        self.dequeue = deque()\n",
    "\n",
    "    def push(self, item):\n",
    "        # Append the item to the end of the dequeue\n",
    "        self.dequeue.append(item)\n",
    "\n",
    "    def pop(self):\n",
    "        # Remove and return the item from the end of the dequeue\n",
    "        return self.dequeue.pop()\n",
    "\n",
    "    def size(self):\n",
    "        # Return size of dequeue\n",
    "        return len(self.dequeue)\n",
    "\n",
    "    def is_empty(self):\n",
    "        # Return True if the dequeue is empty, and False otherwise\n",
    "        return not self.dequeue\n",
    "\n",
    "    def top(self):\n",
    "        # Return the item at the top of the stack without removing it.\n",
    "        if self.is_empty():\n",
    "            # If the stack is empty, return None\n",
    "            return None\n",
    "        else:\n",
    "            # Return the last item in the dequeue\n",
    "            return self.dequeue[-1]\n",
    "\n",
    "if __name__ == '__main__':\n",
    "    st = Stack()\n",
    "    st.push(1)\n",
    "    st.push(2)\n",
    "    st.push(3)\n",
    "    print(\"current size:\", st.size())\n",
    "    print(st.top())\n",
    "    st.pop()\n",
    "    print(st.top())\n",
    "    st.pop()\n",
    "    print(st.top())\n",
    "    print(\"current size:\", st.size())\n",
    "    \n",
    "    st = Stack()\n",
    "    st.push(2)\n",
    "    st.push(3)\n",
    "    print(st.top())\n",
    "    st.pop()\n",
    "    print(st.top())\n",
    "    st.push(4)\n",
    "    print(st.top())\n",
    "    st.pop()\n",
    "    print(st.top())\n",
    "    print(st.top())\n",
    "    print(\"current size:\", st.size())"
   ]
  },
  {
   "cell_type": "markdown",
   "id": "d02114d4",
   "metadata": {},
   "source": [
    "#### Question 4\n",
    "\n",
    "You are given a stack St. You have to reverse the stack using recursion."
   ]
  },
  {
   "cell_type": "code",
   "execution_count": 30,
   "id": "299bd5de",
   "metadata": {},
   "outputs": [
    {
     "name": "stdout",
     "output_type": "stream",
     "text": [
      "Original Stack \n",
      "1 2 3 4 \n",
      "Reversed Stack \n",
      "4 3 2 1 \n"
     ]
    }
   ],
   "source": [
    "def insertAtBottom(stack, item):\n",
    "    if isEmpty(stack):\n",
    "        push(stack, item)\n",
    "    else:\n",
    "        temp = pop(stack)\n",
    "        insertAtBottom(stack, item)\n",
    "        push(stack, temp)\n",
    "\n",
    "def reverse(stack):\n",
    "    if not isEmpty(stack):\n",
    "        temp = pop(stack)\n",
    "        reverse(stack)\n",
    "        insertAtBottom(stack, temp)\n",
    "\n",
    "def createStack():\n",
    "    stack = []\n",
    "    return stack\n",
    "\n",
    "def isEmpty(stack):\n",
    "    return len(stack) == 0\n",
    "\n",
    "def push(stack, item):\n",
    "    stack.append(item)\n",
    "\n",
    "def pop(stack):\n",
    "    if(isEmpty(stack)):\n",
    "        print(\"Stack Underflow \")\n",
    "        exit(1)\n",
    "\n",
    "    return stack.pop()\n",
    "\n",
    "def prints(stack):\n",
    "    for i in range(len(stack)-1, -1, -1):\n",
    "        print(stack[i], end=' ')\n",
    "    print()\n",
    "\n",
    "\n",
    "stack = createStack()\n",
    "push(stack, str(4))\n",
    "push(stack, str(3))\n",
    "push(stack, str(2))\n",
    "push(stack, str(1))\n",
    "print(\"Original Stack \")\n",
    "prints(stack)\n",
    "\n",
    "reverse(stack)\n",
    "\n",
    "print(\"Reversed Stack \")\n",
    "prints(stack)\n"
   ]
  },
  {
   "cell_type": "markdown",
   "id": "999b2d26",
   "metadata": {},
   "source": [
    "#### Question 5\n",
    "\n",
    "You are given a string S, the task is to reverse the string using stack."
   ]
  },
  {
   "cell_type": "code",
   "execution_count": 31,
   "id": "1a522323",
   "metadata": {},
   "outputs": [
    {
     "name": "stdout",
     "output_type": "stream",
     "text": [
      "skeeGrofskeeG\n"
     ]
    }
   ],
   "source": [
    "def createStack():\n",
    "    stack = []\n",
    "    return stack\n",
    "\n",
    "\n",
    "def size(stack):\n",
    "    return len(stack)\n",
    "\n",
    "\n",
    "def isEmpty(stack):\n",
    "    if size(stack) == 0:\n",
    "        return true\n",
    "\n",
    "def push(stack, item):\n",
    "    stack.append(item)\n",
    "\n",
    "def pop(stack):\n",
    "    if isEmpty(stack):\n",
    "        return\n",
    "    return stack.pop()\n",
    "\n",
    "\n",
    "def reverse(string):\n",
    "    n = len(string)\n",
    "    stack = createStack()\n",
    "    for i in range(0, n, 1):\n",
    "        push(stack, string[i])\n",
    "\n",
    "    string = \"\"\n",
    "    for i in range(0, n, 1):\n",
    "        string += pop(stack)\n",
    "\n",
    "    return string\n",
    "\n",
    "\n",
    "string = \"GeeksforGeeks\"\n",
    "string = reverse(string)\n",
    "print(string)\n"
   ]
  },
  {
   "cell_type": "markdown",
   "id": "2f21c68d",
   "metadata": {},
   "source": [
    "#### Question 6\n",
    "\n",
    "Given string S representing a postfix expression, the task is to evaluate the expression and find the final value. Operators will only include the basic arithmetic operators like *, /, + and -.\n",
    "\n",
    "    Input: S = \"231*+9-\"\n",
    "    Output: -4\n",
    "    Explanation:\n",
    "    After solving the given expression,\n",
    "    we have -4 as result.\n"
   ]
  },
  {
   "cell_type": "code",
   "execution_count": 32,
   "id": "0bc4cf96",
   "metadata": {},
   "outputs": [
    {
     "data": {
      "text/plain": [
       "-4"
      ]
     },
     "execution_count": 32,
     "metadata": {},
     "output_type": "execute_result"
    }
   ],
   "source": [
    "class Evaluate:\n",
    "    def __init__(self, capacity):\n",
    "        self.top = -1\n",
    "        self.capacity = capacity\n",
    "        self.array = []\n",
    "\n",
    "    def isEmpty(self):\n",
    "        return True if self.top == -1 else False\n",
    "\n",
    "    def peek(self):\n",
    "        return self.array[-1]\n",
    "\n",
    "    def pop(self):\n",
    "        if not self.isEmpty():\n",
    "            self.top -= 1\n",
    "            return self.array.pop()\n",
    "        else:\n",
    "            return \"$\"\n",
    "        \n",
    "    def push(self, op):\n",
    "        self.top += 1\n",
    "        self.array.append(op)\n",
    "\n",
    "    def evaluatePostfix(self, exp):\n",
    "        for i in exp:\n",
    "            if i.isdigit():\n",
    "                self.push(i)\n",
    "            else:\n",
    "                val1 = self.pop()\n",
    "                val2 = self.pop()\n",
    "                self.push(str(eval(val2 + i + val1)))\n",
    "\n",
    "        return int(self.pop())\n",
    "\n",
    "\n",
    "\n",
    "exp = \"231*+9-\"\n",
    "obj = Evaluate(len(exp))\n",
    "\n",
    "obj.evaluatePostfix(exp)\n"
   ]
  },
  {
   "cell_type": "markdown",
   "id": "533d0cc9",
   "metadata": {},
   "source": [
    "#### Question 7\n",
    "\n",
    "Implement the `MinStack` class:\n",
    "\n",
    "- `MinStack()` initializes the stack object.\n",
    "- `void push(int val)` pushes the element `val` onto the stack.\n",
    "- `void pop()` removes the element on the top of the stack.\n",
    "- `int top()` gets the top element of the stack.\n",
    "- `int getMin()` retrieves the minimum element in the stack.\n",
    "\n",
    "You must implement a solution with `O(1)` time complexity for each function."
   ]
  },
  {
   "cell_type": "code",
   "execution_count": 35,
   "id": "169c599c",
   "metadata": {
    "scrolled": true
   },
   "outputs": [
    {
     "name": "stdout",
     "output_type": "stream",
     "text": [
      "-3\n",
      "-3\n",
      "0\n",
      "-2\n"
     ]
    }
   ],
   "source": [
    "class MinStack:\n",
    "    def __init__(self):\n",
    "        self.s = []\n",
    "\n",
    "    class Node:\n",
    "        def __init__(self, val, Min):\n",
    "            self.val = val\n",
    "            self.min = Min\n",
    "\n",
    "    def push(self, x):\n",
    "        if not self.s:\n",
    "            self.s.append(self.Node(x, x))\n",
    "        else:\n",
    "            Min = min(self.s[-1].min, x)\n",
    "            self.s.append(self.Node(x, Min))\n",
    "\n",
    "    def pop(self):\n",
    "        return self.s.pop().val\n",
    "\n",
    "    def top(self):\n",
    "        return self.s[-1].val\n",
    "\n",
    "    def getMin(self):\n",
    "        return self.s[-1].min\n",
    "\n",
    "minStack = MinStack()\n",
    "\n",
    "minStack.push(-2)\n",
    "minStack.push(0)\n",
    "minStack.push(-3)\n",
    "print(minStack.getMin())\n",
    "print(minStack.pop())\n",
    "print(minStack.top())\n",
    "print(minStack.getMin())\n",
    "\n",
    "\n"
   ]
  },
  {
   "cell_type": "markdown",
   "id": "388e38a8",
   "metadata": {},
   "source": [
    "#### Question 8\n",
    "\n",
    "Given n non-negative integers representing an elevation map where the width of each bar is 1, compute how much water it can trap after raining.\n",
    "\n",
    "\n",
    "Input: height = [0,1,0,2,1,0,1,3,2,1,2,1]\n",
    "Output: 6\n",
    "Explanation: The above elevation map (black section) is represented by array [0,1,0,2,1,0,1,3,2,1,2,1]. In this case, 6 units of rain water (blue section) are being trapped.\n"
   ]
  },
  {
   "cell_type": "code",
   "execution_count": 36,
   "id": "3060f747",
   "metadata": {},
   "outputs": [
    {
     "name": "stdout",
     "output_type": "stream",
     "text": [
      "6\n"
     ]
    }
   ],
   "source": [
    "def maxWater(arr, n):\n",
    "    res = 0\n",
    "    for i in range(1, n - 1):\n",
    "        left = arr[i]\n",
    "        for j in range(i):\n",
    "            left = max(left, arr[j])\n",
    "        right = arr[i]\n",
    "\n",
    "        for j in range(i + 1, n):\n",
    "            right = max(right, arr[j])\n",
    "\n",
    "        res = res + (min(left, right) - arr[i])\n",
    "\n",
    "    return res\n",
    "\n",
    "\n",
    "\n",
    "\n",
    "arr = [0, 1, 0, 2, 1, 0, 1, 3, 2, 1, 2, 1]\n",
    "n = len(arr)\n",
    "print(maxWater(arr, n))\n"
   ]
  },
  {
   "cell_type": "code",
   "execution_count": null,
   "id": "218a5660",
   "metadata": {},
   "outputs": [],
   "source": []
  },
  {
   "cell_type": "code",
   "execution_count": null,
   "id": "d1beb93d",
   "metadata": {},
   "outputs": [],
   "source": []
  }
 ],
 "metadata": {
  "kernelspec": {
   "display_name": "Python 3 (ipykernel)",
   "language": "python",
   "name": "python3"
  },
  "language_info": {
   "codemirror_mode": {
    "name": "ipython",
    "version": 3
   },
   "file_extension": ".py",
   "mimetype": "text/x-python",
   "name": "python",
   "nbconvert_exporter": "python",
   "pygments_lexer": "ipython3",
   "version": "3.10.9"
  }
 },
 "nbformat": 4,
 "nbformat_minor": 5
}
