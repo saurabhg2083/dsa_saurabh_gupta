{
 "cells": [
  {
   "cell_type": "markdown",
   "id": "86f6f253",
   "metadata": {},
   "source": [
    "##### Assignment 9 Questions - Arrays | DSA\n",
    "\n",
    "https://pwskills.notion.site/Assignment-Questions-9-d560732568bd4edfb5570ec55ba62038"
   ]
  },
  {
   "cell_type": "markdown",
   "id": "c33f29a8",
   "metadata": {},
   "source": [
    "#### Question 1\n",
    "\n",
    "Given an integer n, return true if it is a power of two. Otherwise, return false.\n",
    "An integer n is a power of two, if there exists an integer x such that n == 2x.\n",
    "    \n",
    "    Example 1:\n",
    "        Input: n = 1 \n",
    "        Output: true\n",
    "    \n",
    "    Example 2:\n",
    "        Input: n = 16 \n",
    "        Output: true\n",
    "    \n",
    "    Example 3:\n",
    "        Input: n = 3 \n",
    "        Output: false\n"
   ]
  },
  {
   "cell_type": "code",
   "execution_count": 3,
   "id": "18d34f7a",
   "metadata": {},
   "outputs": [
    {
     "name": "stdout",
     "output_type": "stream",
     "text": [
      "True\n",
      "True\n",
      "False\n"
     ]
    }
   ],
   "source": [
    "def isPowerOfTwo(n):\n",
    "    if n == 1:\n",
    "        return True\n",
    "    \n",
    "    if n < 1:\n",
    "        return False\n",
    "    \n",
    "    return isPowerOfTwo(n/2)\n",
    "\n",
    "n = 1\n",
    "print(isPowerOfTwo(n))\n",
    "\n",
    "n = 16\n",
    "print(isPowerOfTwo(n))\n",
    "\n",
    "n = 3\n",
    "print(isPowerOfTwo(n))"
   ]
  },
  {
   "cell_type": "markdown",
   "id": "a5034378",
   "metadata": {},
   "source": [
    "#### Question 2\n",
    "\n",
    "Given a number n, find the sum of the first natural numbers.\n",
    "**Example 1:**\n",
    "\n",
    "    Input: n = 3 \n",
    "\n",
    "    Output: 6"
   ]
  },
  {
   "cell_type": "code",
   "execution_count": 1,
   "id": "9b55bd29",
   "metadata": {},
   "outputs": [
    {
     "data": {
      "text/plain": [
       "6.0"
      ]
     },
     "execution_count": 1,
     "metadata": {},
     "output_type": "execute_result"
    }
   ],
   "source": [
    "def findSum(n):\n",
    "    if (n % 2 == 0):\n",
    "        return (n / 2) * (n + 1)\n",
    "    else:\n",
    "        return ((n + 1) / 2) * n\n",
    "\n",
    "n = 3\n",
    "findSum(n)"
   ]
  },
  {
   "cell_type": "markdown",
   "id": "386d84e3",
   "metadata": {},
   "source": [
    "#### Question 3\n",
    "\n",
    "Given a positive integer, N. Find the factorial of N. "
   ]
  },
  {
   "cell_type": "code",
   "execution_count": 3,
   "id": "7e90e058",
   "metadata": {},
   "outputs": [
    {
     "name": "stdout",
     "output_type": "stream",
     "text": [
      "1\n",
      "1\n",
      "6\n"
     ]
    }
   ],
   "source": [
    "def recur_factorial(n):  \n",
    "    if n == 1 or n == 0:  \n",
    "        return 1  \n",
    "    else:  \n",
    "        return n*recur_factorial(n-1) \n",
    "    \n",
    "print(recur_factorial(1))\n",
    "print(recur_factorial(0))\n",
    "print(recur_factorial(3))"
   ]
  },
  {
   "cell_type": "markdown",
   "id": "d02114d4",
   "metadata": {},
   "source": [
    "#### Question 4\n",
    "\n",
    "Given a number N and a power P, the task is to find the exponent of this number raised to the given power, i.e. N^P."
   ]
  },
  {
   "cell_type": "code",
   "execution_count": 4,
   "id": "299bd5de",
   "metadata": {},
   "outputs": [
    {
     "name": "stdout",
     "output_type": "stream",
     "text": [
      "25\n"
     ]
    }
   ],
   "source": [
    "def power(base,exp):\n",
    "    if(exp==1):\n",
    "        return(base)\n",
    "    if(exp!=1):\n",
    "        return(base*power(base,exp-1))\n",
    "\n",
    "N = 5\n",
    "P = 2\n",
    "print(power(N,P))"
   ]
  },
  {
   "cell_type": "markdown",
   "id": "999b2d26",
   "metadata": {},
   "source": [
    "#### Question 5\n",
    "\n",
    "Given an array of integers arr, the task is to find maximum element of that array using recursion.\n",
    "\n",
    "Input: arr = {1, 4, 3, -5, -4, 8, 6};\n",
    "Output: 8"
   ]
  },
  {
   "cell_type": "code",
   "execution_count": 8,
   "id": "1a522323",
   "metadata": {},
   "outputs": [
    {
     "name": "stdout",
     "output_type": "stream",
     "text": [
      "8\n"
     ]
    }
   ],
   "source": [
    "def findMax(arr, n):\n",
    "    if (n == 1):\n",
    "        return arr[0]\n",
    "    return max(arr[n - 1], findMax(arr, n - 1))\n",
    "\n",
    "arr = [1, 4, 3, -5, -4, 8, 6]\n",
    "n = len(arr)\n",
    "print(findMax(arr, n))\n",
    "\n"
   ]
  },
  {
   "cell_type": "markdown",
   "id": "2f21c68d",
   "metadata": {},
   "source": [
    "#### Question 6\n",
    "\n",
    "Given first term (a), common difference (d) and a integer N of the Arithmetic Progression series, the task is to find Nth term of the series.\n",
    "\n",
    "Input : a = 2 d = 1 N = 5\n",
    "Output : 6"
   ]
  },
  {
   "cell_type": "code",
   "execution_count": 9,
   "id": "0bc4cf96",
   "metadata": {},
   "outputs": [
    {
     "name": "stdout",
     "output_type": "stream",
     "text": [
      "6\n"
     ]
    }
   ],
   "source": [
    "a = 2\n",
    "d = 1\n",
    "N = 5\n",
    "\n",
    "print((a + (N - 1) * d))"
   ]
  },
  {
   "cell_type": "markdown",
   "id": "533d0cc9",
   "metadata": {},
   "source": [
    "#### Question 7\n",
    "\n",
    "Given a string S, the task is to write a program to print all permutations of a given string."
   ]
  },
  {
   "cell_type": "code",
   "execution_count": 12,
   "id": "169c599c",
   "metadata": {},
   "outputs": [
    {
     "name": "stdout",
     "output_type": "stream",
     "text": [
      "ABC\n",
      "ACB\n",
      "BAC\n",
      "BCA\n",
      "CAB\n",
      "CBA\n"
     ]
    }
   ],
   "source": [
    "from itertools import permutations\n",
    "\n",
    "string = \"ABC\"\n",
    "string = list(string)\n",
    "permu = permutations(string, 3)\n",
    "\n",
    "\n",
    "for i in list(permu):\n",
    "    print(\"\".join(i))\n"
   ]
  },
  {
   "cell_type": "markdown",
   "id": "388e38a8",
   "metadata": {},
   "source": [
    "#### Question 8\n",
    "Given an array, find a product of all array elements."
   ]
  },
  {
   "cell_type": "code",
   "execution_count": 4,
   "id": "3060f747",
   "metadata": {},
   "outputs": [
    {
     "data": {
      "text/plain": [
       "120"
      ]
     },
     "execution_count": 4,
     "metadata": {},
     "output_type": "execute_result"
    }
   ],
   "source": [
    "def multiply(a, n):\n",
    "    if n == 0:\n",
    "        return(a[n])\n",
    "    else:\n",
    "        return (a[n] * multiply(a, n - 1))\n",
    "\n",
    "arr = [1, 2, 3, 4, 5]\n",
    "multiply(arr,len(arr)-1)"
   ]
  },
  {
   "cell_type": "code",
   "execution_count": null,
   "id": "218a5660",
   "metadata": {},
   "outputs": [],
   "source": []
  },
  {
   "cell_type": "code",
   "execution_count": null,
   "id": "d1beb93d",
   "metadata": {},
   "outputs": [],
   "source": []
  }
 ],
 "metadata": {
  "kernelspec": {
   "display_name": "Python 3 (ipykernel)",
   "language": "python",
   "name": "python3"
  },
  "language_info": {
   "codemirror_mode": {
    "name": "ipython",
    "version": 3
   },
   "file_extension": ".py",
   "mimetype": "text/x-python",
   "name": "python",
   "nbconvert_exporter": "python",
   "pygments_lexer": "ipython3",
   "version": "3.9.7"
  }
 },
 "nbformat": 4,
 "nbformat_minor": 5
}
