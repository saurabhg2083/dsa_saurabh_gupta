{
 "cells": [
  {
   "cell_type": "markdown",
   "id": "86f6f253",
   "metadata": {},
   "source": [
    "##### Assignment 23 Questions - Linked List | DSA\n",
    "\n",
    "https://pwskills.notion.site/Assignment-Questions-23-e33d164e29e64706abe8e244fb18ebfb"
   ]
  },
  {
   "cell_type": "markdown",
   "id": "c33f29a8",
   "metadata": {},
   "source": [
    "#### Question 1\n",
    "\n"
   ]
  },
  {
   "cell_type": "code",
   "execution_count": 1,
   "id": "18d34f7a",
   "metadata": {},
   "outputs": [
    {
     "name": "stdout",
     "output_type": "stream",
     "text": [
      "3\n"
     ]
    }
   ],
   "source": [
    "def findDepthRec(tree, n, index) :\n",
    "    if (index[0] >= n or tree[index[0]] == 'l'):\n",
    "        return 0\n",
    "\n",
    "    index[0] += 1\n",
    "    left = findDepthRec(tree, n, index)\n",
    "\n",
    "    index[0] += 1\n",
    "    right = findDepthRec(tree, n, index)\n",
    "    return (max(left, right) + 1)\n",
    "\n",
    "def findDepth(tree, n) :\n",
    "\n",
    "    index = [0]\n",
    "    return findDepthRec(tree, n, index)\n",
    "\n",
    "\n",
    "tree= \"nlnnlll\"\n",
    "n = len(tree)\n",
    "print(findDepth(tree, n))\n"
   ]
  },
  {
   "cell_type": "markdown",
   "id": "a5034378",
   "metadata": {},
   "source": [
    "#### Question 2\n",
    "\n"
   ]
  },
  {
   "cell_type": "code",
   "execution_count": 2,
   "id": "9b55bd29",
   "metadata": {},
   "outputs": [
    {
     "name": "stdout",
     "output_type": "stream",
     "text": [
      "10 2 7 14 "
     ]
    }
   ],
   "source": [
    "class Node:\n",
    "    def __init__(self, data):\n",
    "        self.data = data\n",
    "        self.left = None\n",
    "        self.right = None\n",
    "\n",
    "\n",
    "def leftViewUtil(root, level, max_level):\n",
    "    if root is None:\n",
    "        return\n",
    "\n",
    "    if (max_level[0] < level):\n",
    "        print (root.data, end = \" \")\n",
    "        max_level[0] = level\n",
    "\n",
    "    leftViewUtil(root.left, level + 1, max_level)\n",
    "    leftViewUtil(root.right, level + 1, max_level)\n",
    "\n",
    "def leftView(root):\n",
    "    max_level = [0]\n",
    "    leftViewUtil(root, 1, max_level)\n",
    "\n",
    "\n",
    "root = Node(10)\n",
    "root.left = Node(2)\n",
    "root.right = Node(3)\n",
    "root.left.left = Node(7)\n",
    "root.left.right = Node(8)\n",
    "root.right.right = Node(15)\n",
    "root.right.left = Node(12)\n",
    "root.right.right.left = Node(14)\n",
    "leftView(root)\n"
   ]
  },
  {
   "cell_type": "markdown",
   "id": "386d84e3",
   "metadata": {},
   "source": [
    "#### Question 3\n",
    "\n"
   ]
  },
  {
   "cell_type": "code",
   "execution_count": 4,
   "id": "7e90e058",
   "metadata": {},
   "outputs": [
    {
     "name": "stdout",
     "output_type": "stream",
     "text": [
      "1 \n",
      "3 \n",
      "7 \n",
      "8 \n"
     ]
    }
   ],
   "source": [
    "class Node:\n",
    "    def __init__(self, item):\n",
    "        self.data = item\n",
    "        self.left = None\n",
    "        self.right = None\n",
    "\n",
    "def rightViewUtil(root, level, max_level):\n",
    "    if root is None:\n",
    "        return\n",
    "\n",
    "    if (max_level[0] < level):\n",
    "        print(\"%d \" % (root.data))\n",
    "        max_level[0] = level\n",
    "\n",
    "    rightViewUtil(root.right, level+1, max_level)\n",
    "    rightViewUtil(root.left, level+1, max_level)\n",
    "\n",
    "\n",
    "def rightView(root):\n",
    "    max_level = [0]\n",
    "    rightViewUtil(root, 1, max_level)\n",
    "\n",
    "root = Node(1)\n",
    "root.left = Node(2)\n",
    "root.right = Node(3)\n",
    "root.left.left = Node(4)\n",
    "root.left.right = Node(5)\n",
    "root.right.left = Node(6)\n",
    "root.right.right = Node(7)\n",
    "root.right.left.right = Node(8)\n",
    "\n",
    "rightView(root)\n"
   ]
  },
  {
   "cell_type": "markdown",
   "id": "d02114d4",
   "metadata": {},
   "source": [
    "#### Question 4\n",
    "\n"
   ]
  },
  {
   "cell_type": "code",
   "execution_count": 4,
   "id": "299bd5de",
   "metadata": {},
   "outputs": [
    {
     "data": {
      "text/plain": [
       "2"
      ]
     },
     "execution_count": 4,
     "metadata": {},
     "output_type": "execute_result"
    }
   ],
   "source": [
    "class Node:\n",
    "    def __init__(self, key = None,\n",
    "                    left = None,\n",
    "                    right = None):\n",
    "\n",
    "        self.data = key\n",
    "        self.left = left\n",
    "        self.right = right\n",
    "\n",
    "def printBottomView(root):\n",
    "\n",
    "    # Create a dictionary where\n",
    "    # key -> relative horizontal distance\n",
    "    # of the node from root node and\n",
    "    # value -> pair containing node's\n",
    "    # value and its level\n",
    "    d = dict()\n",
    "\n",
    "    printBottomViewUtil(root, d, 0, 0)\n",
    "\n",
    "    # Traverse the dictionary in sorted\n",
    "    # order of their keys and print\n",
    "    # the bottom view\n",
    "    for i in sorted(d.keys()):\n",
    "        print(d[i][0], end = \" \")\n",
    "\n",
    "def printBottomViewUtil(root, d, hd, level):\n",
    "\n",
    "    # Base case\n",
    "    if root is None:\n",
    "        return\n",
    "\n",
    "    # If current level is more than or equal\n",
    "    # to maximum level seen so far for the\n",
    "    # same horizontal distance or horizontal\n",
    "    # distance is seen for the first time,\n",
    "    # update the dictionary\n",
    "    if hd in d:\n",
    "        if level >= d[hd][1]:\n",
    "            d[hd] = [root.data, level]\n",
    "    else:\n",
    "        d[hd] = [root.data, level]\n",
    "\n",
    "    # recur for left subtree by decreasing\n",
    "    # horizontal distance and increasing\n",
    "    # level by 1\n",
    "    printBottomViewUtil(root.left, d, hd - 1,level + 1)\n",
    "\n",
    "    # recur for right subtree by increasing\n",
    "    # horizontal distance and increasing\n",
    "    # level by 1\n",
    "    printBottomViewUtil(root.right, d, hd + 1, level + 1)\n",
    "\n",
    "\n",
    "root = Node(20)\n",
    "root.left = Node(8)\n",
    "root.right = Node(22)\n",
    "root.left.left = Node(5)\n",
    "root.left.right = Node(3)\n",
    "root.right.left = Node(4)\n",
    "root.right.right = Node(25)\n",
    "root.left.right.left = Node(10)\n",
    "root.left.right.right = Node(14)\n",
    "\n",
    "print(\"Bottom view of the given binary tree :\")\n",
    "printBottomView(root)\n",
    "\n"
   ]
  },
  {
   "cell_type": "markdown",
   "id": "999b2d26",
   "metadata": {},
   "source": [
    "#### Question 5\n",
    "\n"
   ]
  },
  {
   "cell_type": "code",
   "execution_count": 5,
   "id": "1a522323",
   "metadata": {},
   "outputs": [
    {
     "data": {
      "text/plain": [
       "[2, 3]"
      ]
     },
     "execution_count": 5,
     "metadata": {},
     "output_type": "execute_result"
    }
   ],
   "source": []
  },
  {
   "cell_type": "markdown",
   "id": "2f21c68d",
   "metadata": {},
   "source": [
    "#### Question 6\n",
    "\n"
   ]
  },
  {
   "cell_type": "code",
   "execution_count": 6,
   "id": "0bc4cf96",
   "metadata": {},
   "outputs": [
    {
     "data": {
      "text/plain": [
       "1"
      ]
     },
     "execution_count": 6,
     "metadata": {},
     "output_type": "execute_result"
    }
   ],
   "source": [
    "\n"
   ]
  },
  {
   "cell_type": "markdown",
   "id": "533d0cc9",
   "metadata": {},
   "source": [
    "#### Question 7\n",
    "\n"
   ]
  },
  {
   "cell_type": "code",
   "execution_count": 7,
   "id": "169c599c",
   "metadata": {
    "scrolled": true
   },
   "outputs": [
    {
     "data": {
      "text/plain": [
       "[3, 4]"
      ]
     },
     "execution_count": 7,
     "metadata": {},
     "output_type": "execute_result"
    }
   ],
   "source": []
  },
  {
   "cell_type": "markdown",
   "id": "388e38a8",
   "metadata": {},
   "source": [
    "#### Question 8\n",
    "\n"
   ]
  },
  {
   "cell_type": "code",
   "execution_count": 9,
   "id": "3060f747",
   "metadata": {},
   "outputs": [
    {
     "data": {
      "text/plain": [
       "[2, 2]"
      ]
     },
     "execution_count": 9,
     "metadata": {},
     "output_type": "execute_result"
    }
   ],
   "source": []
  },
  {
   "cell_type": "code",
   "execution_count": null,
   "id": "218a5660",
   "metadata": {},
   "outputs": [],
   "source": []
  },
  {
   "cell_type": "code",
   "execution_count": null,
   "id": "d1beb93d",
   "metadata": {},
   "outputs": [],
   "source": []
  }
 ],
 "metadata": {
  "kernelspec": {
   "display_name": "Python 3 (ipykernel)",
   "language": "python",
   "name": "python3"
  },
  "language_info": {
   "codemirror_mode": {
    "name": "ipython",
    "version": 3
   },
   "file_extension": ".py",
   "mimetype": "text/x-python",
   "name": "python",
   "nbconvert_exporter": "python",
   "pygments_lexer": "ipython3",
   "version": "3.10.9"
  }
 },
 "nbformat": 4,
 "nbformat_minor": 5
}
