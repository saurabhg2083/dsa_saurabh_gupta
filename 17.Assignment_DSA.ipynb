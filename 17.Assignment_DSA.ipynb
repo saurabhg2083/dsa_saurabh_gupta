{
 "cells": [
  {
   "cell_type": "markdown",
   "id": "86f6f253",
   "metadata": {},
   "source": [
    "##### Assignment 17 Questions - Linked List | DSA\n",
    "\n",
    "https://pwskills.notion.site/Assignment-Questions-17-94ed4c51dd5444889760c5239a6f5683?pvs=4"
   ]
  },
  {
   "cell_type": "markdown",
   "id": "c33f29a8",
   "metadata": {},
   "source": [
    "#### Question 1\n",
    "\n",
    "Given a string s, find the first non-repeating character in it and return its index. If it does not exist, return -1."
   ]
  },
  {
   "cell_type": "code",
   "execution_count": 4,
   "id": "18d34f7a",
   "metadata": {},
   "outputs": [
    {
     "name": "stdout",
     "output_type": "stream",
     "text": [
      "First non-repeating character is v\n"
     ]
    }
   ],
   "source": [
    "def func1(s):\n",
    "    index = -1\n",
    "    fnc = \"\"\n",
    "\n",
    "    if len(s) == 0 :\n",
    "        print(\"EMTPY STRING\");\n",
    "\n",
    "    for i in s:\n",
    "        if s.count(i) == 1:\n",
    "            fnc += i\n",
    "            break\n",
    "        else:\n",
    "            index += 1\n",
    "    if index == len(s)-1 :\n",
    "        print(\"All characters are repeating \")\n",
    "    else:\n",
    "        print(\"First non-repeating character is\", fnc)\n",
    "\n",
    "s = \"loveleetcode\"\n",
    "func1(s)"
   ]
  },
  {
   "cell_type": "markdown",
   "id": "a5034378",
   "metadata": {},
   "source": [
    "#### Question 2\n",
    "Given a **circular integer array** `nums` of length `n`, return *the maximum possible sum of a non-empty **subarray** of* `nums`.\n",
    "\n",
    "A circular array means the end of the array connects to the beginning of the array. Formally, the next element of nums[i] is nums[(i + 1) % n] and the previous element of nums[i] is nums[(i - 1 + n) % n].\n",
    "\n",
    "A subarray may only include each element of the fixed buffer nums at most once. Formally, for a subarray nums[i], nums[i + 1], ..., nums[j], there does not exist i <= k1, k2 <= j with k1 % n == k2 % n."
   ]
  },
  {
   "cell_type": "code",
   "execution_count": 6,
   "id": "9b55bd29",
   "metadata": {},
   "outputs": [
    {
     "name": "stdout",
     "output_type": "stream",
     "text": [
      "Maximum circular sum is 31\n"
     ]
    }
   ],
   "source": [
    "def maxCircularSum(a, n):\n",
    "    if (n == 1):\n",
    "        return a[0]\n",
    "\n",
    "    sum = 0\n",
    "    for i in range(n):\n",
    "        sum += a[i]\n",
    "\n",
    "    curr_max = a[0]\n",
    "    max_so_far = a[0]\n",
    "    curr_min = a[0]\n",
    "    min_so_far = a[0]\n",
    "\n",
    "    for i in range(1, n):\n",
    "        curr_max = max(curr_max + a[i], a[i])\n",
    "        max_so_far = max(max_so_far, curr_max)\n",
    "\n",
    "        curr_min = min(curr_min + a[i], a[i])\n",
    "        min_so_far = min(min_so_far, curr_min)\n",
    "    if (min_so_far == sum):\n",
    "        return max_so_far\n",
    "\n",
    "    return max(max_so_far, sum - min_so_far)\n",
    "\n",
    "\n",
    "a = [11, 10, -20, 5, -3, -5, 8, -13, 10]\n",
    "n = len(a)\n",
    "print(\"Maximum circular sum is\", maxCircularSum(a, n))\n"
   ]
  },
  {
   "cell_type": "markdown",
   "id": "386d84e3",
   "metadata": {},
   "source": [
    "#### Question 3\n",
    "\n",
    "The school cafeteria offers circular and square sandwiches at lunch break, referred to by numbers 0 and 1 respectively. All students stand in a queue. Each student either prefers square or circular sandwiches."
   ]
  },
  {
   "cell_type": "code",
   "execution_count": 13,
   "id": "7e90e058",
   "metadata": {},
   "outputs": [
    {
     "data": {
      "text/plain": [
       "3"
      ]
     },
     "execution_count": 13,
     "metadata": {},
     "output_type": "execute_result"
    }
   ],
   "source": [
    "def countStudents(students, sandwiches):\n",
    "    count = 0\n",
    "    while len(students) > count:\n",
    "        if students[0] == sandwiches[0]:\n",
    "            sandwiches.pop(0)\n",
    "            count = 0\n",
    "        else:\n",
    "            students.append(students[0])\n",
    "            count+=1\n",
    "\n",
    "        students.pop(0)\n",
    "    return len(students)\n",
    "\n",
    "students = [1,1,1,0,0,1] \n",
    "sandwiches = [1,0,0,0,1,1]\n",
    "\n",
    "countStudents(students, sandwiches)"
   ]
  },
  {
   "cell_type": "markdown",
   "id": "d02114d4",
   "metadata": {},
   "source": [
    "#### Question 4\n",
    "\n",
    "You have a RecentCounter class which counts the number of recent requests within a certain time frame."
   ]
  },
  {
   "cell_type": "code",
   "execution_count": 18,
   "id": "299bd5de",
   "metadata": {},
   "outputs": [
    {
     "data": {
      "text/plain": [
       "3"
      ]
     },
     "execution_count": 18,
     "metadata": {},
     "output_type": "execute_result"
    }
   ],
   "source": [
    "from collections import deque\n",
    "class RecentCounter:\n",
    "\n",
    "    def __init__(self):\n",
    "        self.q = deque()\n",
    "        \n",
    "    def ping(self, t: int) -> int:\n",
    "        self.q.append(t)\n",
    "        \n",
    "        while t - self.q[0] > 3000:\n",
    "            self.q.popleft()\n",
    "            \n",
    "        return len(self.q)\n",
    "        \n",
    "\n",
    "obj = RecentCounter()\n",
    "obj.ping(1)\n",
    "obj.ping(100)\n",
    "obj.ping(3001)\n",
    "obj.ping(3002)"
   ]
  },
  {
   "cell_type": "markdown",
   "id": "999b2d26",
   "metadata": {},
   "source": [
    "#### Question 5\n",
    "\n",
    "There are n friends that are playing a game. The friends are sitting in a circle and are numbered from 1 to n in clockwise order. More formally, moving clockwise from the ith friend brings you to the (i+1)th friend for 1 <= i < n, and moving clockwise from the nth friend brings you to the 1st friend."
   ]
  },
  {
   "cell_type": "code",
   "execution_count": 21,
   "id": "1a522323",
   "metadata": {},
   "outputs": [
    {
     "data": {
      "text/plain": [
       "3"
      ]
     },
     "execution_count": 21,
     "metadata": {},
     "output_type": "execute_result"
    }
   ],
   "source": [
    "def findTheWinner(n, k):\n",
    "    nums=[]\n",
    "    for i in range(1,n+1):\n",
    "        nums.append(i)\n",
    "    j=0\n",
    "    while len(nums)!=1:\n",
    "        j=(j+k-1)%len(nums)\n",
    "        #print(j)\n",
    "        nums.remove(nums[j])\n",
    "    return nums[0]\n",
    "\n",
    "n = 5 \n",
    "k = 2\n",
    "findTheWinner(n, k)"
   ]
  },
  {
   "cell_type": "markdown",
   "id": "2f21c68d",
   "metadata": {},
   "source": [
    "#### Question 6\n",
    "\n"
   ]
  },
  {
   "cell_type": "code",
   "execution_count": null,
   "id": "0bc4cf96",
   "metadata": {},
   "outputs": [],
   "source": []
  },
  {
   "cell_type": "markdown",
   "id": "533d0cc9",
   "metadata": {},
   "source": [
    "#### Question 7\n",
    "\n"
   ]
  },
  {
   "cell_type": "code",
   "execution_count": 25,
   "id": "169c599c",
   "metadata": {
    "scrolled": true
   },
   "outputs": [
    {
     "name": "stdout",
     "output_type": "stream",
     "text": [
      "[1, 3, 2]\n",
      "[1, 4, 3, 2]\n",
      "-1\n"
     ]
    }
   ],
   "source": [
    "class FrontMiddleBackQueue:\n",
    "\n",
    "    def __init__(self):\n",
    "        self.q=[]\n",
    "        \n",
    "\n",
    "    def pushFront(self, val: int) -> None:\n",
    "        self.q.insert(0,val)\n",
    "        \n",
    "\n",
    "    def pushMiddle(self, val: int) -> None:\n",
    "        n=len(self.q)\n",
    "        if n%2==0:\n",
    "            n=(n/2)\n",
    "        else:\n",
    "            n=int(n//2)\n",
    "        i=0\n",
    "        self.q.insert(int(n),val)\n",
    "        print(self.q)\n",
    "        \n",
    "\n",
    "    def pushBack(self, val: int) -> None:\n",
    "        self.q.append(val)\n",
    "\n",
    "        \n",
    "\n",
    "    def popFront(self) -> int:\n",
    "        if len(self.q)==0:\n",
    "            return -1\n",
    "        l=self.q[0]\n",
    "        del self.q[0]\n",
    "        return l\n",
    "        \n",
    "\n",
    "    def popMiddle(self) -> int:\n",
    "        if len(self.q)==0:\n",
    "            return -1\n",
    "        n=len(self.q)\n",
    "        if n%2==0:\n",
    "            n=(n/2)-1\n",
    "        else:\n",
    "            n=n//2\n",
    "        p=self.q[int(n)]\n",
    "        del self.q[int(n)]\n",
    "        return p\n",
    "        \n",
    "\n",
    "    def popBack(self) -> int:\n",
    "        if len(self.q)==0:\n",
    "            return -1\n",
    "        p=self.q[len(self.q)-1]\n",
    "        del self.q[len(self.q)-1]\n",
    "        return p\n",
    "\n",
    "        \n",
    "\n",
    "obj = FrontMiddleBackQueue()\n",
    "obj.pushFront(1)\n",
    "obj.pushBack(2)\n",
    "obj.pushMiddle(3)\n",
    "obj.pushMiddle(4)\n",
    "\n",
    "param_1 = obj.popFront()\n",
    "param_3 = obj.popMiddle()\n",
    "param_4 = obj.popMiddle()\n",
    "param_2 = obj.popBack()\n",
    "param_0 = obj.popFront()\n",
    "print(param_0)"
   ]
  },
  {
   "cell_type": "markdown",
   "id": "388e38a8",
   "metadata": {},
   "source": [
    "\n"
   ]
  },
  {
   "cell_type": "code",
   "execution_count": null,
   "id": "3060f747",
   "metadata": {},
   "outputs": [],
   "source": []
  },
  {
   "cell_type": "code",
   "execution_count": null,
   "id": "218a5660",
   "metadata": {},
   "outputs": [],
   "source": []
  },
  {
   "cell_type": "code",
   "execution_count": null,
   "id": "d1beb93d",
   "metadata": {},
   "outputs": [],
   "source": []
  }
 ],
 "metadata": {
  "kernelspec": {
   "display_name": "Python 3 (ipykernel)",
   "language": "python",
   "name": "python3"
  },
  "language_info": {
   "codemirror_mode": {
    "name": "ipython",
    "version": 3
   },
   "file_extension": ".py",
   "mimetype": "text/x-python",
   "name": "python",
   "nbconvert_exporter": "python",
   "pygments_lexer": "ipython3",
   "version": "3.10.9"
  }
 },
 "nbformat": 4,
 "nbformat_minor": 5
}
