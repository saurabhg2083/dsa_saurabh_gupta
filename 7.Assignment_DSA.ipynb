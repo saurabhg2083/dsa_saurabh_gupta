{
 "cells": [
  {
   "cell_type": "markdown",
   "id": "86f6f253",
   "metadata": {},
   "source": [
    "##### Assignment 7 Questions - Arrays | DSA\n",
    "\n",
    "https://pwskills.notion.site/Assignment-Questions-7-31c35a3696374c8faea68a02fdb29273"
   ]
  },
  {
   "cell_type": "markdown",
   "id": "c33f29a8",
   "metadata": {},
   "source": [
    "#### Question 1\n",
    "\n",
    "Given two strings s and t, determine if they are isomorphic.\n",
    "\n",
    "**Input:** s = \"egg\", t = \"add\"\n",
    "\n",
    "**Output:** true"
   ]
  },
  {
   "cell_type": "code",
   "execution_count": 2,
   "id": "18d34f7a",
   "metadata": {},
   "outputs": [
    {
     "name": "stdout",
     "output_type": "stream",
     "text": [
      "a\n",
      "{'e': 'a'}\n",
      "d\n",
      "{'e': 'a', 'g': 'd'}\n",
      "{'e': 'a', 'g': 'd'}\n",
      "{'e': 'a', 'g': 'd'}\n",
      "f\n",
      "{'e': 'a', 'g': 'd', 'c': 'f'}\n",
      "{'e': 'a', 'g': 'd', 'c': 'f'}\n",
      "True\n"
     ]
    }
   ],
   "source": [
    "def isomorphic(s, t):\n",
    "    charCount = dict()\n",
    "    c = \"a\"\n",
    "    for i in range(len(s)):\n",
    "        if s[i] in charCount:\n",
    "            c = charCount[s[i]]\n",
    "            if c != t[i]:\n",
    "                return False\n",
    "        elif t[i] not in charCount.values():\n",
    "            print(t[i])\n",
    "            charCount[s[i]] = t[i]\n",
    "        else:\n",
    "            return False\n",
    "        print(charCount)\n",
    "    return True\n",
    "\n",
    "\n",
    "s = \"eggecc\"\n",
    "t = \"addaff\"\n",
    "\n",
    "if (len(s) == len(t) and isomorphic(s, t)):\n",
    "    print(\"True\")\n",
    "else:\n",
    "    print(\"False\")"
   ]
  },
  {
   "cell_type": "markdown",
   "id": "a5034378",
   "metadata": {},
   "source": [
    "#### Question 2\n",
    "\n",
    "Given a string num which represents an integer, return true if num is a strobogrammatic number.\n"
   ]
  },
  {
   "cell_type": "code",
   "execution_count": 3,
   "id": "9b55bd29",
   "metadata": {},
   "outputs": [
    {
     "data": {
      "text/plain": [
       "True"
      ]
     },
     "execution_count": 3,
     "metadata": {},
     "output_type": "execute_result"
    }
   ],
   "source": [
    "def isStrobogrammatic(num):\n",
    "    d = [0, 1, -1, -1, -1, -1, 9, -1, 8, 6] # index ==> value, eg. last one, index=9 val=6\n",
    "    i, j = 0, len(num) - 1\n",
    "    while i <= j:\n",
    "        a, b = int(num[i]), int(num[j])\n",
    "        if d[a] != b:\n",
    "            return False\n",
    "        i, j = i + 1, j - 1\n",
    "    return True\n",
    "\n",
    "num = \"69\"\n",
    "isStrobogrammatic(num)"
   ]
  },
  {
   "cell_type": "markdown",
   "id": "386d84e3",
   "metadata": {},
   "source": [
    "#### Question 3\n",
    "\n",
    "Given two non-negative integers, num1 and num2 represented as string, return the sum of num1 and num2 as a string.\n"
   ]
  },
  {
   "cell_type": "code",
   "execution_count": 4,
   "id": "7e90e058",
   "metadata": {},
   "outputs": [
    {
     "data": {
      "text/plain": [
       "'134'"
      ]
     },
     "execution_count": 4,
     "metadata": {},
     "output_type": "execute_result"
    }
   ],
   "source": [
    "def addstr(num1,num2):\n",
    "    return str(int(num1)+int(num2))\n",
    "\n",
    "num1 = \"11\"\n",
    "num2 = \"123\"\n",
    "addstr(num1,num2)"
   ]
  },
  {
   "cell_type": "code",
   "execution_count": 5,
   "id": "c4d2f1c4",
   "metadata": {},
   "outputs": [
    {
     "data": {
      "text/plain": [
       "'134'"
      ]
     },
     "execution_count": 5,
     "metadata": {},
     "output_type": "execute_result"
    }
   ],
   "source": [
    "def addStrings(num1: str, num2: str) -> str:\n",
    "    num1 = num1[::-1]\n",
    "    num2 = num2[::-1]\n",
    "\n",
    "    if len(num1) < len(num2):\n",
    "        num1 += '0' * (len(num2) - len(num1))\n",
    "    else:\n",
    "        num2 += '0' * (len(num1) - len(num2))\n",
    "\n",
    "    result = ''\n",
    "    carry = 0\n",
    "\n",
    "    for i in range(len(num1)):        \n",
    "        digit_sum = int(num1[i]) + int(num2[i]) + carry\n",
    "        carry = digit_sum // 10\n",
    "        result += str(digit_sum % 10)\n",
    "\n",
    "    if carry > 0:\n",
    "        result += str(carry)\n",
    "\n",
    "    return result[::-1]\n",
    "\n",
    "\n",
    "num1 = \"11\"\n",
    "num2 = \"123\"\n",
    "addStrings(num1,num2)"
   ]
  },
  {
   "cell_type": "markdown",
   "id": "d02114d4",
   "metadata": {},
   "source": [
    "#### Question 4\n",
    "Given a string s, reverse the order of characters in each word within a sentence while still preserving whitespace and initial word order.\n",
    "\n",
    "**Example 1:**\n",
    "\n",
    "**Input:** s = \"Let's take LeetCode contest\"\n",
    "\n",
    "**Output:** \"s'teL ekat edoCteeL tsetnoc\"\n"
   ]
  },
  {
   "cell_type": "code",
   "execution_count": 6,
   "id": "299bd5de",
   "metadata": {},
   "outputs": [
    {
     "name": "stdout",
     "output_type": "stream",
     "text": [
      "s'teL ekat edoCteeL tsetnoc"
     ]
    }
   ],
   "source": [
    "def reverseWords(s):\n",
    "    st = list()\n",
    "    for i in range(len(s)):\n",
    "        if s[i] != \" \":\n",
    "            st.append(s[i])\n",
    "\n",
    "        else:\n",
    "            while len(st) > 0:\n",
    "                print(st[-1], end=\"\")\n",
    "                st.pop()\n",
    "            print(end=\" \")\n",
    "\n",
    "    while len(st) > 0:\n",
    "        print(st[-1], end=\"\")\n",
    "        st.pop()\n",
    "\n",
    "\n",
    "s = \"Let's take LeetCode contest\"\n",
    "reverseWords(s)"
   ]
  },
  {
   "cell_type": "markdown",
   "id": "999b2d26",
   "metadata": {},
   "source": [
    "#### Question 5\n",
    "\n",
    "Given a string s and an integer k, reverse the first k characters for every 2k characters counting from the start of the string\n",
    "\n",
    "If there are fewer than k characters left, reverse all of them. If there are less than 2k but greater than or equal to k characters, then reverse the first k characters and leave the other as original.\n",
    "\n",
    "s = \"abcdefg\", k = 2\n",
    "\n",
    "\"bacdfeg\"\n"
   ]
  },
  {
   "cell_type": "code",
   "execution_count": 7,
   "id": "1a522323",
   "metadata": {},
   "outputs": [
    {
     "data": {
      "text/plain": [
       "'bacdfeg'"
      ]
     },
     "execution_count": 7,
     "metadata": {},
     "output_type": "execute_result"
    }
   ],
   "source": [
    "def revAlternateK(s, k):\n",
    "    i = 0\n",
    "    ln = len(s)\n",
    "     \n",
    "    while(i < len(s)):\n",
    "        if (i + k > ln):\n",
    "            break\n",
    "\n",
    "        ss = s[i:i + k]\n",
    "        s = s[:i]+ss[::-1]+s[i + k:]\n",
    "         \n",
    "        i += 2 * k\n",
    "     \n",
    "    return s\n",
    "\n",
    "s = \"abcdefg\"\n",
    "k = 2\n",
    "revAlternateK(s, k)"
   ]
  },
  {
   "cell_type": "markdown",
   "id": "2f21c68d",
   "metadata": {},
   "source": [
    "#### Question 6\n",
    "\n",
    "Given two strings s and goal, return true if and only if s can become goal after some number of shifts on s.\n",
    "s = \"abcde\", goal = \"cdeab\""
   ]
  },
  {
   "cell_type": "code",
   "execution_count": 8,
   "id": "0bc4cf96",
   "metadata": {},
   "outputs": [
    {
     "data": {
      "text/plain": [
       "True"
      ]
     },
     "execution_count": 8,
     "metadata": {},
     "output_type": "execute_result"
    }
   ],
   "source": [
    "def check_rotation(s, goal):\n",
    " \n",
    "    if (len(s) != len(goal)):\n",
    "        return False\n",
    " \n",
    "    q1 = []\n",
    "    for i in range(len(s)):\n",
    "        q1.insert(0, s[i])\n",
    " \n",
    "    q2 = []\n",
    "    for i in range(len(goal)):\n",
    "        q2.insert(0, goal[i])\n",
    " \n",
    "    #print(q1,q2)\n",
    "    k = len(goal)\n",
    "    while (k > 0):\n",
    "        ch = q2[0]\n",
    "        q2.pop(0)\n",
    "        q2.append(ch)\n",
    "        if (q2 == q1):\n",
    "            return True\n",
    " \n",
    "        k -= 1\n",
    " \n",
    "    return False\n",
    "\n",
    "s = \"abcde\"\n",
    "goal = \"cdeab\"\n",
    "\n",
    "check_rotation(s,goal)"
   ]
  },
  {
   "cell_type": "markdown",
   "id": "533d0cc9",
   "metadata": {},
   "source": [
    "#### Question 7\n",
    "\n",
    "Given two strings s and t, return true if they are equal when both are typed into empty text editors. '#' means a backspace character."
   ]
  },
  {
   "cell_type": "code",
   "execution_count": 9,
   "id": "169c599c",
   "metadata": {},
   "outputs": [
    {
     "data": {
      "text/plain": [
       "True"
      ]
     },
     "execution_count": 9,
     "metadata": {},
     "output_type": "execute_result"
    }
   ],
   "source": [
    "def backspaceCompare(s, t):\n",
    "    s_backspaced = []\n",
    "    t_backspaced = []\n",
    "\n",
    "    for i in range(len(s)):\n",
    "        if s[i] == '#':\n",
    "            if s_backspaced:\n",
    "                s_backspaced.pop()\n",
    "        else:\n",
    "            s_backspaced.append(s[i])\n",
    "\n",
    "    for i in range(len(t)):\n",
    "        if t[i] == '#':\n",
    "            if t_backspaced:\n",
    "                t_backspaced.pop()\n",
    "        else:\n",
    "            t_backspaced.append(t[i])\n",
    "    \n",
    "    return s_backspaced == t_backspaced\n",
    "\n",
    "s = \"ab#c\"\n",
    "t = \"ad#c\"\n",
    "backspaceCompare(s,t)"
   ]
  },
  {
   "cell_type": "markdown",
   "id": "388e38a8",
   "metadata": {},
   "source": [
    "#### Question 8\n",
    "you are given an array coordinates, coordinates[i] = [x, y], where [x, y] represents the coordinate of a point. Check if these points make a straight line in the XY plane."
   ]
  },
  {
   "cell_type": "code",
   "execution_count": 10,
   "id": "3060f747",
   "metadata": {},
   "outputs": [
    {
     "data": {
      "text/plain": [
       "True"
      ]
     },
     "execution_count": 10,
     "metadata": {},
     "output_type": "execute_result"
    }
   ],
   "source": [
    "def checkStraightLine(coordinates) :\n",
    "    x0, y0 = coordinates[0]\n",
    "    x1, y1 = coordinates[1]\n",
    "    dy = y1 - y0\n",
    "    dx = x1 - x0\n",
    "    xp = dx*y0 - dy*x0  \n",
    "\n",
    "    for x, y in coordinates:\n",
    "        if dx*y - dy*x != xp:\n",
    "            return False\n",
    "    else:\n",
    "        return True\n",
    "\n",
    "    \n",
    "coordinates = [[1,2],[2,3],[3,4],[4,5],[5,6],[6,7]]\n",
    "checkStraightLine(coordinates)"
   ]
  },
  {
   "cell_type": "code",
   "execution_count": null,
   "id": "218a5660",
   "metadata": {},
   "outputs": [],
   "source": []
  }
 ],
 "metadata": {
  "kernelspec": {
   "display_name": "Python 3 (ipykernel)",
   "language": "python",
   "name": "python3"
  },
  "language_info": {
   "codemirror_mode": {
    "name": "ipython",
    "version": 3
   },
   "file_extension": ".py",
   "mimetype": "text/x-python",
   "name": "python",
   "nbconvert_exporter": "python",
   "pygments_lexer": "ipython3",
   "version": "3.9.7"
  }
 },
 "nbformat": 4,
 "nbformat_minor": 5
}
