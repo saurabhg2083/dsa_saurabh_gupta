{
 "cells": [
  {
   "cell_type": "markdown",
   "id": "86f6f253",
   "metadata": {},
   "source": [
    "##### Assignment 12 Questions - Linked List | DSA\n",
    "\n",
    "https://pwskills.notion.site/Assignment-Questions-12-e42f0d07dd604b1fb2fe079a593a2486"
   ]
  },
  {
   "cell_type": "markdown",
   "id": "c33f29a8",
   "metadata": {},
   "source": [
    "#### Question 1"
   ]
  },
  {
   "cell_type": "code",
   "execution_count": 1,
   "id": "41cde65f",
   "metadata": {},
   "outputs": [],
   "source": [
    "class Node:\n",
    "    def __init__(self):\n",
    "        self.data = 0\n",
    "        self.next = None\n",
    "        self.flag = 0\n",
    "\n",
    "def push(head_ref, new_data):\n",
    "    ''' allocate node '''\n",
    "    new_node = Node()\n",
    "\n",
    "    ''' put in the data '''\n",
    "    new_node.data = new_data\n",
    "\n",
    "    new_node.flag = 0\n",
    "\n",
    "    ''' link the old list of the new node '''\n",
    "    new_node.next = (head_ref)\n",
    "\n",
    "    ''' move the head to point to the new node '''\n",
    "    (head_ref) = new_node\n",
    "    return head_ref\n",
    "\n",
    "\n",
    "def printlink(head):\n",
    "\n",
    "    linkedListStr = \"\"\n",
    "    temp = head\n",
    "\n",
    "    while temp:\n",
    "        linkedListStr += str(temp.data) + \"->\"\n",
    "        temp = temp.next\n",
    "\n",
    "    return linkedListStr + \"NULL\""
   ]
  },
  {
   "cell_type": "code",
   "execution_count": 50,
   "id": "35ceff7b",
   "metadata": {},
   "outputs": [
    {
     "name": "stdout",
     "output_type": "stream",
     "text": [
      "10->15->4->20->NULL\n",
      "10->15->20->NULL\n"
     ]
    }
   ],
   "source": [
    "def deleteMid(head):\n",
    "\n",
    "    # Base cases\n",
    "    if (head is None or \n",
    "        head.next is None):\n",
    "        return\n",
    "\n",
    "    slow_Ptr = head\n",
    "    fast_Ptr = head\n",
    "\n",
    "    # Find the middle and previous of middle\n",
    "    prev = None\n",
    "\n",
    "    # To store previous of slow pointer\n",
    "    while (fast_Ptr is not None and \n",
    "           fast_Ptr.next is not None):\n",
    "        fast_Ptr = fast_Ptr.next.next\n",
    "        prev = slow_Ptr\n",
    "        slow_Ptr = slow_Ptr.next\n",
    "\n",
    "    # Delete the middle node\n",
    "    prev.next = slow_Ptr.next\n",
    "\n",
    "\n",
    "head = None\n",
    "head = push(head, 20)\n",
    "head = push(head, 4)\n",
    "head = push(head, 15)\n",
    "head = push(head, 10)\n",
    "\n",
    "print(printlink(head))\n",
    "deleteMid(head)\n",
    "print(printlink(head))"
   ]
  },
  {
   "cell_type": "markdown",
   "id": "a5034378",
   "metadata": {},
   "source": [
    "#### Question 2\n",
    "\n"
   ]
  },
  {
   "cell_type": "code",
   "execution_count": 52,
   "id": "9b55bd29",
   "metadata": {},
   "outputs": [
    {
     "name": "stdout",
     "output_type": "stream",
     "text": [
      "True\n"
     ]
    }
   ],
   "source": [
    "def detectLoop(h):\n",
    "    while (h != None):\n",
    "        if (h.flag == 1):\n",
    "            return True\n",
    "        h.flag = 1\n",
    "        h = h.next\n",
    "    return False\n",
    "\n",
    "head = None\n",
    "head = push(head, 20)\n",
    "head = push(head, 4)\n",
    "head = push(head, 15)\n",
    "head = push(head, 10)\n",
    "\n",
    "head.next.next.next.next = head\n",
    "\n",
    "print(detectLoop(head))"
   ]
  },
  {
   "cell_type": "markdown",
   "id": "386d84e3",
   "metadata": {},
   "source": [
    "#### Question 3\n",
    "\n"
   ]
  },
  {
   "cell_type": "code",
   "execution_count": 53,
   "id": "7e90e058",
   "metadata": {},
   "outputs": [
    {
     "name": "stdout",
     "output_type": "stream",
     "text": [
      "Node no. 2 from last is  4 \n"
     ]
    }
   ],
   "source": [
    "def printNthFromLast(head, N):\n",
    "    main_ptr = head\n",
    "    ref_ptr = head\n",
    "\n",
    "    count = 0\n",
    "    if(head is not None):\n",
    "        while(count < N):\n",
    "            if(ref_ptr is None):\n",
    "                print(\"% d is greater than the no. pf nodes in list\" % (N))\n",
    "                return\n",
    "            ref_ptr = ref_ptr.next\n",
    "            count += 1\n",
    "\n",
    "    if(ref_ptr is None):\n",
    "        head = head.next\n",
    "        if(head is not None):\n",
    "            print(\"Node no. % d from last is % d \"\n",
    "                  % (N, main_ptr.data))\n",
    "    else:\n",
    "\n",
    "        while(ref_ptr is not None):\n",
    "            main_ptr = main_ptr.next\n",
    "            ref_ptr = ref_ptr.next\n",
    "\n",
    "        print(\"Node no. %d from last is % d \"% (N, main_ptr.data))\n",
    "\n",
    "head = None\n",
    "head = push(head, 20)\n",
    "head = push(head, 4)\n",
    "head = push(head, 15)\n",
    "head = push(head, 10)\n",
    "N = 2\n",
    "printNthFromLast(head,N)"
   ]
  },
  {
   "cell_type": "markdown",
   "id": "d02114d4",
   "metadata": {},
   "source": [
    "#### Question 4\n",
    "\n"
   ]
  },
  {
   "cell_type": "code",
   "execution_count": null,
   "id": "299bd5de",
   "metadata": {},
   "outputs": [],
   "source": [
    "def isPalindrome(head):\n",
    "   # Temp pointer\n",
    "    slow = head\n",
    " \n",
    "    # Declare a stack\n",
    "    stack = []\n",
    " \n",
    "    ispalin = True\n",
    " \n",
    "    # Push all elements of the list\n",
    "    # to the stack\n",
    "    while slow != None:\n",
    "        stack.append(slow.data)\n",
    " \n",
    "        # Move ahead\n",
    "        slow = slow.ptr\n",
    " \n",
    "    # Iterate in the list again and\n",
    "    # check by popping from the stack\n",
    "    while head != None:\n",
    " \n",
    "        # Get the top most element\n",
    "        i = stack.pop()\n",
    " \n",
    "        # Check if data is not\n",
    "        # same as popped element\n",
    "        if head.data == i:\n",
    "            ispalin = True\n",
    "        else:\n",
    "            ispalin = False\n",
    "            break\n",
    " \n",
    "        # Move ahead\n",
    "        head = head.ptr\n",
    " \n",
    "    return ispalin\n",
    "\n",
    "\n",
    "\n",
    "\n",
    "head = push(head, 4)\n",
    "head = push(head, 15)\n",
    "head = push(head, 10)\n",
    "\n",
    "str = ['a', 'b', 'a', 'c', 'a', 'b', 'a']\n",
    "\n",
    "head = None\n",
    "for i in range(0, 7):\n",
    "    head = push(head, str[i])\n",
    "\n",
    "if (isPalindrome(head) and i != 0):\n",
    "    print(\"Is Palindrome\\n\")\n",
    "else:\n",
    "    print(\"Not Palindrome\\n\")"
   ]
  },
  {
   "cell_type": "markdown",
   "id": "999b2d26",
   "metadata": {},
   "source": [
    "#### Question 5\n",
    "\n"
   ]
  },
  {
   "cell_type": "code",
   "execution_count": 6,
   "id": "1a522323",
   "metadata": {},
   "outputs": [
    {
     "name": "stdout",
     "output_type": "stream",
     "text": [
      "Linked List after removing loop\n",
      "10\n",
      "15\n",
      "4\n"
     ]
    }
   ],
   "source": [
    "def removeLoop(h):\n",
    "    s = set()\n",
    "    prev = None\n",
    "    while (h != None):\n",
    "        # If we have already has this node\n",
    "        # in hashmap it means there is a cycle and we\n",
    "        # need to remove this cycle so set the next of\n",
    "        # the previous pointer with null.\n",
    "        if (h in s):\n",
    "            prev.next = None\n",
    "            return True\n",
    "        else:\n",
    "            s.add(h)\n",
    "            prev = h\n",
    "            h = h.next\n",
    "    return False\n",
    "\n",
    "head = None\n",
    "head = push(head, 20)\n",
    "head = push(head, 4)\n",
    "head = push(head, 15)\n",
    "head = push(head, 10)\n",
    "\n",
    "\n",
    "head.next.next.next = head\n",
    "\n",
    "def printList(node):\n",
    "    while (node != None):\n",
    "        print(node.data)\n",
    "        node = node.next \n",
    "        \n",
    "if (removeLoop(head)):\n",
    "    print(\"Linked List after removing loop\")\n",
    "    printList(head)\n",
    "else:\n",
    "    print(\"No Loop found\")"
   ]
  },
  {
   "cell_type": "markdown",
   "id": "2f21c68d",
   "metadata": {},
   "source": [
    "#### Question 6\n",
    "\n"
   ]
  },
  {
   "cell_type": "code",
   "execution_count": null,
   "id": "0bc4cf96",
   "metadata": {},
   "outputs": [],
   "source": []
  },
  {
   "cell_type": "markdown",
   "id": "533d0cc9",
   "metadata": {},
   "source": [
    "#### Question 7\n",
    "\n"
   ]
  },
  {
   "cell_type": "code",
   "execution_count": null,
   "id": "169c599c",
   "metadata": {
    "scrolled": true
   },
   "outputs": [],
   "source": []
  },
  {
   "cell_type": "markdown",
   "id": "388e38a8",
   "metadata": {},
   "source": [
    "#### Question 8\n",
    "\n"
   ]
  },
  {
   "cell_type": "code",
   "execution_count": 12,
   "id": "3060f747",
   "metadata": {},
   "outputs": [
    {
     "data": {
      "text/plain": [
       "True"
      ]
     },
     "execution_count": 12,
     "metadata": {},
     "output_type": "execute_result"
    }
   ],
   "source": [
    "def Circular(head):\n",
    "    if head == None:\n",
    "        return True\n",
    "  \n",
    "    # Next of head\n",
    "    node = head.next\n",
    "    i = 0\n",
    "  \n",
    "    # This loop would stop in both cases (1) If\n",
    "    # Circular (2) Not circular\n",
    "    while((node is not None) and (node is not head)):\n",
    "        i = i + 1\n",
    "        node = node.next\n",
    "  \n",
    "    return(node == head)\n",
    "\n",
    "head = None\n",
    "head = push(head, 20)\n",
    "head = push(head, 4)\n",
    "head = push(head, 15)\n",
    "head = push(head, 10)\n",
    "head.next.next.next.next = head\n",
    "Circular(head)"
   ]
  },
  {
   "cell_type": "code",
   "execution_count": null,
   "id": "218a5660",
   "metadata": {},
   "outputs": [],
   "source": []
  },
  {
   "cell_type": "code",
   "execution_count": null,
   "id": "d1beb93d",
   "metadata": {},
   "outputs": [],
   "source": []
  }
 ],
 "metadata": {
  "kernelspec": {
   "display_name": "Python 3 (ipykernel)",
   "language": "python",
   "name": "python3"
  },
  "language_info": {
   "codemirror_mode": {
    "name": "ipython",
    "version": 3
   },
   "file_extension": ".py",
   "mimetype": "text/x-python",
   "name": "python",
   "nbconvert_exporter": "python",
   "pygments_lexer": "ipython3",
   "version": "3.9.7"
  }
 },
 "nbformat": 4,
 "nbformat_minor": 5
}
