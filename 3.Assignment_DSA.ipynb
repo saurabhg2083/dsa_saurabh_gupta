{
 "cells": [
  {
   "cell_type": "markdown",
   "id": "86f6f253",
   "metadata": {},
   "source": [
    "### Assignment 3 Questions - Arrays | DSA"
   ]
  },
  {
   "cell_type": "markdown",
   "id": "c33f29a8",
   "metadata": {},
   "source": [
    "#### Question 1\n",
    "\n",
    "Given an integer array nums of length n and an integer target, find three integers in nums such that the sum is closest to the target. Return the sum of the three integers.\n",
    "\n",
    "You may assume that each input would have exactly one solution.\n",
    "    \n",
    "    Example 1:\n",
    "    Input: nums = [-1,2,1,-4], target = 1\n",
    "    Output: 2\n",
    "    \n",
    "Explanation: The sum that is closest to the target is 2. (-1 + 2 + 1 = 2)."
   ]
  },
  {
   "cell_type": "code",
   "execution_count": 11,
   "id": "18d34f7a",
   "metadata": {},
   "outputs": [
    {
     "data": {
      "text/plain": [
       "2"
      ]
     },
     "execution_count": 11,
     "metadata": {},
     "output_type": "execute_result"
    }
   ],
   "source": [
    "def threeSumClosest(nums, target):\n",
    "\n",
    "    closest = nums[0] + nums[1] + nums[2]\n",
    "\n",
    "    for i in range(len(nums)):\n",
    "        if i!=len(nums)-1:            \n",
    "            temp = nums[:i] + nums[i+1:]\n",
    "        else:\n",
    "            temp = nums[:len(nums)-1]\n",
    "\n",
    "        temp = sorted(temp)\n",
    "\n",
    "        l, r = 0, len(temp) -1 \n",
    "        t = target - nums[i]\n",
    "\n",
    "        while(l < r):\n",
    "            if abs(temp[l] + temp[r] + nums[i] - target) < abs(closest - target):\n",
    "                    closest = temp[l] + temp[r] + nums[i]\n",
    "\n",
    "            if temp[l] + temp[r] == t:\n",
    "                return target\n",
    "            \n",
    "            elif temp[l] + temp[r] > t:\n",
    "                r = r - 1\n",
    "            else:\n",
    "                l = l + 1\n",
    "\n",
    "    return closest\n",
    "\n",
    "nums = [-1,2,1,-4]\n",
    "target = 1\n",
    "threeSumClosest(nums, target)"
   ]
  },
  {
   "cell_type": "markdown",
   "id": "999b2d26",
   "metadata": {},
   "source": [
    "#### Question 2\n",
    "Given an array nums of n integers, return an array of all the unique quadruplets [nums[a], nums[b], nums[c], nums[d]] such that:\n",
    "\n",
    "    ● 0 <= a, b, c, d < n\n",
    "    ● a, b, c, and d are distinct.\n",
    "    ● nums[a] + nums[b] + nums[c] + nums[d] == target\n",
    "\n",
    "You may return the answer in any order.\n",
    "    \n",
    "    Example 1:\n",
    "    Input: nums = [1,0,-1,0,-2,2], target = 0\n",
    "    Output: [[-2,-1,1,2],[-2,0,0,2],[-1,0,0,1]]"
   ]
  },
  {
   "cell_type": "code",
   "execution_count": 66,
   "id": "9b55bd29",
   "metadata": {},
   "outputs": [
    {
     "name": "stdout",
     "output_type": "stream",
     "text": [
      "0 1\n",
      "0 2\n",
      "1 2\n",
      "2 3\n"
     ]
    },
    {
     "data": {
      "text/plain": [
       "[[-2, -1, 1, 2], [-2, 0, 0, 2], [-1, 0, 0, 1]]"
      ]
     },
     "execution_count": 66,
     "metadata": {},
     "output_type": "execute_result"
    }
   ],
   "source": [
    "def fourSum(nums, target):\n",
    "    nums.sort()\n",
    "    results = []\n",
    "    findNsum(nums, target, 4, [], results)\n",
    "    return results\n",
    "\n",
    "def findNsum(nums, target, N, result, results):\n",
    "    if len(nums) < N or N < 2: return\n",
    "\n",
    "    # solve 2-sum\n",
    "    if N == 2:\n",
    "        l,r = 0,len(nums)-1\n",
    "        while l < r:\n",
    "            if nums[l] + nums[r] == target:\n",
    "                results.append(result + [nums[l], nums[r]])\n",
    "                l += 1\n",
    "                r -= 1\n",
    "                while l < r and nums[l] == nums[l - 1]:\n",
    "                    l += 1\n",
    "                while r > l and nums[r] == nums[r + 1]:\n",
    "                    r -= 1\n",
    "            elif nums[l] + nums[r] < target:\n",
    "                l += 1\n",
    "            else:\n",
    "                r -= 1\n",
    "    else:\n",
    "        for i in range(0, len(nums)-N+1):   # careful about range\n",
    "            if target < nums[i]*N or target > nums[-1]*N:  # take advantages of sorted list\n",
    "                break\n",
    "            if i == 0 or i > 0 and nums[i-1] != nums[i]:  # recursively reduce N\n",
    "                findNsum(nums[i+1:], target-nums[i], N-1, result+[nums[i]], results)\n",
    "    return\n",
    "\n",
    "nums = [1,0,-1,0,-2,2]\n",
    "target = 0\n",
    "threeSumClosest(nums, target)"
   ]
  },
  {
   "cell_type": "code",
   "execution_count": null,
   "id": "f0039c8c",
   "metadata": {},
   "outputs": [],
   "source": []
  },
  {
   "cell_type": "markdown",
   "id": "386d84e3",
   "metadata": {},
   "source": [
    "#### Question 3\n",
    "A permutation of an array of integers is an arrangement of its members into a sequence or linear order.\n",
    "\n",
    "    ● For example, for arr = [1,2,3], the following are all the permutations of arr:\n",
    "       [1,2,3], [1,3,2], [2, 1, 3], [2, 3, 1], [3,1,2], [3,2,1].\n",
    "       \n",
    "The next permutation of an array of integers is the next lexicographically greater permutation of its integer. More formally, if all the permutations of the array are sorted in one container according to their lexicographical order, then the next permutation of that array is the permutation that follows it in the sorted container.\n",
    "\n",
    "If such an arrangement is not possible, the array must be rearranged as the lowest possible order (i.e., sorted in ascending order).\n",
    "\n",
    "    ● For example, the next permutation of arr = [1,2,3] is [1,3,2].\n",
    "    ● Similarly, the next permutation of arr = [2,3,1] is [3,1,2].\n",
    "    ● While the next permutation of arr = [3,2,1] is [1,2,3] because [3,2,1] does not have a lexicographical larger rearrangement.\n",
    "    \n",
    "Given an array of integers nums, find the next permutation of nums. The replacement must be in place and use only constant extra memory.\n",
    "\n",
    "    Example 1:\n",
    "    Input: nums = [1,2,3]\n",
    "    Output: [1,3,2]"
   ]
  },
  {
   "cell_type": "code",
   "execution_count": 26,
   "id": "7e90e058",
   "metadata": {},
   "outputs": [
    {
     "data": {
      "text/plain": [
       "[1, 3, 2]"
      ]
     },
     "execution_count": 26,
     "metadata": {},
     "output_type": "execute_result"
    }
   ],
   "source": [
    "def permutation(nums):\n",
    "    n = len(nums)\n",
    "    k, l = n - 2, n - 1\n",
    "    while k >= 0 and nums[k] >= nums[k + 1]:\n",
    "        k -= 1\n",
    "    if k < 0:\n",
    "        nums.reverse()\n",
    "    else:\n",
    "        while l > k and nums[l] <= nums[k]:\n",
    "            l -= 1\n",
    "        nums[k], nums[l] = nums[l], nums[k]\n",
    "        nums[k + 1:n] = reversed(nums[k + 1:n])\n",
    "\n",
    "    return nums\n",
    "\n",
    "nums = [1,2,3]\n",
    "permutation(nums)"
   ]
  },
  {
   "cell_type": "markdown",
   "id": "d02114d4",
   "metadata": {},
   "source": [
    "#### Question 4\n",
    "\n",
    "Given a sorted array of distinct integers and a target value, return the index if the target is found. If not, return the index where it would be if it were inserted in order. You must write an algorithm with O(log n) runtime complexity.\n",
    "\n",
    "    Example 1:\n",
    "    Input: nums = [1,3,5,6], target = 5\n",
    "    Output: 2"
   ]
  },
  {
   "cell_type": "code",
   "execution_count": 27,
   "id": "299bd5de",
   "metadata": {},
   "outputs": [
    {
     "data": {
      "text/plain": [
       "2"
      ]
     },
     "execution_count": 27,
     "metadata": {},
     "output_type": "execute_result"
    }
   ],
   "source": [
    "def search(nums, target):\n",
    "    l = 0\n",
    "    r = len(nums) - 1\n",
    "    while l <= r:\n",
    "        mid = (l + r) // 2\n",
    "        #print(l,r,mid,nums[mid])\n",
    "        if nums[mid] < target:\n",
    "            l = mid + 1\n",
    "        elif nums[mid] > target:\n",
    "            r = mid - 1\n",
    "        else:\n",
    "            return mid\n",
    "    return l\n",
    "\n",
    "nums = [1,3,5,6]\n",
    "target = 5\n",
    "search(nums, target)\n"
   ]
  },
  {
   "cell_type": "markdown",
   "id": "a5034378",
   "metadata": {},
   "source": [
    "#### Question 5\n",
    "\n",
    "You are given a large integer represented as an integer array digits, where each digits[i] is the ith digit of the integer. The digits are ordered from most significant to least significant in left-to-right order. The large integer does not contain any leading 0's. \n",
    "\n",
    "Increment the large integer by one and return the resulting array of digits.\n",
    "    \n",
    "    Example 1:\n",
    "    Input: digits = [1,2,3]\n",
    "    Output: [1,2,4]\n",
    "    \n",
    "Explanation: The array represents the integer 123.\n",
    "\n",
    "Incrementing by one gives 123 + 1 = 124.\n",
    "\n",
    "Thus, the result should be [1,2,4]."
   ]
  },
  {
   "cell_type": "code",
   "execution_count": 28,
   "id": "1a522323",
   "metadata": {},
   "outputs": [
    {
     "data": {
      "text/plain": [
       "[1, 2, 4]"
      ]
     },
     "execution_count": 28,
     "metadata": {},
     "output_type": "execute_result"
    }
   ],
   "source": [
    "def addone(digits):\n",
    "    digits=[str(i) for i in digits]\n",
    "    s=''.join(digits)\n",
    "    a=int(s)+1\n",
    "    l=list(str(a))\n",
    "    l=[int(i) for i in l]\n",
    "    return l\n",
    "\n",
    "digits = [1,2,3]\n",
    "addone(digits)"
   ]
  },
  {
   "cell_type": "markdown",
   "id": "2f21c68d",
   "metadata": {},
   "source": [
    "#### Question 6\n",
    "\n",
    "Given a non-empty array of integers nums, every element appears twice except for one. Find that single one. You must implement a solution with a linear runtime complexity and use only constant extra space.\n",
    "\n",
    "    Example 1:\n",
    "    Input: nums = [2,2,1]\n",
    "    Output: 1"
   ]
  },
  {
   "cell_type": "code",
   "execution_count": 35,
   "id": "0bc4cf96",
   "metadata": {},
   "outputs": [
    {
     "data": {
      "text/plain": [
       "1"
      ]
     },
     "execution_count": 35,
     "metadata": {},
     "output_type": "execute_result"
    }
   ],
   "source": [
    "def getnum(nums):\n",
    "    n = len(nums)\n",
    "    c = 0\n",
    "    for i in range(n):\n",
    "        #print(c,nums[i],c ^ nums[i])\n",
    "        # 0 0 = 0, 1 1 = 0,  0 1 = 1\n",
    "        c = c ^ nums[i]\n",
    "    return c\n",
    "\n",
    "nums = [2,2,1]\n",
    "getnum(nums)"
   ]
  },
  {
   "cell_type": "markdown",
   "id": "533d0cc9",
   "metadata": {},
   "source": [
    "#### Question 7\n",
    "You are given an inclusive range [lower, upper] and a sorted unique integer array nums, where all elements are within the inclusive range.\n",
    "\n",
    "A number x is considered missing if x is in the range [lower, upper] and x is not in nums.\n",
    "\n",
    "Return the shortest sorted list of ranges that exactly covers all the missing numbers. That is, no element of nums is included in any of the ranges, and each missing number is covered by one of the ranges.\n",
    "\n",
    "    Example 1:\n",
    "    Input: nums = [0,1,3,50,75], lower = 0, upper = 99\n",
    "    Output: [[2,2],[4,49],[51,74],[76,99]]\n",
    "    Explanation: The ranges are:\n",
    "    [2,2]\n",
    "    [4,49]\n",
    "    [51,74]\n",
    "    [76,99]\n",
    "    \n"
   ]
  },
  {
   "cell_type": "code",
   "execution_count": 59,
   "id": "169c599c",
   "metadata": {},
   "outputs": [
    {
     "data": {
      "text/plain": [
       "[[2, 2], [4, 49], [51, 74]]"
      ]
     },
     "execution_count": 59,
     "metadata": {},
     "output_type": "execute_result"
    }
   ],
   "source": [
    "def rangefun(nums,lower,upper):\n",
    "    ans = [False] * (upper+1)\n",
    "    i = 0\n",
    "    for i in range(len(nums)):\n",
    "        if ( lower <= nums[i] and nums[i] <= upper ) :\n",
    "            ans[nums[i]] = True\n",
    "    \n",
    "    abc = []\n",
    "    arr = [-1,-1]\n",
    "    for x in range(upper-lower+1) :\n",
    "        \n",
    "        if (ans[x]==False) :\n",
    "            if arr[0] == -1:\n",
    "                arr[0] = lower+x\n",
    "                \n",
    "            arr[1] = lower+x\n",
    "            #print(arr) \n",
    "        else:\n",
    "            if arr[0] != -1 and arr[1] != -1 :\n",
    "                abc.append(arr)\n",
    "            arr = [-1,-1]\n",
    "            count =0\n",
    "            \n",
    "    return abc\n",
    "\n",
    "nums = [0,1,3,50,75] \n",
    "lower = 0\n",
    "upper = 99\n",
    "rangefun(nums,lower,upper)"
   ]
  },
  {
   "cell_type": "markdown",
   "id": "388e38a8",
   "metadata": {},
   "source": [
    "#### Question 8\n",
    "Given an array of meeting time intervals where intervals[i] = [starti, endi], determine if a person could attend all meetings.\n",
    "\n",
    "    Example 1:\n",
    "    Input: intervals = [[0,30],[5,10],[15,20]]\n",
    "    Output: false"
   ]
  },
  {
   "cell_type": "code",
   "execution_count": 60,
   "id": "3060f747",
   "metadata": {},
   "outputs": [
    {
     "data": {
      "text/plain": [
       "False"
      ]
     },
     "execution_count": 60,
     "metadata": {},
     "output_type": "execute_result"
    }
   ],
   "source": [
    "def attendMeetings(intervals):\n",
    "    intervals.sort(key=lambda a: a[0])\n",
    "    for i in range(len(intervals)-1):\n",
    "        \n",
    "        if (intervals[i][1] > intervals[i+1][0]) and (i < len(intervals)-1):\n",
    "            return False\n",
    "    return True\n",
    "\n",
    "intervals = [[0,30],[5,10],[15,20]]\n",
    "attendMeetings(intervals)"
   ]
  },
  {
   "cell_type": "code",
   "execution_count": 27,
   "id": "43a4eebe",
   "metadata": {},
   "outputs": [
    {
     "data": {
      "text/plain": [
       "True"
      ]
     },
     "execution_count": 27,
     "metadata": {},
     "output_type": "execute_result"
    }
   ],
   "source": [
    "intervals = [[0,5],[8,15],[15,20]]\n",
    "attendMeetings(intervals)"
   ]
  },
  {
   "cell_type": "code",
   "execution_count": null,
   "id": "effdd76f",
   "metadata": {},
   "outputs": [],
   "source": []
  }
 ],
 "metadata": {
  "kernelspec": {
   "display_name": "Python 3 (ipykernel)",
   "language": "python",
   "name": "python3"
  },
  "language_info": {
   "codemirror_mode": {
    "name": "ipython",
    "version": 3
   },
   "file_extension": ".py",
   "mimetype": "text/x-python",
   "name": "python",
   "nbconvert_exporter": "python",
   "pygments_lexer": "ipython3",
   "version": "3.9.7"
  }
 },
 "nbformat": 4,
 "nbformat_minor": 5
}
