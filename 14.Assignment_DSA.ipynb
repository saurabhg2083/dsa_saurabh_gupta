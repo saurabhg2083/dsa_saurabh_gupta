{
 "cells": [
  {
   "cell_type": "markdown",
   "id": "86f6f253",
   "metadata": {},
   "source": [
    "##### Assignment 14 Questions - Linked List | DSA\n",
    "\n",
    "https://pwskills.notion.site/Assignment-Questions-14-f6f7d67e91f548fd892b7c02e7a4d0d5"
   ]
  },
  {
   "cell_type": "code",
   "execution_count": 5,
   "id": "005007a3",
   "metadata": {},
   "outputs": [],
   "source": [
    "class Node:\n",
    "    def __init__(self):\n",
    "        self.data = 0\n",
    "        self.next = None\n",
    "        self.flag = 0\n",
    "\n",
    "def push(head_ref, new_data):\n",
    "    ''' allocate node '''\n",
    "    new_node = Node()\n",
    "\n",
    "    ''' put in the data '''\n",
    "    new_node.data = new_data\n",
    "\n",
    "    new_node.flag = 0\n",
    "\n",
    "    ''' link the old list of the new node '''\n",
    "    new_node.next = (head_ref)\n",
    "\n",
    "    ''' move the head to point to the new node '''\n",
    "    (head_ref) = new_node\n",
    "    return head_ref\n",
    "\n",
    "\n",
    "def printlink(head):\n",
    "\n",
    "    linkedListStr = \"\"\n",
    "    temp = head\n",
    "\n",
    "    while temp:\n",
    "        linkedListStr += str(temp.data) + \"->\"\n",
    "        temp = temp.next\n",
    "\n",
    "    return linkedListStr + \"NULL\""
   ]
  },
  {
   "cell_type": "markdown",
   "id": "c33f29a8",
   "metadata": {},
   "source": [
    "#### Question 1\n",
    "\n"
   ]
  },
  {
   "cell_type": "code",
   "execution_count": 2,
   "id": "18d34f7a",
   "metadata": {},
   "outputs": [
    {
     "name": "stdout",
     "output_type": "stream",
     "text": [
      "Linked List after removing loop\n",
      "10\n",
      "15\n",
      "4\n"
     ]
    }
   ],
   "source": [
    "def removeLoop(h):\n",
    "    s = set()\n",
    "    prev = None\n",
    "    while (h != None):\n",
    "        # If we have already has this node\n",
    "        # in hashmap it means there is a cycle and we\n",
    "        # need to remove this cycle so set the next of\n",
    "        # the previous pointer with null.\n",
    "        if (h in s):\n",
    "            prev.next = None\n",
    "            return True\n",
    "        else:\n",
    "            s.add(h)\n",
    "            prev = h\n",
    "            h = h.next\n",
    "    return False\n",
    "\n",
    "head = None\n",
    "head = push(head, 20)\n",
    "head = push(head, 4)\n",
    "head = push(head, 15)\n",
    "head = push(head, 10)\n",
    "\n",
    "\n",
    "head.next.next.next = head\n",
    "\n",
    "def printList(node):\n",
    "    while (node != None):\n",
    "        print(node.data)\n",
    "        node = node.next \n",
    "        \n",
    "if (removeLoop(head)):\n",
    "    print(\"Linked List after removing loop\")\n",
    "    printList(head)\n",
    "else:\n",
    "    print(\"No Loop found\")"
   ]
  },
  {
   "cell_type": "markdown",
   "id": "a5034378",
   "metadata": {},
   "source": [
    "#### Question 2\n",
    "\n"
   ]
  },
  {
   "cell_type": "code",
   "execution_count": 14,
   "id": "9b55bd29",
   "metadata": {},
   "outputs": [
    {
     "name": "stdout",
     "output_type": "stream",
     "text": [
      "\n",
      "Resultant list is \n",
      "1236\n",
      "\n"
     ]
    }
   ],
   "source": [
    "def addTwoLists(first):\n",
    "    num1 = 0\n",
    "    # Get the number\n",
    "    while first.next != None:\n",
    "        num1 += first.data\n",
    "        num1 *= 10\n",
    "        first = first.next\n",
    "    num1 += first.data\n",
    "     \n",
    "    # Add one to it\n",
    "    num2 = num1 + 1\n",
    "    temp = None\n",
    "     \n",
    "    # Made the linked list form it\n",
    "    while num2 != 0:\n",
    "        last = num2 % 10\n",
    "        temp = push(temp, last)\n",
    "        num2 //= 10\n",
    "         \n",
    "    # Return the list\n",
    "    return temp\n",
    "\n",
    "\n",
    "\n",
    "head = None\n",
    "head = push(head, 5)\n",
    "head = push(head, 3)\n",
    "head = push(head, 2)\n",
    "head = push(head, 1)\n",
    "\n",
    "head = addTwoLists(head)\n",
    "\n",
    "print(\"\\nResultant list is \")\n",
    "printList(head)\n"
   ]
  },
  {
   "cell_type": "markdown",
   "id": "386d84e3",
   "metadata": {},
   "source": [
    "#### Question 3\n",
    "\n"
   ]
  },
  {
   "cell_type": "code",
   "execution_count": 15,
   "id": "7e90e058",
   "metadata": {},
   "outputs": [
    {
     "name": "stdout",
     "output_type": "stream",
     "text": [
      "5 7 8 10 19 20 20 22 30 35 40 45 50 \n"
     ]
    }
   ],
   "source": [
    "\n",
    "\n",
    "class Node():\n",
    "    def __init__(self, data):\n",
    "        self.data = data\n",
    "        self.right = None\n",
    "        self.down = None\n",
    "\n",
    "\n",
    "class LinkedList():\n",
    "    def __init__(self):\n",
    "        self.head = None\n",
    "\n",
    "    # Utility function to insert a node at beginning of the\n",
    "    # linked list\n",
    "    def push(self, head_ref, data):\n",
    "\n",
    "        # 1 & 2: Allocate the Node &\n",
    "        # Put in the data\n",
    "        new_node = Node(data)\n",
    "\n",
    "        # Make next of new Node as head\n",
    "        new_node.down = head_ref\n",
    "\n",
    "        # 4. Move the head to point to new Node\n",
    "        head_ref = new_node\n",
    "\n",
    "        # 5. return to link it back\n",
    "        return head_ref\n",
    "\n",
    "    def printList(self):\n",
    "\n",
    "        temp = self.head\n",
    "        while(temp != None):\n",
    "            print(temp.data, end=\" \")\n",
    "            temp = temp.down\n",
    "\n",
    "        print()\n",
    "\n",
    "    # An utility function to merge two sorted linked lists\n",
    "    def merge(self, a, b):\n",
    "        # if first linked list is empty then second\n",
    "        # is the answer\n",
    "        if(a == None):\n",
    "            return b\n",
    "\n",
    "        # if second linked list is empty then first\n",
    "        # is the result\n",
    "        if(b == None):\n",
    "            return a\n",
    "\n",
    "        # compare the data members of the two linked lists\n",
    "        # and put the larger one in the result\n",
    "        result = None\n",
    "\n",
    "        if (a.data < b.data):\n",
    "            result = a\n",
    "            result.down = self.merge(a.down, b)\n",
    "        else:\n",
    "            result = b\n",
    "            result.down = self.merge(a, b.down)\n",
    "\n",
    "        result.right = None\n",
    "        return result\n",
    "\n",
    "    def flatten(self, root):\n",
    "\n",
    "        # Base Case\n",
    "        if(root == None or root.right == None):\n",
    "            return root\n",
    "        # recur for list on right\n",
    "\n",
    "        root.right = self.flatten(root.right)\n",
    "\n",
    "        # now merge\n",
    "        root = self.merge(root, root.right)\n",
    "\n",
    "        # return the root\n",
    "        # it will be in turn merged with its left\n",
    "        return root\n",
    "\n",
    "\n",
    "\n",
    "L = LinkedList()\n",
    "\n",
    "L.head = L.push(L.head, 30)\n",
    "L.head = L.push(L.head, 8)\n",
    "L.head = L.push(L.head, 7)\n",
    "L.head = L.push(L.head, 5)\n",
    "\n",
    "L.head.right = L.push(L.head.right, 20)\n",
    "L.head.right = L.push(L.head.right, 10)\n",
    "\n",
    "L.head.right.right = L.push(L.head.right.right, 50)\n",
    "L.head.right.right = L.push(L.head.right.right, 22)\n",
    "L.head.right.right = L.push(L.head.right.right, 19)\n",
    "\n",
    "L.head.right.right.right = L.push(L.head.right.right.right, 45)\n",
    "L.head.right.right.right = L.push(L.head.right.right.right, 40)\n",
    "L.head.right.right.right = L.push(L.head.right.right.right, 35)\n",
    "L.head.right.right.right = L.push(L.head.right.right.right, 20)\n",
    "\n",
    "\n",
    "L.head = L.flatten(L.head)\n",
    "\n",
    "L.printList()\n"
   ]
  },
  {
   "cell_type": "markdown",
   "id": "d02114d4",
   "metadata": {},
   "source": [
    "#### Question 4\n",
    "\n"
   ]
  },
  {
   "cell_type": "code",
   "execution_count": 16,
   "id": "299bd5de",
   "metadata": {},
   "outputs": [
    {
     "name": "stdout",
     "output_type": "stream",
     "text": [
      "The original linked list:\n",
      "1(3) -> 2(1) -> 3(5) -> 4(3) -> 5(2)\n",
      "The cloned linked list:\n",
      "1(3) -> 2(1) -> 3(5) -> 4(3) -> 5(2)\n"
     ]
    }
   ],
   "source": [
    "# Structure of a node of linked list\n",
    "class Node:\n",
    "    def __init__(self, val):\n",
    "        self.val = val\n",
    "        self.next = None\n",
    "        self.arbit = None\n",
    "\n",
    "# Function to clone the linked list\n",
    "def cloneLinkedList(head):\n",
    "    # Map to store the mapping of\n",
    "    # old nodes with new ones\n",
    "    mp = {}\n",
    "    temp = head\n",
    "    nhead = Node(temp.val)\n",
    "    mp[temp] = nhead\n",
    "\n",
    "    # Loop to create duplicates of nodes\n",
    "    # with only next pointer\n",
    "    while temp.next:\n",
    "        nhead.next = Node(temp.next.val)\n",
    "        temp = temp.next\n",
    "        nhead = nhead.next\n",
    "        mp[temp] = nhead\n",
    "\n",
    "    temp = head\n",
    "\n",
    "    # Loop to clone the arbit pointers\n",
    "    while temp:\n",
    "        mp[temp].arbit = mp[temp.arbit]\n",
    "        temp = temp.next\n",
    "\n",
    "    # Return the head of the clone\n",
    "    return mp[head]\n",
    "\n",
    "# Function to print the linked list\n",
    "def printList(head):\n",
    "    result = []\n",
    "    while head:\n",
    "        result.append(f\"{head.val}({head.arbit.val})\")\n",
    "        head = head.next\n",
    "    print(\" -> \".join(result))\n",
    "\n",
    "# Creating a linked list with random pointer\n",
    "head = Node(1)\n",
    "head.next = Node(2)\n",
    "head.next.next = Node(3)\n",
    "head.next.next.next = Node(4)\n",
    "head.next.next.next.next = Node(5)\n",
    "head.arbit = head.next.next\n",
    "head.next.arbit = head\n",
    "head.next.next.arbit = head.next.next.next.next\n",
    "head.next.next.next.arbit = head.next.next\n",
    "head.next.next.next.next.arbit = head.next\n",
    "\n",
    "# Print the original list\n",
    "print(\"The original linked list:\")\n",
    "printList(head)\n",
    "\n",
    "# Function call\n",
    "sol = cloneLinkedList(head)\n",
    "\n",
    "print(\"The cloned linked list:\")\n",
    "printList(sol)\n"
   ]
  },
  {
   "cell_type": "markdown",
   "id": "999b2d26",
   "metadata": {},
   "source": [
    "#### Question 5\n",
    "\n"
   ]
  },
  {
   "cell_type": "code",
   "execution_count": null,
   "id": "1a522323",
   "metadata": {},
   "outputs": [],
   "source": []
  },
  {
   "cell_type": "markdown",
   "id": "2f21c68d",
   "metadata": {},
   "source": [
    "#### Question 6\n",
    "\n"
   ]
  },
  {
   "cell_type": "code",
   "execution_count": null,
   "id": "0bc4cf96",
   "metadata": {},
   "outputs": [],
   "source": []
  },
  {
   "cell_type": "markdown",
   "id": "533d0cc9",
   "metadata": {},
   "source": [
    "#### Question 7\n",
    "\n"
   ]
  },
  {
   "cell_type": "code",
   "execution_count": null,
   "id": "169c599c",
   "metadata": {
    "scrolled": true
   },
   "outputs": [],
   "source": []
  },
  {
   "cell_type": "markdown",
   "id": "388e38a8",
   "metadata": {},
   "source": [
    "#### Question 8\n",
    "\n"
   ]
  },
  {
   "cell_type": "code",
   "execution_count": null,
   "id": "3060f747",
   "metadata": {},
   "outputs": [],
   "source": []
  },
  {
   "cell_type": "code",
   "execution_count": null,
   "id": "218a5660",
   "metadata": {},
   "outputs": [],
   "source": []
  },
  {
   "cell_type": "code",
   "execution_count": null,
   "id": "d1beb93d",
   "metadata": {},
   "outputs": [],
   "source": []
  }
 ],
 "metadata": {
  "kernelspec": {
   "display_name": "Python 3 (ipykernel)",
   "language": "python",
   "name": "python3"
  },
  "language_info": {
   "codemirror_mode": {
    "name": "ipython",
    "version": 3
   },
   "file_extension": ".py",
   "mimetype": "text/x-python",
   "name": "python",
   "nbconvert_exporter": "python",
   "pygments_lexer": "ipython3",
   "version": "3.9.7"
  }
 },
 "nbformat": 4,
 "nbformat_minor": 5
}
