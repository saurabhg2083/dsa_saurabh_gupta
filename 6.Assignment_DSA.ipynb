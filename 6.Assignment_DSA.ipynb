{
 "cells": [
  {
   "cell_type": "markdown",
   "id": "86f6f253",
   "metadata": {},
   "source": [
    "##### Assignment 6 Questions - Arrays | DSA\n",
    "\n",
    "https://pwskills.notion.site/Assignment-Questions-6-89644ca429de4bd2a371432867f072b8"
   ]
  },
  {
   "cell_type": "markdown",
   "id": "c33f29a8",
   "metadata": {},
   "source": [
    "#### Question 1\n",
    "\n",
    "Permutation perm of n + 1 integers of all the integers in the range [0, n] can be represented as a string s of length n where:\n",
    "- s[i] == 'I' if perm[i] < perm[i + 1], and\n",
    "- s[i] == 'D' if perm[i] > perm[i + 1].\n",
    "\n",
    "Given a string s, reconstruct the permutation perm and return it. If there are multiple valid permutations perm, return any of them\n",
    "\n",
    "Input: s = \"IDID\" and Output is [0,4,1,3,2]"
   ]
  },
  {
   "cell_type": "code",
   "execution_count": 12,
   "id": "18d34f7a",
   "metadata": {},
   "outputs": [
    {
     "data": {
      "text/plain": [
       "[0, 4, 1, 3, 2]"
      ]
     },
     "execution_count": 12,
     "metadata": {},
     "output_type": "execute_result"
    }
   ],
   "source": [
    "def di(s):\n",
    "    left = 0\n",
    "    right = len(s)\n",
    "    res = []\n",
    "    for i in s:\n",
    "        if i == \"I\":            \n",
    "            res.append(left)\n",
    "            left += 1\n",
    "        else:            \n",
    "            res.append(right)\n",
    "            right -= 1\n",
    "            \n",
    "\n",
    "    return res+[right]\n",
    "\n",
    "\n",
    "di('IDID')\n"
   ]
  },
  {
   "cell_type": "markdown",
   "id": "a5034378",
   "metadata": {},
   "source": [
    "#### Question 2\n",
    "\n"
   ]
  },
  {
   "cell_type": "code",
   "execution_count": 56,
   "id": "9b55bd29",
   "metadata": {},
   "outputs": [
    {
     "data": {
      "text/plain": [
       "True"
      ]
     },
     "execution_count": 56,
     "metadata": {},
     "output_type": "execute_result"
    }
   ],
   "source": [
    "def find(matrix,target):\n",
    "    for row in matrix:\n",
    "        if row[-1] >= target:\n",
    "            return True\n",
    "    return False\n",
    "\n",
    "\n",
    "matrix = [[1,3,5,7],[10,11,16,20],[23,30,34,60]]\n",
    "target = 23\n",
    "find(matrix,target)"
   ]
  },
  {
   "cell_type": "markdown",
   "id": "386d84e3",
   "metadata": {},
   "source": [
    "#### Question 3\n"
   ]
  },
  {
   "cell_type": "code",
   "execution_count": 67,
   "id": "7e90e058",
   "metadata": {},
   "outputs": [
    {
     "data": {
      "text/plain": [
       "True"
      ]
     },
     "execution_count": 67,
     "metadata": {},
     "output_type": "execute_result"
    }
   ],
   "source": [
    "def validMountainArray(arr):\n",
    "    n = len(arr)\n",
    "    i, j = 0, n - 1\n",
    "\n",
    "    while i + 1 < n and arr[i] < arr[i + 1]:\n",
    "        i += 1\n",
    "\n",
    "    while j > 0 and arr[j] < arr[j - 1]:\n",
    "        j -= 1\n",
    "\n",
    "    return i == j and 0 < i and j < n - 1\n",
    "\n",
    "arr = [0,3,2,1]\n",
    "validMountainArray(arr)"
   ]
  },
  {
   "cell_type": "markdown",
   "id": "d02114d4",
   "metadata": {},
   "source": [
    "#### Question 4\n",
    "Given a binary array nums, return the maximum length of a contiguous subarray with an equal number of 0 and 1.\n"
   ]
  },
  {
   "cell_type": "code",
   "execution_count": 2,
   "id": "299bd5de",
   "metadata": {},
   "outputs": [
    {
     "data": {
      "text/plain": [
       "2"
      ]
     },
     "execution_count": 2,
     "metadata": {},
     "output_type": "execute_result"
    }
   ],
   "source": [
    "\n",
    "def findMaxLength( nums) :\n",
    "    max_length =0\n",
    "    hash={}\n",
    "    count=0\n",
    "    for i in range(len(nums)):\n",
    "        current=nums[i]\n",
    "        if current==0:\n",
    "            count-=1 # decrement our count if our current element is 0\n",
    "        else:\n",
    "            # increment our count if current element is 1\n",
    "            count+=1\n",
    "\n",
    "        if count==0:\n",
    "            # if count is 0, we have a new subarray with length+1\n",
    "            max_length=i+1\n",
    "        if count in hash:\n",
    "            max_length=max(max_length,i-hash[count]) \n",
    "        else:\n",
    "            hash[count]=i\n",
    "    return max_length\n",
    "\n",
    "nums = [0,1]\n",
    "findMaxLength( nums)"
   ]
  },
  {
   "cell_type": "markdown",
   "id": "999b2d26",
   "metadata": {},
   "source": [
    "#### Question 5\n",
    "\n",
    "The product sum of two equal-length arrays a and b is equal to the sum of a[i] * b[i] for all 0 <= i < a.length (0-indexed)."
   ]
  },
  {
   "cell_type": "code",
   "execution_count": 5,
   "id": "1a522323",
   "metadata": {},
   "outputs": [
    {
     "name": "stdout",
     "output_type": "stream",
     "text": [
      "40\n"
     ]
    }
   ],
   "source": [
    "def minValue(nums1, nums2):\n",
    "    nums1.sort()\n",
    "    nums2.sort()\n",
    "    n = len(nums1)\n",
    "    result = 0\n",
    "    \n",
    "    for i in range(n):\n",
    "        result += (nums1[i] * nums2[n - i - 1])\n",
    "\n",
    "    return result\n",
    "\n",
    "\n",
    "nums1 = [5,3,4,2]\n",
    "nums2 = [4,2,2,5]\n",
    "print (minValue(nums1, nums2))\n"
   ]
  },
  {
   "cell_type": "markdown",
   "id": "2f21c68d",
   "metadata": {},
   "source": [
    "#### Question 6\n",
    "\n",
    "An integer array original is transformed into a doubled array changed by appending twice the value of every element in original, and then randomly shuffling the resulting array\n",
    "\n",
    "Given an array changed, return original *if* changed *is a **doubled** array. If* changed *is not a **doubled** array, return an empty array. The elements in* original *may be returned in **any** order*."
   ]
  },
  {
   "cell_type": "code",
   "execution_count": 8,
   "id": "0bc4cf96",
   "metadata": {},
   "outputs": [
    {
     "data": {
      "text/plain": [
       "[1, 3, 4]"
      ]
     },
     "execution_count": 8,
     "metadata": {},
     "output_type": "execute_result"
    }
   ],
   "source": [
    "def findOriginal(arr):\n",
    "    numFreq = {}\n",
    "    for i in range(0, len(arr)):\n",
    "        if (arr[i] in numFreq):\n",
    "            numFreq[arr[i]] += 1\n",
    "        else:\n",
    "            numFreq[arr[i]] = 1\n",
    "\n",
    "    arr.sort()\n",
    "    res = []\n",
    "\n",
    "    for i in range(0, len(arr)):\n",
    "        freq = numFreq[arr[i]]\n",
    "        if (freq > 0):\n",
    "            res.append(arr[i])\n",
    "            numFreq[arr[i]] -= 1\n",
    "            twice = 2 * arr[i]\n",
    "            numFreq[twice] -= 1\n",
    "\n",
    "    return res\n",
    "\n",
    "\n",
    "changed = [1,3,4,2,6,8]\n",
    "findOriginal(changed)"
   ]
  },
  {
   "attachments": {},
   "cell_type": "markdown",
   "id": "533d0cc9",
   "metadata": {},
   "source": [
    "#### Question 7\n",
    "\n",
    "Given a positive integer n, generate an n x n matrix filled with elements from 1 to n2 in spiral order.\n",
    "![image.png](attachment:image.png)\n",
    "\n",
    "Input: n = 3\n",
    "Output: [[1,2,3],[8,9,4],[7,6,5]]"
   ]
  },
  {
   "cell_type": "code",
   "execution_count": 13,
   "id": "169c599c",
   "metadata": {},
   "outputs": [
    {
     "data": {
      "text/plain": [
       "[[1, 2, 3], [8, 9, 4], [7, 6, 5]]"
      ]
     },
     "execution_count": 13,
     "metadata": {},
     "output_type": "execute_result"
    }
   ],
   "source": [
    "def generateMatrix(n):\n",
    "    ans=[[0]*n for _ in range(n)]\n",
    "    i=0\n",
    "    start_col,start_row,end_col,end_row=0,0,n,n\n",
    "\n",
    "    while start_col<end_col or start_row<end_row:\n",
    "        for c in range(start_col,end_col):\n",
    "            i+=1\n",
    "            ans[start_row][c]=i\n",
    "\n",
    "        start_row+=1\n",
    "        for r in range(start_row,end_row):\n",
    "            i+=1\n",
    "            ans[r][end_col-1]=i\n",
    "\n",
    "        end_col-=1\n",
    "\n",
    "        for c in range(end_col-1,start_col-1,-1):\n",
    "            i+=1\n",
    "            ans[end_row-1][c]=i\n",
    "\n",
    "        end_row-=1\n",
    "        for r in range(end_row-1,start_row-1,-1):\n",
    "            i+=1\n",
    "            ans[r][start_col]=i\n",
    "\n",
    "        start_col+=1\n",
    "\n",
    "    return ans                    \n",
    "\n",
    "n = 3\n",
    "generateMatrix(n)"
   ]
  },
  {
   "attachments": {},
   "cell_type": "markdown",
   "id": "388e38a8",
   "metadata": {},
   "source": [
    "#### Question 8\n",
    "Given two sparse matrices mat1 of size m x k and mat2 of size k x n, return the result of mat1 x mat2. You may assume that multiplication is always possible.\n",
    "![image.png](attachment:image.png)\n",
    "\n",
    "Input: mat1 = [[1,0,0],[-1,0,3]], mat2 = [[7,0,0],[0,0,0],[0,0,1]]\n",
    "Output: [[7,0,0],[-7,0,3]]"
   ]
  },
  {
   "cell_type": "code",
   "execution_count": 15,
   "id": "3060f747",
   "metadata": {},
   "outputs": [
    {
     "data": {
      "text/plain": [
       "[[7, 0, 0], [-7, 0, 3]]"
      ]
     },
     "execution_count": 15,
     "metadata": {},
     "output_type": "execute_result"
    }
   ],
   "source": [
    "def multiply(mat1, mat2):   \n",
    "    ret = [[0 for j in range(len(mat2[0]))] for i in range(len(mat1))]\n",
    "\n",
    "    for i, row in enumerate(mat1):\n",
    "        for k, a in enumerate(row):\n",
    "            if a:\n",
    "                for j, b in enumerate(mat2[k]):\n",
    "                    if b:\n",
    "                        ret[i][j] += a * b\n",
    "    return ret\n",
    "\n",
    "mat1 = [[1,0,0],[-1,0,3]]\n",
    "mat2 = [[7,0,0],[0,0,0],[0,0,1]]\n",
    "multiply(mat1, mat2)"
   ]
  },
  {
   "cell_type": "code",
   "execution_count": null,
   "id": "97d7bd92",
   "metadata": {},
   "outputs": [],
   "source": []
  },
  {
   "cell_type": "code",
   "execution_count": null,
   "id": "6790a924",
   "metadata": {},
   "outputs": [],
   "source": []
  }
 ],
 "metadata": {
  "kernelspec": {
   "display_name": "Python 3 (ipykernel)",
   "language": "python",
   "name": "python3"
  },
  "language_info": {
   "codemirror_mode": {
    "name": "ipython",
    "version": 3
   },
   "file_extension": ".py",
   "mimetype": "text/x-python",
   "name": "python",
   "nbconvert_exporter": "python",
   "pygments_lexer": "ipython3",
   "version": "3.9.7"
  }
 },
 "nbformat": 4,
 "nbformat_minor": 5
}
