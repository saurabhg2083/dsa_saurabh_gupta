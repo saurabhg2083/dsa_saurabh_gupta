{
 "cells": [
  {
   "cell_type": "markdown",
   "id": "86f6f253",
   "metadata": {},
   "source": [
    "### Assignment 1 Questions - Arrays | DSA\n",
    "\n",
    "https://pptassignment.notion.site/Assignment-1-Questions-Arrays-DSA-dc3967c93dd54d2f8f91a8b9e5f6aca1"
   ]
  },
  {
   "cell_type": "markdown",
   "id": "c33f29a8",
   "metadata": {},
   "source": [
    "#### Q1. Given an array of integers nums and an integer target, return indices of the two numbers such that they add up to target.\n",
    "\n",
    "You may assume that each input would have exactly one solution, and you may not use the same element twice. You can return the answer in any order.\n",
    "\n",
    "Example: \n",
    "\n",
    "    Input: nums = [2,7,11,15], target = 9 \n",
    "    Output0 [0,1]\n",
    "        \n",
    "Explanation: Because nums[0] + nums[1] == 9, we return [0, 1]\n"
   ]
  },
  {
   "cell_type": "code",
   "execution_count": 12,
   "id": "18d34f7a",
   "metadata": {},
   "outputs": [],
   "source": [
    "def twoSum(nums, target):\n",
    "    dict_of_x={}\n",
    "    if len(nums) == 0:\n",
    "        return 0\n",
    "\n",
    "    nums.sort()\n",
    "    len_of_nums=len(nums)\n",
    "    l = 0\n",
    "    r = len_of_nums-1\n",
    "    i=0\n",
    "    while i<len_of_nums:            \n",
    "        if nums[l] + nums[r] < target:                \n",
    "            l = l + 1\n",
    "        elif nums[l] + nums[r] > target:\n",
    "            r = r - 1\n",
    "\n",
    "        elif nums[l] + nums[r] == target:\n",
    "            dict_of_x[l]=nums[l]\n",
    "            dict_of_x[r]=nums[r]\n",
    "\n",
    "        i = i+1\n",
    "\n",
    "    return list(dict_of_x.keys())"
   ]
  },
  {
   "cell_type": "code",
   "execution_count": 13,
   "id": "d63eece9",
   "metadata": {},
   "outputs": [
    {
     "data": {
      "text/plain": [
       "[0, 1]"
      ]
     },
     "execution_count": 13,
     "metadata": {},
     "output_type": "execute_result"
    }
   ],
   "source": [
    "nums = [2,7,11,15]\n",
    "twoSum(nums,9)"
   ]
  },
  {
   "cell_type": "code",
   "execution_count": 14,
   "id": "6672bc3d",
   "metadata": {},
   "outputs": [
    {
     "data": {
      "text/plain": [
       "[0, 2]"
      ]
     },
     "execution_count": 14,
     "metadata": {},
     "output_type": "execute_result"
    }
   ],
   "source": [
    "nums = [3,2,4]\n",
    "twoSum(nums,6)"
   ]
  },
  {
   "cell_type": "code",
   "execution_count": 15,
   "id": "d833fe3d",
   "metadata": {},
   "outputs": [
    {
     "data": {
      "text/plain": [
       "[0, 1]"
      ]
     },
     "execution_count": 15,
     "metadata": {},
     "output_type": "execute_result"
    }
   ],
   "source": [
    "nums = [3,3]\n",
    "twoSum(nums,6)"
   ]
  },
  {
   "cell_type": "code",
   "execution_count": 16,
   "id": "b5950dd5",
   "metadata": {},
   "outputs": [],
   "source": [
    "def twoSum(nums, target):\n",
    "    numToIndex = {}\n",
    "    for i in range(len(nums)):\n",
    "        print(target - nums[i])\n",
    "        if target - nums[i] in numToIndex:\n",
    "            return [numToIndex[target - nums[i]], i]\n",
    "        numToIndex[nums[i]] = i\n",
    "    return []"
   ]
  },
  {
   "cell_type": "code",
   "execution_count": 17,
   "id": "778b976f",
   "metadata": {},
   "outputs": [
    {
     "name": "stdout",
     "output_type": "stream",
     "text": [
      "7\n",
      "2\n"
     ]
    },
    {
     "data": {
      "text/plain": [
       "[0, 1]"
      ]
     },
     "execution_count": 17,
     "metadata": {},
     "output_type": "execute_result"
    }
   ],
   "source": [
    "nums = [2,7,11,15]\n",
    "twoSum(nums,9)"
   ]
  },
  {
   "cell_type": "markdown",
   "id": "3f4b5c9f",
   "metadata": {},
   "source": [
    "### Q2. Given an integer array nums and an integer val, remove all occurrences of val in nums in-place. \n",
    "\n",
    "The order of the elements may be changed. Then return the number of elements in nums which are not equal to val. \n",
    "\n",
    "Consider the number of elements in nums which are not equal to val be k, to get accepted, you need to do the following things:\n",
    "\n",
    "    • Change the array nums such that the first k elements of nums contain the elements which are not equal to val. The remaining elements of nums are not important as well as the size of nums.\n",
    "    • Return k.\n",
    "\n",
    "Example : \n",
    "    Input: nums = [3,2,2,3], val = 3 \n",
    "    Output: 2, nums = [2,2,*,*]\n"
   ]
  },
  {
   "cell_type": "code",
   "execution_count": 9,
   "id": "f25d913f",
   "metadata": {},
   "outputs": [],
   "source": [
    "def removeElement(nums, val):\n",
    "    \n",
    "    if len(nums) == 0:\n",
    "        return 0\n",
    "    \n",
    "    count = 0\n",
    "    for i in range(len(nums)):\n",
    "        if nums[i] != val:\n",
    "            nums[count] = nums[i]\n",
    "            count = count+1\n",
    "            \n",
    "    return count"
   ]
  },
  {
   "cell_type": "code",
   "execution_count": 10,
   "id": "ccf872f6",
   "metadata": {},
   "outputs": [
    {
     "data": {
      "text/plain": [
       "2"
      ]
     },
     "execution_count": 10,
     "metadata": {},
     "output_type": "execute_result"
    }
   ],
   "source": [
    "nums = [3,2,2,3]\n",
    "val = 3\n",
    "removeElement(nums, val)"
   ]
  },
  {
   "cell_type": "markdown",
   "id": "f12f84ec",
   "metadata": {},
   "source": [
    "### Q3. Given a sorted array of distinct integers and a target value, return the index if the target is found. If not, return the index where it would be if it were inserted in order.\n",
    "\n",
    "You must write an algorithm with O(log n) runtime complexity.\n",
    "\n",
    "Example 1: \n",
    "    \n",
    "    Input: nums = [1,3,5,6], target = 5\n",
    "    Output: 2\n"
   ]
  },
  {
   "cell_type": "code",
   "execution_count": 11,
   "id": "d63f3f40",
   "metadata": {},
   "outputs": [],
   "source": [
    "def findIndex(nums, target):\n",
    "    \n",
    "    if len(nums) == 0:\n",
    "        return 0\n",
    "    n = len(nums)\n",
    "    \n",
    "    for i in range(n):\n",
    "        if nums[i] == target:\n",
    "            return i\n",
    "        elif nums[i] > target:\n",
    "            return i\n",
    "            \n",
    "    return n"
   ]
  },
  {
   "cell_type": "code",
   "execution_count": 12,
   "id": "f3ec263f",
   "metadata": {},
   "outputs": [
    {
     "data": {
      "text/plain": [
       "2"
      ]
     },
     "execution_count": 12,
     "metadata": {},
     "output_type": "execute_result"
    }
   ],
   "source": [
    "nums = [1,3,5,6] \n",
    "target = 5\n",
    "findIndex(nums, target)"
   ]
  },
  {
   "cell_type": "code",
   "execution_count": 13,
   "id": "4fd6353c",
   "metadata": {},
   "outputs": [
    {
     "data": {
      "text/plain": [
       "4"
      ]
     },
     "execution_count": 13,
     "metadata": {},
     "output_type": "execute_result"
    }
   ],
   "source": [
    "nums = [1,3,5,6] \n",
    "target = 7\n",
    "findIndex(nums, target)"
   ]
  },
  {
   "cell_type": "code",
   "execution_count": 14,
   "id": "a925ad2d",
   "metadata": {},
   "outputs": [
    {
     "data": {
      "text/plain": [
       "1"
      ]
     },
     "execution_count": 14,
     "metadata": {},
     "output_type": "execute_result"
    }
   ],
   "source": [
    "nums = [1,3,5,6] \n",
    "target = 2\n",
    "findIndex(nums, target)"
   ]
  },
  {
   "cell_type": "code",
   "execution_count": 18,
   "id": "2954668d",
   "metadata": {},
   "outputs": [
    {
     "name": "stdout",
     "output_type": "stream",
     "text": [
      "1\n"
     ]
    }
   ],
   "source": [
    "def findIndex(nums, target):\n",
    "    \n",
    "    if len(nums) == 0:\n",
    "        return 0\n",
    "    \n",
    "    n = len(nums)\n",
    "    \n",
    "    start = 0\n",
    "    end = n - 1\n",
    "    while start<= end:\n",
    "        mid =(start + end)//2\n",
    "        #print('mid',mid)\n",
    "        #print('*'*25)\n",
    "        if nums[mid] == target:\n",
    "            return mid\n",
    "\n",
    "        elif nums[mid] < target:\n",
    "            start = mid + 1\n",
    "        else:\n",
    "            end = mid-1\n",
    "\n",
    "    return end + 1\n",
    "\n",
    "\n",
    "nums = [1, 3, 5, 6]\n",
    "target = 2\n",
    "print(findIndex(nums,  target))"
   ]
  },
  {
   "cell_type": "code",
   "execution_count": 19,
   "id": "385382fc",
   "metadata": {},
   "outputs": [
    {
     "data": {
      "text/plain": [
       "2"
      ]
     },
     "execution_count": 19,
     "metadata": {},
     "output_type": "execute_result"
    }
   ],
   "source": [
    "nums = [1,3,5,6] \n",
    "target = 5\n",
    "findIndex(nums, target)"
   ]
  },
  {
   "cell_type": "markdown",
   "id": "7e1f55cc",
   "metadata": {},
   "source": [
    "### Q4. You are given a large integer represented as an integer array digits, where each digits[i] is the ith digit of the integer. The digits are ordered from most significant to least significant in left-to-right order. The large integer does not contain any leading 0's.\n",
    "\n",
    "Increment the large integer by one and return the resulting array of digits.\n",
    "\n",
    "Example 1: \n",
    "    Input: digits = [1,2,3] \n",
    "    Output: [1,2,4]\n",
    "\n",
    "Explanation: The array represents the integer 123.\n",
    "\n",
    "Incrementing by one gives 123 + 1 = 124. Thus, the result should be [1,2,4].\n"
   ]
  },
  {
   "cell_type": "code",
   "execution_count": 86,
   "id": "be44f97e",
   "metadata": {},
   "outputs": [
    {
     "name": "stdout",
     "output_type": "stream",
     "text": [
      "[1, 2, 3, 4, 5, 7]\n"
     ]
    }
   ],
   "source": [
    "def addNum(nums):\n",
    "    \n",
    "    if len(nums) == 0:\n",
    "        return 0\n",
    "    \n",
    "    n = len(nums)\n",
    "    end=n-1\n",
    "    str1 = ''\n",
    "    \n",
    "    for i in range(n):\n",
    "        str1 += str(nums[i])\n",
    "        if i == end:\n",
    "            stradd = int(str1) + 1\n",
    "            stradd = str(stradd)\n",
    "            i = len(stradd)-1\n",
    "            \n",
    "            if stradd[i] == '0':                \n",
    "                while i >= 0:\n",
    "                    if stradd[i] == '0':\n",
    "                        stradd = stradd[0:i]\n",
    "                    else:\n",
    "                        break\n",
    "                    i -=1\n",
    "\n",
    "    nums = [int(d) for d in str(stradd)]\n",
    "    print(nums)\n",
    "    \n",
    "    \n",
    "nums = [1,2,3,4,5,6,9,9,9] \n",
    "addNum(nums)"
   ]
  },
  {
   "cell_type": "code",
   "execution_count": 87,
   "id": "c67af7b0",
   "metadata": {},
   "outputs": [
    {
     "name": "stdout",
     "output_type": "stream",
     "text": [
      "[1, 2, 3, 4, 5, 6, 7, 9]\n"
     ]
    }
   ],
   "source": [
    "nums = [1,2,3,4,5,6,7,8,9] \n",
    "addNum(nums)"
   ]
  },
  {
   "cell_type": "code",
   "execution_count": 88,
   "id": "197ad826",
   "metadata": {},
   "outputs": [
    {
     "name": "stdout",
     "output_type": "stream",
     "text": [
      "[1, 2, 4]\n"
     ]
    }
   ],
   "source": [
    "nums = [1,2,3] \n",
    "addNum(nums)"
   ]
  },
  {
   "cell_type": "markdown",
   "id": "1f71bef4",
   "metadata": {},
   "source": [
    "### Q5. You are given two integer arrays nums1 and nums2, sorted in non-decreasing order, and two integers m and n, representing the number of elements in nums1 and nums2 respectively.\n",
    "\n",
    "Merge nums1 and nums2 into a single array sorted in non-decreasing order.\n",
    "\n",
    "The final sorted array should not be returned by the function, but instead be stored inside the array nums1. To accommodate this, nums1 has a length of m + n, where the first m elements denote the elements that should be merged, and the last n elements are set to 0 and should be ignored. nums2 has a length of n.\n",
    "\n",
    "Example 1: \n",
    "\n",
    "    Input: nums1 = [1,2,3,0,0,0], m = 3, nums2 = [2,5,6], n = 3 \n",
    "    Output: [1,2,2,3,5,6]\n",
    "    \n",
    "Explanation: The arrays we are merging are [1,2,3] and [2,5,6]. The result of the merge is [1,2,2,3,5,6] with the underlined elements coming from nums1.\n",
    "\n"
   ]
  },
  {
   "cell_type": "code",
   "execution_count": 154,
   "id": "8d0345f8",
   "metadata": {},
   "outputs": [
    {
     "name": "stdout",
     "output_type": "stream",
     "text": [
      "[2, 3, 4, 5, 6, 7]\n"
     ]
    }
   ],
   "source": [
    "def merge(nums1, m, nums2, n):\n",
    "    if (len(nums1) <= 0) or (len(nums2) <= 0):\n",
    "        return 0\n",
    "    \n",
    "    if len(nums1) <= (m+n):\n",
    "        diff = (m+n) - len(nums1)\n",
    "        ln = len(nums1)\n",
    "        for j in range(diff):\n",
    "            nums1.append(0)\n",
    "    \n",
    "    for i in range(n):        \n",
    "        nums1[m + i] = nums2[n - 1]\n",
    "        while n < 0:\n",
    "            return\n",
    "        n -= 1\n",
    "    nums1.sort()\n",
    "    \n",
    "    print(nums1)\n",
    "\n",
    "nums1 = [3, 2, 4,  0] \n",
    "m = 3 \n",
    "nums2 = [7, 5, 6] \n",
    "n = 3\n",
    "merge(nums1, m, nums2, n)"
   ]
  },
  {
   "cell_type": "code",
   "execution_count": 155,
   "id": "86c6e0cd",
   "metadata": {},
   "outputs": [
    {
     "name": "stdout",
     "output_type": "stream",
     "text": [
      "[1, 2, 2, 3, 5, 6]\n"
     ]
    }
   ],
   "source": [
    "nums1 = [1,2,3,0,0,0]\n",
    "m = 3\n",
    "nums2 = [2,5,6]\n",
    "n = 3 \n",
    "merge(nums1, m, nums2, n)"
   ]
  },
  {
   "cell_type": "markdown",
   "id": "93366e1d",
   "metadata": {},
   "source": [
    "### Q6. Given an integer array nums, return true if any value appears at least twice in the array, and return false if every element is distinct.\n",
    "\n",
    "Example 1: \n",
    "    \n",
    "    Input: nums = [1,2,3,1]\n",
    "    Output: true\n"
   ]
  },
  {
   "cell_type": "code",
   "execution_count": 157,
   "id": "7bbf96be",
   "metadata": {},
   "outputs": [
    {
     "name": "stdout",
     "output_type": "stream",
     "text": [
      "{1, 2, 3}\n"
     ]
    },
    {
     "data": {
      "text/plain": [
       "True"
      ]
     },
     "execution_count": 157,
     "metadata": {},
     "output_type": "execute_result"
    }
   ],
   "source": [
    "nums = [1,2,3,1]\n",
    "\n",
    "print(set(nums)) # set contains unique values\n",
    "\n",
    "len(set(nums))!=len(nums)"
   ]
  },
  {
   "cell_type": "markdown",
   "id": "23cc5c6f",
   "metadata": {},
   "source": [
    "### Q7. Given an integer array nums, move all 0's to the end of it while maintaining the relative order of the nonzero elements.\n",
    "\n",
    "Note that you must do this in-place without making a copy of the array.\n",
    "\n",
    "Example 1: \n",
    "    Input: nums = [0,1,0,3,12] \n",
    "    Output: [1,3,12,0,0]\n"
   ]
  },
  {
   "cell_type": "code",
   "execution_count": 166,
   "id": "02a5cd10",
   "metadata": {},
   "outputs": [
    {
     "name": "stdout",
     "output_type": "stream",
     "text": [
      "[1, 3, 12, 0, 0]\n"
     ]
    }
   ],
   "source": [
    "def pushzeros(nums):  \n",
    "\n",
    "    nonZeroValues = [x for x in nums if x != 0]\n",
    "    zeroes = [j for j in nums if j == 0]\n",
    "    nums = nonZeroValues + zeroes\n",
    "    print(nums)\n",
    "    \n",
    "nums = [0,1,0,3,12] \n",
    "pushzeros(nums)"
   ]
  },
  {
   "cell_type": "code",
   "execution_count": 167,
   "id": "acb58652",
   "metadata": {},
   "outputs": [
    {
     "name": "stdout",
     "output_type": "stream",
     "text": [
      "[1, 0, 0, 3, 12]\n",
      "[1, 3, 0, 0, 12]\n",
      "[1, 3, 12, 0, 0]\n",
      "[1, 3, 12, 0, 0]\n"
     ]
    }
   ],
   "source": [
    "def pushzeros(nums):\n",
    "    n = len(nums)\n",
    "    j = 0\n",
    "    \n",
    "    for i in range(n):\n",
    "        if nums[i] != 0:\n",
    "            nums[j], nums[i] = nums[i], nums[j]\n",
    "            print(nums)\n",
    "            j += 1\n",
    "            \n",
    "    print(nums)\n",
    "\n",
    "nums = [0,1,0,3,12] \n",
    "pushzeros(nums)"
   ]
  },
  {
   "cell_type": "markdown",
   "id": "3d684dd9",
   "metadata": {},
   "source": [
    "### Q8. You have a set of integers s, which originally contains all the numbers from 1 to n. Unfortunately, due to some error, one of the numbers in s got duplicated to another number in the set, which results in repetition of one number and loss of another number.\n",
    "\n",
    "You are given an integer array nums representing the data status of this set after the error.\n",
    "\n",
    "Find the number that occurs twice and the number that is missing and return them in the form of an array.\n",
    "\n",
    "Example 1: \n",
    "\n",
    "    Input: nums = [1,2,2,4] \n",
    "    Output: [2,3]\n"
   ]
  },
  {
   "cell_type": "code",
   "execution_count": 172,
   "id": "2a46948b",
   "metadata": {},
   "outputs": [],
   "source": [
    "def findrepeating(nums):\n",
    "    numberMap = {}\n",
    "    lst =[]\n",
    "\n",
    "    max = len(nums)\n",
    "    for i in nums:\n",
    "        if not i in numberMap:\n",
    "            numberMap[i] = True\n",
    "        else:\n",
    "            lst.append(i)\n",
    "\n",
    "    for i in range(1, max + 1):\n",
    "        if not i in numberMap:\n",
    "            lst.append(i)\n",
    "\n",
    "    print(lst)"
   ]
  },
  {
   "cell_type": "code",
   "execution_count": 173,
   "id": "17d57638",
   "metadata": {},
   "outputs": [
    {
     "name": "stdout",
     "output_type": "stream",
     "text": [
      "[2, 3]\n"
     ]
    }
   ],
   "source": [
    "nums = [1,2,2,4] \n",
    "findrepeating(nums)"
   ]
  },
  {
   "cell_type": "code",
   "execution_count": null,
   "id": "8a3bb95c",
   "metadata": {},
   "outputs": [],
   "source": []
  },
  {
   "cell_type": "code",
   "execution_count": null,
   "id": "68e233eb",
   "metadata": {},
   "outputs": [],
   "source": []
  }
 ],
 "metadata": {
  "kernelspec": {
   "display_name": "Python 3 (ipykernel)",
   "language": "python",
   "name": "python3"
  },
  "language_info": {
   "codemirror_mode": {
    "name": "ipython",
    "version": 3
   },
   "file_extension": ".py",
   "mimetype": "text/x-python",
   "name": "python",
   "nbconvert_exporter": "python",
   "pygments_lexer": "ipython3",
   "version": "3.9.7"
  }
 },
 "nbformat": 4,
 "nbformat_minor": 5
}
