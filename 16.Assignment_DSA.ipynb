{
 "cells": [
  {
   "cell_type": "markdown",
   "id": "86f6f253",
   "metadata": {},
   "source": [
    "##### Assignment 16 Questions - Linked List | DSA\n",
    "\n",
    "https://pwskills.notion.site/Assignment-Questions-16-dba1b3bc36c941e5a45f060f83fc59e5"
   ]
  },
  {
   "cell_type": "markdown",
   "id": "c33f29a8",
   "metadata": {},
   "source": [
    "#### Question 1\n",
    "\n"
   ]
  },
  {
   "cell_type": "code",
   "execution_count": 11,
   "id": "18d34f7a",
   "metadata": {},
   "outputs": [
    {
     "name": "stdout",
     "output_type": "stream",
     "text": [
      "[-1, -1, 1, 2, 2, 1, -1]\n"
     ]
    }
   ],
   "source": [
    "def NFG(a, n):\n",
    "\n",
    "    if (n <= 0):\n",
    "        print(\"List empty\")\n",
    "        return []\n",
    "\n",
    "    stack = [0]*n\n",
    "\n",
    "    freq = {}\n",
    "    for i in a:\n",
    "        freq[a[i]] = 0\n",
    "    for i in a:\n",
    "        freq[a[i]] += 1\n",
    "    res = [0]*n\n",
    "\n",
    "    top = -1\n",
    "    top += 1\n",
    "    stack[top] = 0\n",
    "    for i in range(1, n):\n",
    "        if (freq[a[stack[top]]] > freq[a[i]]):\n",
    "            top += 1\n",
    "            stack[top] = i\n",
    "\n",
    "        else:\n",
    "            while (top > -1 and freq[a[stack[top]]] < freq[a[i]]):\n",
    "                res[stack[top]] = a[i]\n",
    "                top -= 1\n",
    "\n",
    "            # now push the current element\n",
    "            top += 1\n",
    "            stack[top] = i\n",
    "\n",
    "    while (top > -1):\n",
    "        res[stack[top]] = -1\n",
    "        top -= 1\n",
    "\n",
    "    return res\n",
    "\n",
    "print(NFG([1, 1, 2, 3, 4, 2, 1], 7))"
   ]
  },
  {
   "cell_type": "markdown",
   "id": "a5034378",
   "metadata": {},
   "source": [
    "#### Question 2\n",
    "\n",
    "Given a stack of integers, sort it in ascending order using another temporary stack."
   ]
  },
  {
   "cell_type": "code",
   "execution_count": 1,
   "id": "9b55bd29",
   "metadata": {},
   "outputs": [
    {
     "name": "stdout",
     "output_type": "stream",
     "text": [
      "3 23 31 34 92 98 \n"
     ]
    }
   ],
   "source": [
    "def sortStack ( stack ):\n",
    "    tmpStack = createStack()\n",
    "    while(isEmpty(stack) == False):\n",
    "        tmp = top(stack)\n",
    "        pop(stack)\n",
    "        while(isEmpty(tmpStack) == False and\n",
    "            int(top(tmpStack)) < int(tmp)):\n",
    "            push(stack,top(tmpStack))\n",
    "            pop(tmpStack)\n",
    "        push(tmpStack,tmp)\n",
    "\n",
    "    return tmpStack\n",
    "\n",
    "def createStack():\n",
    "    stack = []\n",
    "    return stack\n",
    "\n",
    "def isEmpty( stack ):\n",
    "    return len(stack) == 0\n",
    "\n",
    "def push( stack, item ):\n",
    "    stack.append( item )\n",
    "\n",
    "def top( stack ):\n",
    "    p = len(stack)\n",
    "    return stack[p-1]\n",
    "\n",
    "def pop( stack ):\n",
    "    if(isEmpty( stack )):\n",
    "        print(\"Stack Underflow \")\n",
    "        exit(1)\n",
    "\n",
    "    return stack.pop()\n",
    "\n",
    "def prints(stack):\n",
    "    for i in range(len(stack)-1, -1, -1):\n",
    "        print(stack[i], end = ' ')\n",
    "    print()\n",
    "\n",
    "stack = createStack()\n",
    "push( stack, str(34) )\n",
    "push( stack, str(3) )\n",
    "push( stack, str(31) )\n",
    "push( stack, str(98) )\n",
    "push( stack, str(92) )\n",
    "push( stack, str(23) )\n",
    "\n",
    "sortedst = sortStack ( stack )\n",
    "prints(sortedst)"
   ]
  },
  {
   "cell_type": "markdown",
   "id": "386d84e3",
   "metadata": {},
   "source": [
    "#### Question 3\n",
    "\n",
    "Given a stack with push(), pop(), and empty() operations, The task is to delete the middle element of it without using any additional data structure."
   ]
  },
  {
   "cell_type": "code",
   "execution_count": 3,
   "id": "7e90e058",
   "metadata": {},
   "outputs": [
    {
     "name": "stdout",
     "output_type": "stream",
     "text": [
      "Printing stack after deletion of middle: 1 2 3 5 6 7 "
     ]
    }
   ],
   "source": [
    "st = []\n",
    "st.append('1')\n",
    "st.append('2')\n",
    "st.append('3')\n",
    "st.append('4')\n",
    "st.append('5')\n",
    "st.append('6')\n",
    "st.append('7')\n",
    "\n",
    "v = []\n",
    "\n",
    "while(len(st) > 0):\n",
    "    v.append(st[0])\n",
    "    del st[0]\n",
    "\n",
    "n = len(v)\n",
    "\n",
    "if n%2==0:\n",
    "    target = math.floor(n/2)\n",
    "    for i in range(0, n):\n",
    "        if i==target:\n",
    "            continue\n",
    "        st.append(v[i])\n",
    "else:\n",
    "    target = math.floor(n/2)\n",
    "    for i in range(0, n):\n",
    "        if i==target:\n",
    "            continue\n",
    "        st.append(v[i])\n",
    "\n",
    "print(\"Printing stack after deletion of middle:\", end = \" \")\n",
    "\n",
    "while (len(st) > 0):\n",
    "    p = st[0]\n",
    "    del st[0]\n",
    "    print(p, end = \" \")\n"
   ]
  },
  {
   "cell_type": "markdown",
   "id": "d02114d4",
   "metadata": {},
   "source": [
    "#### Question 4\n",
    "\n"
   ]
  },
  {
   "cell_type": "code",
   "execution_count": 4,
   "id": "299bd5de",
   "metadata": {},
   "outputs": [
    {
     "name": "stdout",
     "output_type": "stream",
     "text": [
      "Yes\n"
     ]
    }
   ],
   "source": [
    "from queue import Queue\n",
    "\n",
    "def checkSorted(n, q):\n",
    "    st = []\n",
    "    expected = 1\n",
    "    fnt = None\n",
    "    while (not q.empty()):\n",
    "        fnt = q.queue[0]\n",
    "        q.get()\n",
    "        \n",
    "        if (fnt == expected):\n",
    "            expected += 1\n",
    "        else:\n",
    "            if (len(st) == 0):\n",
    "                st.append(fnt)\n",
    "            elif (len(st) != 0 and st[-1] < fnt):\n",
    "                return False\n",
    "            else:\n",
    "                st.append(fnt)\n",
    "\n",
    "        while (len(st) != 0 and\n",
    "                st[-1] == expected):\n",
    "            st.pop()\n",
    "            expected += 1\n",
    "\n",
    "    if (expected - 1 == n and len(st) == 0):\n",
    "        return True\n",
    "\n",
    "    return False\n",
    "\n",
    "\n",
    "q = Queue()\n",
    "q.put(5)\n",
    "q.put(1)\n",
    "q.put(2)\n",
    "q.put(3)\n",
    "q.put(4)\n",
    "\n",
    "n = q.qsize()\n",
    "\n",
    "if checkSorted(n, q):\n",
    "    print(\"Yes\")\n",
    "else:\n",
    "    print(\"No\")"
   ]
  },
  {
   "cell_type": "markdown",
   "id": "999b2d26",
   "metadata": {},
   "source": [
    "#### Question 5\n",
    "\n",
    "Given a number , write a program to reverse this number using stack."
   ]
  },
  {
   "cell_type": "code",
   "execution_count": 10,
   "id": "1a522323",
   "metadata": {},
   "outputs": [
    {
     "name": "stdout",
     "output_type": "stream",
     "text": [
      "79993\n"
     ]
    }
   ],
   "source": [
    "st = []\n",
    "def push_digits(number):\n",
    "    while (number != 0):\n",
    "        st.append(number % 10)\n",
    "        number = int(number / 10)\n",
    "\n",
    "def reverse_number(number):\n",
    "    push_digits(number)\n",
    "    reverse = 0\n",
    "    i = 1\n",
    "\n",
    "    while (len(st) > 0):\n",
    "        reverse = reverse + (st[len(st) - 1] * i)\n",
    "        st.pop()\n",
    "        i = i * 10\n",
    "    return reverse\n",
    "\n",
    "\n",
    "number = 39997\n",
    "print(reverse_number(number))\n"
   ]
  },
  {
   "cell_type": "markdown",
   "id": "2f21c68d",
   "metadata": {},
   "source": [
    "#### Question 6\n",
    "\n",
    "Given an integer k and a queue of integers, The task is to reverse the order of the first k elements of the queue, leaving the other elements in the same relative order."
   ]
  },
  {
   "cell_type": "code",
   "execution_count": 6,
   "id": "0bc4cf96",
   "metadata": {},
   "outputs": [
    {
     "name": "stdout",
     "output_type": "stream",
     "text": [
      "50 40 30 20 10 60 70 80 90 100 "
     ]
    }
   ],
   "source": [
    "\n",
    "from collections import deque\n",
    "\n",
    "def reverse_first_k(q, k):\n",
    "    solve(q, k)\n",
    "    s = len(q) - k\n",
    "    for _ in range(s):\n",
    "        x = q.popleft()\n",
    "        q.append(x)\n",
    "    return q\n",
    "\n",
    "def solve(q, k):\n",
    "    if k == 0:\n",
    "        return\n",
    "    e = q.popleft()\n",
    "    solve(q, k - 1)\n",
    "    q.append(e)\n",
    "\n",
    "queue = deque([10, 20, 30, 40, 50, 60, 70, 80, 90, 100])\n",
    "k = 5\n",
    "queue = reverse_first_k(queue, k)\n",
    "\n",
    "while queue:\n",
    "    print(queue.popleft(), end=' ')\n"
   ]
  },
  {
   "cell_type": "markdown",
   "id": "533d0cc9",
   "metadata": {},
   "source": [
    "#### Question 7\n",
    "\n",
    "Given a sequence of n strings, the task is to check if any two similar words come together and then destroy each other then print the number of words left in the sequence after this pairwise destruction."
   ]
  },
  {
   "cell_type": "code",
   "execution_count": 9,
   "id": "169c599c",
   "metadata": {
    "scrolled": true
   },
   "outputs": [
    {
     "name": "stdout",
     "output_type": "stream",
     "text": [
      "3\n"
     ]
    }
   ],
   "source": [
    "def removeConsecutiveSame(v):\n",
    "    st = []\n",
    "    for i in range(len(v)):\n",
    "        if (len(st) == 0):\n",
    "            st.append(v[i])\n",
    "        else:\n",
    "            Str = st[-1]\n",
    "            if (Str == v[i]):\n",
    "                st.pop()\n",
    "\n",
    "            else:\n",
    "                st.append(v[i])\n",
    "\n",
    "    return len(st)\n",
    "\n",
    "\n",
    "V = [ \"ab\", \"aa\", \"aa\", \"bcd\", \"ab\"]\n",
    "print(removeConsecutiveSame(V))\n"
   ]
  },
  {
   "cell_type": "markdown",
   "id": "388e38a8",
   "metadata": {},
   "source": [
    "#### Question 8\n",
    "\n",
    "Given an array of integers, the task is to find the maximum absolute difference between the nearest left and the right smaller element of every element in the array."
   ]
  },
  {
   "cell_type": "code",
   "execution_count": null,
   "id": "3060f747",
   "metadata": {},
   "outputs": [],
   "source": []
  },
  {
   "cell_type": "code",
   "execution_count": null,
   "id": "218a5660",
   "metadata": {},
   "outputs": [],
   "source": []
  },
  {
   "cell_type": "code",
   "execution_count": null,
   "id": "d1beb93d",
   "metadata": {},
   "outputs": [],
   "source": []
  }
 ],
 "metadata": {
  "kernelspec": {
   "display_name": "Python 3 (ipykernel)",
   "language": "python",
   "name": "python3"
  },
  "language_info": {
   "codemirror_mode": {
    "name": "ipython",
    "version": 3
   },
   "file_extension": ".py",
   "mimetype": "text/x-python",
   "name": "python",
   "nbconvert_exporter": "python",
   "pygments_lexer": "ipython3",
   "version": "3.10.9"
  }
 },
 "nbformat": 4,
 "nbformat_minor": 5
}
