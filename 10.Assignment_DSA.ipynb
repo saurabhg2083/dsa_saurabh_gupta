{
 "cells": [
  {
   "cell_type": "markdown",
   "id": "86f6f253",
   "metadata": {},
   "source": [
    "##### Assignment 10 Questions - Arrays | DSA\n",
    "\n",
    "https://pwskills.notion.site/Assignment-Questions-10-cb29a82a9a5d4983b9bbd5a22ecbea1b"
   ]
  },
  {
   "cell_type": "markdown",
   "id": "c33f29a8",
   "metadata": {},
   "source": [
    "#### Question 1\n",
    "\n",
    "Given an integer `n`, return *`true` if it is a power of three. Otherwise, return `false`*.\n",
    "\n",
    "An integer `n` is a power of three, if there exists an integer `x` such that `n == 3x`."
   ]
  },
  {
   "cell_type": "code",
   "execution_count": 9,
   "id": "18d34f7a",
   "metadata": {},
   "outputs": [
    {
     "name": "stdout",
     "output_type": "stream",
     "text": [
      "True\n",
      "False\n",
      "False\n",
      "True\n",
      "False\n"
     ]
    }
   ],
   "source": [
    "def func1(n):\n",
    "    if n < 3:\n",
    "        return False\n",
    "    \n",
    "    if n%3 == 0:\n",
    "        return True\n",
    "    \n",
    "    return func1(n/3)\n",
    "\n",
    "n = 27\n",
    "print(func1(n))\n",
    "\n",
    "n = 0\n",
    "print(func1(n))\n",
    "\n",
    "n = -1\n",
    "print(func1(n))\n",
    "\n",
    "n = 81\n",
    "print(func1(n))\n",
    "\n",
    "n = 82\n",
    "print(func1(n))"
   ]
  },
  {
   "cell_type": "markdown",
   "id": "a5034378",
   "metadata": {},
   "source": [
    "#### Question 2\n",
    "\n",
    "You have a list arr of all integers in the range [1, n] sorted in a strictly increasing order. Apply the following algorithm on arr:\n",
    "\n",
    "Starting from left to right, remove the first number and every other number afterward until you reach the end of the list.\n",
    "\n",
    "Repeat the previous step again, but this time from right to left, remove the rightmost number and every other number from the remaining numbers.\n",
    "\n",
    "Keep repeating the steps again, alternating left to right and right to left, until a single number remains.\n",
    "\n",
    "Given the integer n, return the last number that remains in arr.\n",
    "\n",
    "    Input: n = 9\n",
    "    Output: 6\n",
    "    Explanation:\n",
    "    arr = [1, 2,3, 4,5, 6,7, 8,9]\n",
    "    arr = [2,4, 6,8]\n",
    "    arr = [2, 6]\n",
    "    arr = [6]\n",
    "\n",
    "    Input: n = 1\n",
    "    Output: 1"
   ]
  },
  {
   "cell_type": "code",
   "execution_count": 6,
   "id": "9b55bd29",
   "metadata": {},
   "outputs": [
    {
     "name": "stdout",
     "output_type": "stream",
     "text": [
      "6\n"
     ]
    }
   ],
   "source": [
    "def func2(n):\n",
    "    \n",
    "    a1, an = 1, n\n",
    "    i, step, cnt = 0, 1, n\n",
    "    while cnt > 1:\n",
    "        if i % 2:\n",
    "            an -= step\n",
    "            if cnt % 2:\n",
    "                a1 += step\n",
    "        else:\n",
    "            a1 += step\n",
    "            if cnt % 2:\n",
    "                an -= step\n",
    "        cnt >>= 1\n",
    "        step <<= 1\n",
    "        i += 1\n",
    "    return a1\n",
    "\n",
    "\n",
    "print(func2(9))"
   ]
  },
  {
   "cell_type": "code",
   "execution_count": 22,
   "id": "8585a457",
   "metadata": {},
   "outputs": [
    {
     "data": {
      "text/plain": [
       "4"
      ]
     },
     "execution_count": 22,
     "metadata": {},
     "output_type": "execute_result"
    }
   ],
   "source": [
    "cnt = 8\n",
    "cnt >>= 1\n",
    "cnt"
   ]
  },
  {
   "cell_type": "markdown",
   "id": "386d84e3",
   "metadata": {},
   "source": [
    "#### Question 3\n",
    "Given a set represented as a string, write a recursive code to print all subsets of it. The subsets can be printed in any order.\n",
    "\n",
    "set = “abcd”\n",
    "{ “”, “a” ,”ab” ,”abc” ,”abcd”, “abd” ,”ac” ,”acd”, “ad” ,”b”, “bc” ,”bcd” ,”bd” ,”c” ,”cd” ,”d” }"
   ]
  },
  {
   "cell_type": "code",
   "execution_count": null,
   "id": "7e90e058",
   "metadata": {},
   "outputs": [],
   "source": []
  },
  {
   "cell_type": "markdown",
   "id": "d02114d4",
   "metadata": {},
   "source": [
    "#### Question 4\n",
    "\n",
    "Given a string calculate length of the string using recursion."
   ]
  },
  {
   "cell_type": "code",
   "execution_count": 25,
   "id": "299bd5de",
   "metadata": {},
   "outputs": [
    {
     "data": {
      "text/plain": [
       "4"
      ]
     },
     "execution_count": 25,
     "metadata": {},
     "output_type": "execute_result"
    }
   ],
   "source": [
    "def func4(str):\n",
    "    if str == '':\n",
    "        return 0\n",
    "    else:\n",
    "        return 1 + func4(str[1:])\n",
    "    \n",
    "str = \"abcd\"\n",
    "func4(str)"
   ]
  },
  {
   "cell_type": "markdown",
   "id": "999b2d26",
   "metadata": {},
   "source": [
    "#### Question 5\n",
    "\n",
    "We are given a string S, we need to find count of all contiguous substrings starting and ending with same character."
   ]
  },
  {
   "cell_type": "code",
   "execution_count": 31,
   "id": "1a522323",
   "metadata": {},
   "outputs": [
    {
     "name": "stdout",
     "output_type": "stream",
     "text": [
      "7\n"
     ]
    }
   ],
   "source": [
    "def func5(S, i, j, n):\n",
    "    if (n == 1):\n",
    "        return 1\n",
    "    if (n <= 0):\n",
    "        return 0\n",
    "\n",
    "    res = (func5(S, i + 1, j, n - 1) + func5(S, i, j - 1, n - 1) - func5(S, i + 1, j - 1, n - 2))\n",
    "\n",
    "    if (S[i] == S[j]):\n",
    "        res += 1\n",
    "\n",
    "    return res\n",
    "\n",
    "S = \"abcab\"\n",
    "n = len(S)\n",
    "print(func5(S, 0, n - 1, n))\n"
   ]
  },
  {
   "cell_type": "markdown",
   "id": "2f21c68d",
   "metadata": {},
   "source": [
    "#### Question 6\n",
    "\n",
    "The tower of Hanoi is a famous puzzle where we have three rods and N disks. The objective of the puzzle is to move the entire stack to another rod. You are given the number of discs N. Initially, these discs are in the rod 1. You need to print all the steps of discs movement so that all the discs reach the 3rd rod. Also, you need to find the total moves.Note: The discs are arranged such that the top disc is numbered 1 and the bottom-most disc is numbered N. Also, all the discs have different sizes and a bigger disc cannot be put on the top of a smaller disc. Refer the provided link to get a better clarity about the puzzle.\n",
    "\n",
    "    Input:\n",
    "    N = 2\n",
    "    Output:\n",
    "    move disk 1 from rod 1 to rod 2\n",
    "    move disk 2 from rod 1 to rod 3\n",
    "    move disk 1 from rod 2 to rod 3\n",
    "    3\n",
    "    Explanation:For N=2 , steps will be\n",
    "    as follows in the example and total\n",
    "    3 steps will be taken."
   ]
  },
  {
   "cell_type": "code",
   "execution_count": 32,
   "id": "0bc4cf96",
   "metadata": {},
   "outputs": [
    {
     "name": "stdout",
     "output_type": "stream",
     "text": [
      "Move disk 1 from rod A to rod C\n",
      "Move disk 2 from rod A to rod B\n",
      "Move disk 1 from rod C to rod B\n",
      "Move disk 3 from rod A to rod C\n",
      "Move disk 1 from rod B to rod A\n",
      "Move disk 2 from rod B to rod C\n",
      "Move disk 1 from rod A to rod C\n"
     ]
    }
   ],
   "source": [
    "def TowerOfHanoi(n, from_rod, to_rod, aux_rod):\n",
    "    if n == 0:\n",
    "        return\n",
    "    TowerOfHanoi(n-1, from_rod, aux_rod, to_rod)\n",
    "    print(\"Move disk\", n, \"from rod\", from_rod, \"to rod\", to_rod)\n",
    "    TowerOfHanoi(n-1, aux_rod, to_rod, from_rod)\n",
    "\n",
    "\n",
    "N = 3\n",
    "TowerOfHanoi(N, 'A', 'C', 'B')\n"
   ]
  },
  {
   "cell_type": "markdown",
   "id": "533d0cc9",
   "metadata": {},
   "source": [
    "#### Question 7\n",
    "\n",
    "Given a string str, the task is to print all the permutations of str. A permutation is an arrangement of all or part of a set of objects, with regard to the order of the arrangement. For instance, the words ‘bat’ and ‘tab’ represents two distinct permutation (or arrangements) of a similar three letter word."
   ]
  },
  {
   "cell_type": "code",
   "execution_count": 8,
   "id": "169c599c",
   "metadata": {
    "scrolled": true
   },
   "outputs": [
    {
     "name": "stdout",
     "output_type": "stream",
     "text": [
      "['abc', 'bac', 'bca', 'acb', 'cab', 'cba']\n"
     ]
    }
   ],
   "source": [
    "def get_permutation(string):\n",
    "    \n",
    "    if len(string) == 0:\n",
    "        return [\"\"]\n",
    "\n",
    "    ch = string[0]\n",
    "    sub_str = string[1:]\n",
    "    prev_result = get_permutation(sub_str)\n",
    "\n",
    "    #print(prev_result)\n",
    "    res = []\n",
    "    for val in prev_result:\n",
    "        for i in range(len(val) + 1):\n",
    "            res.append(val[:i] + ch + val[i:])\n",
    "\n",
    "    return res\n",
    "\n",
    "\n",
    "string = \"abc\"\n",
    "print(get_permutation(string))\n",
    "\n"
   ]
  },
  {
   "cell_type": "markdown",
   "id": "388e38a8",
   "metadata": {},
   "source": [
    "#### Question 8\n",
    "\n",
    "Given a string, count total number of consonants in it. A consonant is an English alphabet character that is not vowel (a, e, i, o and u). Examples of constants are b, c, d, f, and g\n",
    "\n",
    "Input : abc de\n",
    "Output : 3\n",
    "There are three consonants b, c and d.\n",
    "\n",
    "Input : geeksforgeeks portal\n",
    "Output : 12"
   ]
  },
  {
   "cell_type": "code",
   "execution_count": 9,
   "id": "3060f747",
   "metadata": {},
   "outputs": [
    {
     "name": "stdout",
     "output_type": "stream",
     "text": [
      "3\n"
     ]
    }
   ],
   "source": [
    "def isConsonant(ch):\n",
    "    ch = ch.upper()\n",
    "    return not (ch == 'A' or ch == 'E' or ch == 'I' or ch == 'O' or ch == 'U') and ord(ch) >= 65 and ord(ch) <= 90\n",
    "\n",
    "\n",
    "def totalConsonants(string, n):\n",
    "\n",
    "    if n == 1:\n",
    "        return isConsonant(string[0])\n",
    "\n",
    "    return totalConsonants(string, n - 1) + isConsonant(string[n-1])\n",
    "\n",
    "# Driver code\n",
    "string = \"abc de\"\n",
    "print(totalConsonants(string, len(string)))\n"
   ]
  },
  {
   "cell_type": "code",
   "execution_count": null,
   "id": "218a5660",
   "metadata": {},
   "outputs": [],
   "source": []
  },
  {
   "cell_type": "code",
   "execution_count": null,
   "id": "d1beb93d",
   "metadata": {},
   "outputs": [],
   "source": []
  }
 ],
 "metadata": {
  "kernelspec": {
   "display_name": "Python 3 (ipykernel)",
   "language": "python",
   "name": "python3"
  },
  "language_info": {
   "codemirror_mode": {
    "name": "ipython",
    "version": 3
   },
   "file_extension": ".py",
   "mimetype": "text/x-python",
   "name": "python",
   "nbconvert_exporter": "python",
   "pygments_lexer": "ipython3",
   "version": "3.9.7"
  }
 },
 "nbformat": 4,
 "nbformat_minor": 5
}
