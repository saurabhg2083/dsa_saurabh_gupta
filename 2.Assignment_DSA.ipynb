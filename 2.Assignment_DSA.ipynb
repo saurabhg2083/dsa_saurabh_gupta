{
 "cells": [
  {
   "cell_type": "markdown",
   "id": "86f6f253",
   "metadata": {},
   "source": [
    "### Assignment 2 Questions - Arrays | DSA"
   ]
  },
  {
   "cell_type": "markdown",
   "id": "c33f29a8",
   "metadata": {},
   "source": [
    "#### Question 1\n",
    "Given an integer array nums of 2n integers, group these integers into n pairs (a1, b1), (a2, b2),\n",
    "..., (an, bn) such that the sum of min(ai, bi) for all i is maximized. Return the maximized sum.\n",
    "\n",
    "Example 1:\n",
    "    \n",
    "    Input: nums = [1,4,3,2]\n",
    "    Output: 4\n",
    "\n",
    "Explanation: All possible pairings (ignoring the ordering of elements) are:\n",
    "1. (1, 4), (2, 3) -> min(1, 4) + min(2, 3) = 1 + 2 = 3\n",
    "2. (1, 3), (2, 4) -> min(1, 3) + min(2, 4) = 1 + 2 = 3\n",
    "3. (1, 2), (3, 4) -> min(1, 2) + min(3, 4) = 1 + 3 = 4\n",
    "\n",
    "So the maximum possible sum is 4\n"
   ]
  },
  {
   "cell_type": "code",
   "execution_count": 15,
   "id": "18d34f7a",
   "metadata": {},
   "outputs": [
    {
     "name": "stdout",
     "output_type": "stream",
     "text": [
      "4\n"
     ]
    }
   ],
   "source": [
    "def findsum(nums):\n",
    "    nums.sort()\n",
    "    #print(nums[::2])\n",
    "    print(sum(nums[::2]))\n",
    "\n",
    "    \n",
    "nums = [1,4,3,2] \n",
    "findsum(nums)"
   ]
  },
  {
   "cell_type": "markdown",
   "id": "999b2d26",
   "metadata": {},
   "source": [
    "#### Question 2\n",
    "Alice has n candies, where the ith candy is of type candyType[i]. Alice noticed that she started to gain weight, so she visited a doctor.\n",
    "\n",
    "The doctor advised Alice to only eat n / 2 of the candies she has (n is always even). Alice likes her candies very much, and she wants to eat the maximum number of different types of candies while still following the doctor's advice.\n",
    "\n",
    "Given the integer array candyType of length n, return the maximum number of different types of candies she can eat if she only eats n / 2 of them.\n",
    "\n",
    "Example 1:\n",
    "\n",
    "    Input: candyType = [1,1,2,2,3,3]\n",
    "    Output: 3\n",
    "    \n",
    "Explanation: Alice can only eat 6 / 2 = 3 candies. Since there are only 3 types, she can eat one of each type."
   ]
  },
  {
   "cell_type": "code",
   "execution_count": 41,
   "id": "9b55bd29",
   "metadata": {},
   "outputs": [
    {
     "name": "stdout",
     "output_type": "stream",
     "text": [
      "4\n",
      "4\n"
     ]
    },
    {
     "data": {
      "text/plain": [
       "4"
      ]
     },
     "execution_count": 41,
     "metadata": {},
     "output_type": "execute_result"
    }
   ],
   "source": [
    "def getmaxcandies(candyType):\n",
    "    ithcandy = candyType[len(candyType)-1]\n",
    "    totalcandies = len(set(candyType))\n",
    "    #print(ithcandy)\n",
    "    #print(totalcandies)    \n",
    "    return min(ithcandy, totalcandies)\n",
    "    \n",
    "    \n",
    "candyType = [1,1,2,2,3,3,4,4,4,4]\n",
    "getmaxcandies(candyType)"
   ]
  },
  {
   "cell_type": "markdown",
   "id": "386d84e3",
   "metadata": {},
   "source": [
    "#### Question 3\n",
    "We define a harmonious array as an array where the difference between its maximum value and its minimum value is exactly 1.\n",
    "\n",
    "Given an integer array nums, return the length of its longest harmonious subsequence among all its possible subsequences.\n",
    "\n",
    "A subsequence of an array is a sequence that can be derived from the array by deleting some or no elements without changing the order of the remaining elements.\n",
    "Example 1:\n",
    "    \n",
    "    Input: nums = [1,3,2,2,5,2,3,7]\n",
    "    Output: 5\n",
    "        \n",
    "Explanation: The longest harmonious subsequence is [3,2,2,2,3]."
   ]
  },
  {
   "cell_type": "code",
   "execution_count": 46,
   "id": "7e90e058",
   "metadata": {},
   "outputs": [
    {
     "data": {
      "text/plain": [
       "5"
      ]
     },
     "execution_count": 46,
     "metadata": {},
     "output_type": "execute_result"
    }
   ],
   "source": [
    "def harmonious(nums):\n",
    "    hashmap = {}\n",
    "    for num in nums:\n",
    "        hashmap[num] = hashmap.get(num, 0) + 1\n",
    "    #print(hashmap)\n",
    "    \n",
    "    max_length = 0\n",
    "    for num in hashmap:\n",
    "        if num + 1 in hashmap:\n",
    "            max_length = max(max_length, hashmap[num] + hashmap[num + 1])\n",
    "    return max_length\n",
    "\n",
    "nums = [1,3,2,2,5,2,3,7]\n",
    "harmonious(nums)"
   ]
  },
  {
   "cell_type": "markdown",
   "id": "d02114d4",
   "metadata": {},
   "source": [
    "#### Question 4\n",
    "\n",
    "You have a long flowerbed in which some of the plots are planted, and some are not. However, flowers cannot be planted in adjacent plots.\n",
    "\n",
    "Given an integer array flowerbed containing 0's and 1's, where 0 means empty and 1 means not empty, and an integer n, return true if n new flowers can be planted in the flowerbed without violating the no-adjacent-flowers rule and false otherwise.\n",
    "\n",
    "Example 1:\n",
    "\n",
    "    Input: flowerbed = [1,0,0,0,1], n = 1\n",
    "    Output: true"
   ]
  },
  {
   "cell_type": "code",
   "execution_count": 61,
   "id": "299bd5de",
   "metadata": {},
   "outputs": [
    {
     "name": "stdout",
     "output_type": "stream",
     "text": [
      "[1, 0, 1, 0, 1]\n"
     ]
    },
    {
     "data": {
      "text/plain": [
       "True"
      ]
     },
     "execution_count": 61,
     "metadata": {},
     "output_type": "execute_result"
    }
   ],
   "source": [
    "def placeflowers(flowerbed, n):\n",
    "\n",
    "    if n == 0:\n",
    "        return True\n",
    "\n",
    "    count = 0\n",
    "    for i in range(len(flowerbed)):\n",
    "        #print(f\"i: {i} and count= {count}\")\n",
    "        \n",
    "        if flowerbed[i] == 0:\n",
    "            if i == 0 or flowerbed[i-1] == 0:\n",
    "                if i == len(flowerbed)-1 or flowerbed[i+1] == 0:\n",
    "                    count += 1\n",
    "                    flowerbed[i] = 1\n",
    "                    \n",
    "    print(flowerbed)    \n",
    "    return count >= n\n",
    "\n",
    "flowerbed = [1,0,0,0,1]\n",
    "n = 1\n",
    "placeflowers(flowerbed, n)"
   ]
  },
  {
   "cell_type": "markdown",
   "id": "a5034378",
   "metadata": {},
   "source": [
    "#### Question 5\n",
    "\n",
    "Given an integer array nums, find three numbers whose product is maximum and return the maximum product.\n",
    "\n",
    "Example 1:\n",
    "\n",
    "    Input: nums = [1,2,3]\n",
    "    Output: 6"
   ]
  },
  {
   "cell_type": "code",
   "execution_count": 68,
   "id": "1a522323",
   "metadata": {},
   "outputs": [
    {
     "data": {
      "text/plain": [
       "24"
      ]
     },
     "execution_count": 68,
     "metadata": {},
     "output_type": "execute_result"
    }
   ],
   "source": [
    "import heapq\n",
    "\n",
    "def maximumProduct(nums):\n",
    "    largenums=heapq.nlargest(3,nums)\n",
    "    #print(\"pos\",pos)\n",
    "    smallnums=heapq.nsmallest(2,nums)\n",
    "    #print(\"neg\",neg)\n",
    "    return max(smallnums[0]*smallnums[1]*largenums[0],largenums[0]*largenums[1]*largenums[2])\n",
    "\n",
    "nums = [1,2,3,4]\n",
    "maximumProduct(nums)"
   ]
  },
  {
   "cell_type": "markdown",
   "id": "2f21c68d",
   "metadata": {},
   "source": [
    "#### Question 6\n",
    "\n",
    "Given an array of integers nums which is sorted in ascending order, and an integer target, write a function to search target in nums. If target exists, then return its index. Otherwise,\n",
    "return -1. \n",
    "You must write an algorithm with O(log n) runtime complexity.\n",
    "\n",
    "    Input: nums = [-1,0,3,5,9,12], target = 9\n",
    "    Output: 4\n",
    "        \n",
    "Explanation: 9 exists in nums and its index is 4"
   ]
  },
  {
   "cell_type": "code",
   "execution_count": 121,
   "id": "0bc4cf96",
   "metadata": {},
   "outputs": [
    {
     "data": {
      "text/plain": [
       "4"
      ]
     },
     "execution_count": 121,
     "metadata": {},
     "output_type": "execute_result"
    }
   ],
   "source": [
    "def search(nums, target):\n",
    "    left = 0\n",
    "    right = len(nums)-1\n",
    "\n",
    "    while left<=right:\n",
    "        mid = (left+right)//2\n",
    "        if nums[mid]==target:\n",
    "            return mid\n",
    "        elif nums[mid]>target:\n",
    "            right = mid-1\n",
    "        else:\n",
    "            left = mid+1\n",
    "\n",
    "    return -1\n",
    "\n",
    "\n",
    "nums = [-1,0,3,5,9,12,13]\n",
    "target = 9\n",
    "search(nums,target)"
   ]
  },
  {
   "cell_type": "markdown",
   "id": "533d0cc9",
   "metadata": {},
   "source": [
    "#### Question 7\n",
    "An array is monotonic if it is either monotone increasing or monotone decreasing. An array nums is monotone increasing if for all i <= j, nums[i] <= nums[j]. An array nums is\n",
    "monotone decreasing if for all i <= j, nums[i] >= nums[j].\n",
    "\n",
    "Given an integer array nums, return true if the given array is monotonic, or false otherwise.\n",
    "\n",
    "    Example 1:\n",
    "    Input: nums = [1,2,2,3]\n",
    "    Output: true"
   ]
  },
  {
   "cell_type": "code",
   "execution_count": 126,
   "id": "169c599c",
   "metadata": {},
   "outputs": [
    {
     "data": {
      "text/plain": [
       "True"
      ]
     },
     "execution_count": 126,
     "metadata": {},
     "output_type": "execute_result"
    }
   ],
   "source": [
    "def monotone(nums):\n",
    "    n = len(nums)\n",
    "    inc = True\n",
    "    dec = True\n",
    "\n",
    "    for i in range(0, n-1):\n",
    "        if nums[i] > nums[i+1]:\n",
    "            inc = False\n",
    "\n",
    "    for i in range(0, n-1):\n",
    "        if nums[i] < nums[i+1]:\n",
    "            dec = False\n",
    "\n",
    "    return inc or dec\n",
    "\n",
    "nums = [1,2,2,3]\n",
    "monotone(nums)"
   ]
  },
  {
   "cell_type": "code",
   "execution_count": 131,
   "id": "57032e77",
   "metadata": {},
   "outputs": [
    {
     "data": {
      "text/plain": [
       "False"
      ]
     },
     "execution_count": 131,
     "metadata": {},
     "output_type": "execute_result"
    }
   ],
   "source": [
    "nums = [1,2,5,3,8]\n",
    "monotone(nums)"
   ]
  },
  {
   "cell_type": "markdown",
   "id": "388e38a8",
   "metadata": {},
   "source": [
    "#### Question 8\n",
    "You are given an integer array nums and an integer k. In one operation, you can choose any index i where 0 <= i < nums.length and change nums[i]\n",
    "to nums[i] + x where x is an integer from the range [-k, k]. You can apply this operation at most once for each index i.\n",
    "The score of nums is the difference between the maximum and minimum elements in nums. Return the minimum score of nums after applying the mentioned operation at most once for\n",
    "each index in it.\n",
    "\n",
    "    Example 1:\n",
    "    Input: nums = [1], k = 0\n",
    "    Output: 0\n",
    "Explanation: The score is max(nums) - min(nums) = 1 - 1 = 0."
   ]
  },
  {
   "cell_type": "code",
   "execution_count": 135,
   "id": "3060f747",
   "metadata": {},
   "outputs": [
    {
     "name": "stdout",
     "output_type": "stream",
     "text": [
      "0\n"
     ]
    }
   ],
   "source": [
    "nums = [1]\n",
    "k = 0\n",
    "a=max((max(nums) - min(nums) - 2*k), 0)\n",
    "print(a)"
   ]
  },
  {
   "cell_type": "code",
   "execution_count": null,
   "id": "43a4eebe",
   "metadata": {},
   "outputs": [],
   "source": []
  }
 ],
 "metadata": {
  "kernelspec": {
   "display_name": "Python 3 (ipykernel)",
   "language": "python",
   "name": "python3"
  },
  "language_info": {
   "codemirror_mode": {
    "name": "ipython",
    "version": 3
   },
   "file_extension": ".py",
   "mimetype": "text/x-python",
   "name": "python",
   "nbconvert_exporter": "python",
   "pygments_lexer": "ipython3",
   "version": "3.9.7"
  }
 },
 "nbformat": 4,
 "nbformat_minor": 5
}
