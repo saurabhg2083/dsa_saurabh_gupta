{
 "cells": [
  {
   "cell_type": "markdown",
   "id": "f7330a49",
   "metadata": {},
   "source": [
    "### Mock Test 2"
   ]
  },
  {
   "cell_type": "markdown",
   "id": "fd498fd7",
   "metadata": {},
   "source": [
    "#### Given a non-negative integer x, return the square root of x rounded down to the nearest integer. The returned integer should be non-negative as well. You must not use any built-in exponent function or operator. "
   ]
  },
  {
   "cell_type": "code",
   "execution_count": 13,
   "id": "28b10c03",
   "metadata": {},
   "outputs": [
    {
     "name": "stdout",
     "output_type": "stream",
     "text": [
      "2\n"
     ]
    }
   ],
   "source": [
    "def func1(x):\n",
    "    if (x == 0 or x == 1):\n",
    "        return x\n",
    "\n",
    "    i = 1\n",
    "    result = 1\n",
    "    while (result <= x):\n",
    "        i += 1\n",
    "        result = i * i\n",
    "\n",
    "    return i - 1\n",
    "\n",
    "x = 4\n",
    "print(func1(x))\n"
   ]
  },
  {
   "cell_type": "code",
   "execution_count": 17,
   "id": "e55949f8",
   "metadata": {},
   "outputs": [
    {
     "name": "stdout",
     "output_type": "stream",
     "text": [
      "2\n"
     ]
    }
   ],
   "source": [
    "x = 8\n",
    "print(func1(x))"
   ]
  },
  {
   "cell_type": "markdown",
   "id": "8f03aecb",
   "metadata": {},
   "source": [
    "#### You are given two non-empty linked lists representing two non-negative integers. The digits are stored in reverse order, and each of their nodes contains a single digit. Add the two numbers and return the sum as a linked list.\n",
    "\n",
    "You may assume the two numbers do not contain any leading zero, except the number 0 itself."
   ]
  },
  {
   "cell_type": "code",
   "execution_count": 32,
   "id": "cb7e68be",
   "metadata": {},
   "outputs": [],
   "source": [
    "class Solution:\n",
    "    # Function to reverse a list\n",
    "    def reverse(self, head):\n",
    "        if head is None or head.next is None:\n",
    "            return head\n",
    "        prev = None\n",
    "        next = None\n",
    "        curr = head\n",
    "        while curr is not None:\n",
    "            next = curr.next\n",
    "            curr.next = prev\n",
    "            prev = curr\n",
    "            curr = next\n",
    "        head = prev\n",
    "        return head\n",
    "\n",
    "    # Function to add two numbers represented by linked list.\n",
    "\n",
    "    def addTwoLists(self, first, second):\n",
    "\n",
    "        # reverse the two lists\n",
    "        curr1 = self.reverse(first)\n",
    "        curr2 = self.reverse(second)\n",
    "\n",
    "        # res is head node of the resultant list\n",
    "        sum = 0\n",
    "        carry = 0\n",
    "        res = None\n",
    "        prev = None\n",
    "\n",
    "        # while both lists have atleast one node\n",
    "        while curr1 is not None or curr2 is not None:\n",
    "\n",
    "            # Calculating the sum of the last digits\n",
    "            sum = carry + (curr1.data if curr1 else 0) + \\\n",
    "                (curr2.data if curr2 else 0)\n",
    "\n",
    "            # update carry for next calculation\n",
    "            carry = (1 if sum >= 10 else 0)\n",
    "\n",
    "            # update sum if it is greater than 10\n",
    "            sum = sum % 10\n",
    "\n",
    "            # Create a new node with sum as data\n",
    "            temp = Node(sum)\n",
    "\n",
    "            # if this is the first node then set it as head of the resultant list\n",
    "            if res is None:\n",
    "                res = temp\n",
    "\n",
    "            # If this is not the first node then connect it to the rest.\n",
    "            else:\n",
    "                prev.next = temp\n",
    "\n",
    "            # Set prev for next insertion\n",
    "            prev = temp\n",
    "\n",
    "            # Move first and second pointers to next nodes\n",
    "            if curr1:\n",
    "                curr1 = curr1.next\n",
    "            if curr2:\n",
    "                curr2 = curr2.next\n",
    "\n",
    "        # if carry from previous sums is remaining\n",
    "        if carry > 0:\n",
    "            temp.next = Node(carry)\n",
    "\n",
    "        # Reverse the resultant answer\n",
    "        ans = self.reverse(res)\n",
    "        return ans\n",
    "\n",
    "\n",
    "class Node:\n",
    "    def __init__(self, data):\n",
    "        self.data = data\n",
    "        self.next = None\n",
    "\n",
    "\n",
    "class LinkedList:\n",
    "    def __init__(self):\n",
    "        self.head = None\n",
    "        self.tail = None\n",
    "\n",
    "    def push(self, val):\n",
    "        if self.head is None:\n",
    "            self.head = Node(val)\n",
    "            self.tail = self.head\n",
    "        else:\n",
    "            self.tail.next = Node(val)\n",
    "            self.tail = self.tail.next\n",
    "\n",
    "def printList(n):\n",
    "    while n:\n",
    "        print(n.data, end = ' ')\n",
    "        n = n.next\n",
    "    print()\n",
    "\n"
   ]
  },
  {
   "cell_type": "code",
   "execution_count": 35,
   "id": "b175e0af",
   "metadata": {},
   "outputs": [
    {
     "name": "stdout",
     "output_type": "stream",
     "text": [
      "8 0 7 \n"
     ]
    }
   ],
   "source": [
    "l1 = LinkedList()\n",
    "l2 = LinkedList()\n",
    "\n",
    "l1.push(2)\n",
    "l1.push(4)\n",
    "l1.push(3)\n",
    "\n",
    "l2.push(5)\n",
    "l2.push(6)\n",
    "l2.push(4)\n",
    "\n",
    "ans = Solution().addTwoLists(l1.head, l2.head)\n",
    "printList(ans)"
   ]
  },
  {
   "cell_type": "code",
   "execution_count": 36,
   "id": "57d9865d",
   "metadata": {},
   "outputs": [
    {
     "name": "stdout",
     "output_type": "stream",
     "text": [
      "0 \n"
     ]
    }
   ],
   "source": [
    "l1 = LinkedList()\n",
    "l2 = LinkedList()\n",
    "\n",
    "l1.push(0)\n",
    "\n",
    "l2.push(0)\n",
    "\n",
    "ans = Solution().addTwoLists(l1.head, l2.head)\n",
    "printList(ans)"
   ]
  },
  {
   "cell_type": "code",
   "execution_count": 37,
   "id": "7b7c19c4",
   "metadata": {},
   "outputs": [
    {
     "name": "stdout",
     "output_type": "stream",
     "text": [
      "1 0 0 0 9 9 9 8 \n"
     ]
    }
   ],
   "source": [
    "l1 = LinkedList()\n",
    "l2 = LinkedList()\n",
    "\n",
    "l1.push(9)\n",
    "l1.push(9)\n",
    "l1.push(9)\n",
    "l1.push(9)\n",
    "l1.push(9)\n",
    "l1.push(9)\n",
    "l1.push(9)\n",
    "\n",
    "l2.push(9)\n",
    "l2.push(9)\n",
    "l2.push(9)\n",
    "l2.push(9)\n",
    "\n",
    "ans = Solution().addTwoLists(l1.head, l2.head)\n",
    "printList(ans)\n",
    "#Input: l1 = [9,9,9,9,9,9,9], l2 = [9,9,9,9] Output: [8,9,9,9,0,0,0,1]"
   ]
  },
  {
   "cell_type": "code",
   "execution_count": null,
   "id": "97c888d8",
   "metadata": {},
   "outputs": [],
   "source": []
  },
  {
   "cell_type": "code",
   "execution_count": null,
   "id": "c3b5f9dc",
   "metadata": {},
   "outputs": [],
   "source": []
  }
 ],
 "metadata": {
  "kernelspec": {
   "display_name": "Python 3 (ipykernel)",
   "language": "python",
   "name": "python3"
  },
  "language_info": {
   "codemirror_mode": {
    "name": "ipython",
    "version": 3
   },
   "file_extension": ".py",
   "mimetype": "text/x-python",
   "name": "python",
   "nbconvert_exporter": "python",
   "pygments_lexer": "ipython3",
   "version": "3.10.9"
  }
 },
 "nbformat": 4,
 "nbformat_minor": 5
}
