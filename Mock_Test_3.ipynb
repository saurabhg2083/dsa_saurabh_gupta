{
 "cells": [
  {
   "cell_type": "markdown",
   "id": "f7330a49",
   "metadata": {},
   "source": [
    "### Mock Test 3"
   ]
  },
  {
   "cell_type": "markdown",
   "id": "fd498fd7",
   "metadata": {},
   "source": [
    "#### Implement a stack using a list in Python. Include the necessary methods such as push, pop, and isEmpty."
   ]
  },
  {
   "cell_type": "code",
   "execution_count": 1,
   "id": "28b10c03",
   "metadata": {},
   "outputs": [
    {
     "name": "stdout",
     "output_type": "stream",
     "text": [
      "Stack: 10->9->8->7->6->5->4->3->2->1\n",
      "Pop: 10\n",
      "Pop: 9\n",
      "Pop: 8\n",
      "Pop: 7\n",
      "Pop: 6\n",
      "Stack: 5->4->3->2->1\n"
     ]
    }
   ],
   "source": [
    "class Node:\n",
    "    def __init__(self, value):\n",
    "        self.value = value\n",
    "        self.next = None\n",
    "\n",
    "\n",
    "class Stack:\n",
    "    def __init__(self):\n",
    "        self.head = Node(\"head\")\n",
    "        self.size = 0\n",
    "\n",
    "    def __str__(self):\n",
    "        cur = self.head.next\n",
    "        out = \"\"\n",
    "        while cur:\n",
    "            out += str(cur.value) + \"->\"\n",
    "            cur = cur.next\n",
    "        return out[:-2]\n",
    "\n",
    "    def getSize(self):\n",
    "        return self.size\n",
    "\n",
    "    def isEmpty(self):\n",
    "        return self.size == 0\n",
    "\n",
    "    def peek(self):\n",
    "        if self.isEmpty():\n",
    "            raise Exception(\"Peeking from an empty stack\")\n",
    "        return self.head.next.value\n",
    "\n",
    "    def push(self, value):\n",
    "        node = Node(value)\n",
    "        node.next = self.head.next\n",
    "        self.head.next = node\n",
    "        self.size += 1\n",
    "\n",
    "    def pop(self):\n",
    "        if self.isEmpty():\n",
    "            raise Exception(\"Popping from an empty stack\")\n",
    "        remove = self.head.next\n",
    "        self.head.next = self.head.next.next\n",
    "        self.size -= 1\n",
    "        return remove.value\n",
    "\n",
    "\n",
    "stack = Stack()\n",
    "for i in range(1, 11):\n",
    "    stack.push(i)\n",
    "print(f\"Stack: {stack}\")\n",
    "\n",
    "for _ in range(1, 6):\n",
    "    remove = stack.pop()\n",
    "    print(f\"Pop: {remove}\")\n",
    "print(f\"Stack: {stack}\")\n"
   ]
  },
  {
   "cell_type": "markdown",
   "id": "8f03aecb",
   "metadata": {},
   "source": [
    "#### Implement a queue using a list in Python. Include the necessary methods such as enqueue, dequeue, and isEmpty."
   ]
  },
  {
   "cell_type": "code",
   "execution_count": 4,
   "id": "cb7e68be",
   "metadata": {},
   "outputs": [
    {
     "name": "stdout",
     "output_type": "stream",
     "text": [
      "[1, 2, 3, 4, 5]\n",
      "After removing an element\n",
      "[2, 3, 4, 5]\n"
     ]
    }
   ],
   "source": [
    "# Queue implementation in Python\n",
    "\n",
    "class Queue:\n",
    "\n",
    "    def __init__(self):\n",
    "        self.queue = []\n",
    "\n",
    "    # Add an element\n",
    "    def enqueue(self, item):\n",
    "        self.queue.append(item)\n",
    "\n",
    "    # Remove an element\n",
    "    def dequeue(self):\n",
    "        if len(self.queue) < 1:\n",
    "            return None\n",
    "        return self.queue.pop(0)\n",
    "\n",
    "    # Display  the queue\n",
    "    def display(self):\n",
    "        print(self.queue)\n",
    "\n",
    "    def size(self):\n",
    "        return len(self.queue)\n",
    "\n",
    "\n",
    "q = Queue()\n",
    "q.enqueue(1)\n",
    "q.enqueue(2)\n",
    "q.enqueue(3)\n",
    "q.enqueue(4)\n",
    "q.enqueue(5)\n",
    "\n",
    "q.display()\n",
    "\n",
    "q.dequeue()\n",
    "\n",
    "print(\"After removing an element\")\n",
    "q.display()\n"
   ]
  },
  {
   "cell_type": "code",
   "execution_count": null,
   "id": "b175e0af",
   "metadata": {},
   "outputs": [],
   "source": []
  }
 ],
 "metadata": {
  "kernelspec": {
   "display_name": "Python 3 (ipykernel)",
   "language": "python",
   "name": "python3"
  },
  "language_info": {
   "codemirror_mode": {
    "name": "ipython",
    "version": 3
   },
   "file_extension": ".py",
   "mimetype": "text/x-python",
   "name": "python",
   "nbconvert_exporter": "python",
   "pygments_lexer": "ipython3",
   "version": "3.10.9"
  }
 },
 "nbformat": 4,
 "nbformat_minor": 5
}
