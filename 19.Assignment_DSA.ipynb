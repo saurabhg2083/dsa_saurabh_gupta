{
 "cells": [
  {
   "cell_type": "markdown",
   "id": "86f6f253",
   "metadata": {},
   "source": [
    "##### Assignment 19 Questions - Linked List | DSA\n",
    "\n",
    "https://pwskills.notion.site/Assignment-Questions-19-e9cdd2c51d404a1581631ddda8da4673"
   ]
  },
  {
   "cell_type": "markdown",
   "id": "c33f29a8",
   "metadata": {},
   "source": [
    "#### Question 1\n",
    "\n",
    "Merge k Sorted Lists"
   ]
  },
  {
   "cell_type": "code",
   "execution_count": 1,
   "id": "18d34f7a",
   "metadata": {},
   "outputs": [
    {
     "name": "stdout",
     "output_type": "stream",
     "text": [
      "0 1 2 3 4 5 6 7 8 9 10 11 "
     ]
    }
   ],
   "source": [
    "class Node:\n",
    "    def __init__(self):\n",
    "        self.data = 0\n",
    "        self.next = None\n",
    "\n",
    "def printList(node):\n",
    "    while (node != None):\n",
    "        print(node.data, end=' ')\n",
    "        node = node.next\n",
    "\n",
    "def SortedMerge(a, b):\n",
    "    result = None\n",
    "    if (a == None):\n",
    "        return(b)\n",
    "    elif (b == None):\n",
    "        return(a)\n",
    "\n",
    "    if (a.data <= b.data):\n",
    "        result = a\n",
    "        result.next = SortedMerge(a.next, b)\n",
    "    else:\n",
    "        result = b\n",
    "        result.next = SortedMerge(a, b.next)\n",
    "\n",
    "    return result\n",
    "\n",
    "def mergeKLists(arr, last):\n",
    "    while (last != 0):\n",
    "        i = 0\n",
    "        j = last\n",
    "        while (i < j):\n",
    "            arr[i] = SortedMerge(arr[i], arr[j])\n",
    "            i += 1\n",
    "            j -= 1\n",
    "            if (i >= j):\n",
    "                last = j\n",
    "\n",
    "    return arr[0]\n",
    "\n",
    "def newNode(data):\n",
    "    temp = Node()\n",
    "    temp.data = data\n",
    "    temp.next = None\n",
    "    return temp\n",
    "\n",
    "\n",
    "\n",
    "k = 3\n",
    "n = 4\n",
    "\n",
    "arr = [0 for i in range(k)]\n",
    "\n",
    "arr[0] = newNode(1)\n",
    "arr[0].next = newNode(3)\n",
    "arr[0].next.next = newNode(5)\n",
    "arr[0].next.next.next = newNode(7)\n",
    "\n",
    "arr[1] = newNode(2)\n",
    "arr[1].next = newNode(4)\n",
    "arr[1].next.next = newNode(6)\n",
    "arr[1].next.next.next = newNode(8)\n",
    "\n",
    "arr[2] = newNode(0)\n",
    "arr[2].next = newNode(9)\n",
    "arr[2].next.next = newNode(10)\n",
    "arr[2].next.next.next = newNode(11)\n",
    "\n",
    "head = mergeKLists(arr, k - 1)\n",
    "printList(head)\n",
    "\n"
   ]
  },
  {
   "cell_type": "markdown",
   "id": "a5034378",
   "metadata": {},
   "source": [
    "#### Question 2\n",
    "\n",
    "Count of Smaller Numbers After Self"
   ]
  },
  {
   "cell_type": "code",
   "execution_count": 13,
   "id": "9b55bd29",
   "metadata": {},
   "outputs": [
    {
     "data": {
      "text/plain": [
       "[2, 1, 1, 0]"
      ]
     },
     "execution_count": 13,
     "metadata": {},
     "output_type": "execute_result"
    }
   ],
   "source": [
    "from bisect import bisect_left\n",
    "\n",
    "def countSmaller(nums):\n",
    "    res = [] # the answer\n",
    "    sortedArr = [] # sort all elements from nums\n",
    "    for num in nums[::-1]: # Iterate nums from index n-1 ~ 0\n",
    "        #print(num)\n",
    "        \n",
    "        idx = bisect_left(sortedArr, num) # search insert index\n",
    "        \n",
    "        #print(idx)\n",
    "        #print(\"-------------------------\")\n",
    "        res.append(idx) # the index equals to the numbers smaller than num\n",
    "        sortedArr.insert(idx, num) # insert current number into sortedArr\n",
    "    return res[::-1] # after reverse, we'll get the answer\n",
    "\n",
    "    \n",
    "nums = [5,2,6,1]\n",
    "countSmaller(nums)"
   ]
  },
  {
   "cell_type": "markdown",
   "id": "386d84e3",
   "metadata": {},
   "source": [
    "#### Question 3\n",
    "\n",
    "Sort an Array"
   ]
  },
  {
   "cell_type": "code",
   "execution_count": 15,
   "id": "7e90e058",
   "metadata": {},
   "outputs": [
    {
     "data": {
      "text/plain": [
       "[1, 2, 3, 5]"
      ]
     },
     "execution_count": 15,
     "metadata": {},
     "output_type": "execute_result"
    }
   ],
   "source": [
    "def sort(arr):\n",
    "    for i in range(0, len(arr)):    \n",
    "        for j in range(i+1, len(arr)):    \n",
    "            if(arr[i] > arr[j]):    \n",
    "                temp = arr[i]    \n",
    "                arr[i] = arr[j]    \n",
    "                arr[j] = temp\n",
    "    return arr\n",
    "\n",
    "arr = [5,2,3,1]\n",
    "sort(arr)"
   ]
  },
  {
   "cell_type": "code",
   "execution_count": 20,
   "id": "1e3ebc3f",
   "metadata": {},
   "outputs": [
    {
     "data": {
      "text/plain": [
       "[5, 2, 3, 1]"
      ]
     },
     "execution_count": 20,
     "metadata": {},
     "output_type": "execute_result"
    }
   ],
   "source": [
    "def sortArray(nums):\n",
    "    def mergesort(arr = nums):\n",
    "        if len(arr) - 1:\n",
    "            mid = len(arr) // 2\n",
    "            left = arr[:mid]\n",
    "            right = arr[mid:]\n",
    "            mergesort(left)\n",
    "            mergesort(right)\n",
    "\n",
    "            i = j = k = 0\n",
    "\n",
    "            while i < len(left) and j < len(right):\n",
    "                if left[i] <= right[j]:\n",
    "                    arr[k] = left[i]\n",
    "                    i += 1\n",
    "                else:\n",
    "                    arr[k] = right[j]\n",
    "                    j += 1\n",
    "                k += 1\n",
    "\n",
    "            while i < len(left):\n",
    "                arr[k] = left[i]\n",
    "                i += 1\n",
    "                k += 1\n",
    "\n",
    "            while j < len(right):\n",
    "                arr[k] = right[j]\n",
    "                j += 1\n",
    "                k += 1\n",
    "    mergesort()\n",
    "    return nums\n",
    "\n",
    "\n",
    "nums = [5,2,3,1]\n",
    "sortArray(nums)"
   ]
  },
  {
   "cell_type": "markdown",
   "id": "d02114d4",
   "metadata": {},
   "source": [
    "#### Question 4\n",
    "\n",
    "Move all zeroes to end of array"
   ]
  },
  {
   "cell_type": "code",
   "execution_count": 21,
   "id": "299bd5de",
   "metadata": {},
   "outputs": [
    {
     "name": "stdout",
     "output_type": "stream",
     "text": [
      "[1, 9, 8, 4, 2, 7, 6, 9, 0, 0, 0, 0]\n"
     ]
    }
   ],
   "source": [
    "def pushZerosToEnd(arr, n):\n",
    "    count = 0\n",
    "    for i in range(n):\n",
    "        if arr[i] != 0:\n",
    "            arr[count] = arr[i]\n",
    "            count+=1\n",
    "\n",
    "    while count < n:\n",
    "        arr[count] = 0\n",
    "        count += 1\n",
    "\n",
    "\n",
    "arr = [1, 9, 8, 4, 0, 0, 2, 7, 0, 6, 0, 9]\n",
    "n = len(arr)\n",
    "pushZerosToEnd(arr, n)\n",
    "print(arr)\n"
   ]
  },
  {
   "cell_type": "markdown",
   "id": "999b2d26",
   "metadata": {},
   "source": [
    "#### Question 5\n",
    "Rearrange array in alternating positive & negative items with O(1) extra space\n"
   ]
  },
  {
   "cell_type": "code",
   "execution_count": 26,
   "id": "1a522323",
   "metadata": {},
   "outputs": [
    {
     "data": {
      "text/plain": [
       "[-1, 3, -3, 2, 5]"
      ]
     },
     "execution_count": 26,
     "metadata": {},
     "output_type": "execute_result"
    }
   ],
   "source": [
    "def rearrange(arr, n):\n",
    "    i = 0\n",
    "    j = n - 1\n",
    "    while (i < j):\n",
    "        while (i <= n - 1 and arr[i] > 0):\n",
    "            i += 1\n",
    "        while (j >= 0 and arr[j] < 0):\n",
    "            j -= 1\n",
    "\n",
    "        if (i < j):\n",
    "            temp = arr[i]\n",
    "            arr[i] = arr[j]\n",
    "            arr[j] = temp\n",
    "\n",
    "    if (i == 0 or i == n):\n",
    "        return 0\n",
    "\n",
    "    k = 0\n",
    "    while (k < n and i < n):\n",
    "        temp = arr[k]\n",
    "        arr[k] = arr[i]\n",
    "        arr[i] = temp\n",
    "        i = i + 1\n",
    "        k = k + 2\n",
    "    \n",
    "    return arr\n",
    "\n",
    "arr = [2, 3, 5,-1,-3]\n",
    "n = len(arr)\n",
    "rearrange(arr, n)"
   ]
  },
  {
   "cell_type": "markdown",
   "id": "2f21c68d",
   "metadata": {},
   "source": [
    "#### Question 6\n"
   ]
  },
  {
   "cell_type": "code",
   "execution_count": 50,
   "id": "0bc4cf96",
   "metadata": {},
   "outputs": [
    {
     "data": {
      "text/plain": [
       "[1, 2, 3, 4, 5, 6, 7, 8]"
      ]
     },
     "execution_count": 50,
     "metadata": {},
     "output_type": "execute_result"
    }
   ],
   "source": [
    "def mergeArrays(arr1, arr2, n1, n2):\n",
    "    arr3 = [0 for i in range(n1+n2)]\n",
    "    \n",
    "    i = 0\n",
    "    j = 0\n",
    "    k = 0\n",
    "\n",
    "    while(i < n1):\n",
    "        arr3[k] = arr1[i]\n",
    "        k += 1\n",
    "        i += 1\n",
    "\n",
    "    while(j < n2):\n",
    "        arr3[k] = arr2[j]\n",
    "        k += 1\n",
    "        j += 1\n",
    "\n",
    "    arr3.sort()\n",
    "\n",
    "    return arr3\n",
    "\n",
    "\n",
    "\n",
    "arr1 = [1, 3, 5, 7]\n",
    "n1 = len(arr1)\n",
    "\n",
    "arr2 = [2, 4, 6, 8]\n",
    "n2 = len(arr2)\n",
    "mergeArrays(arr1, arr2, n1, n2)\n"
   ]
  },
  {
   "cell_type": "code",
   "execution_count": null,
   "id": "348d3d0d",
   "metadata": {},
   "outputs": [],
   "source": []
  },
  {
   "cell_type": "markdown",
   "id": "533d0cc9",
   "metadata": {},
   "source": [
    "#### Question 7\n",
    "\n"
   ]
  },
  {
   "cell_type": "code",
   "execution_count": 33,
   "id": "169c599c",
   "metadata": {
    "scrolled": true
   },
   "outputs": [
    {
     "data": {
      "text/plain": [
       "[2, 2]"
      ]
     },
     "execution_count": 33,
     "metadata": {},
     "output_type": "execute_result"
    }
   ],
   "source": [
    "nums1 = [1,2,2,1]\n",
    "nums2 = [2,2]\n",
    "nums3 = [value for value in nums1 if value in nums2]\n",
    "nums3\n"
   ]
  },
  {
   "cell_type": "code",
   "execution_count": 34,
   "id": "6686951a",
   "metadata": {},
   "outputs": [
    {
     "data": {
      "text/plain": [
       "[2]"
      ]
     },
     "execution_count": 34,
     "metadata": {},
     "output_type": "execute_result"
    }
   ],
   "source": [
    "nums1 = [1,2,2,1]\n",
    "nums2 = [2,2]\n",
    "nums3 = list(set(nums1) & set(nums2))\n",
    "nums3"
   ]
  },
  {
   "cell_type": "markdown",
   "id": "388e38a8",
   "metadata": {},
   "source": [
    "#### Question 8\n",
    "\n"
   ]
  },
  {
   "cell_type": "code",
   "execution_count": 35,
   "id": "e8ddd113",
   "metadata": {},
   "outputs": [
    {
     "data": {
      "text/plain": [
       "[2, 2]"
      ]
     },
     "execution_count": 35,
     "metadata": {},
     "output_type": "execute_result"
    }
   ],
   "source": [
    "nums1 = [1,2,2,1]\n",
    "nums2 = [2,2]\n",
    "nums3 = [value for value in nums1 if value in nums2]\n",
    "nums3"
   ]
  },
  {
   "cell_type": "code",
   "execution_count": 36,
   "id": "3060f747",
   "metadata": {},
   "outputs": [
    {
     "data": {
      "text/plain": [
       "[4, 9]"
      ]
     },
     "execution_count": 36,
     "metadata": {},
     "output_type": "execute_result"
    }
   ],
   "source": [
    "nums1 = [4,9,5]\n",
    "nums2 = [9,4,9,8,4]\n",
    "\n",
    "nums3 = [value for value in nums1 if value in nums2]\n",
    "nums3"
   ]
  },
  {
   "cell_type": "code",
   "execution_count": 39,
   "id": "218a5660",
   "metadata": {},
   "outputs": [
    {
     "data": {
      "text/plain": [
       "[1, 2, 2, 1]"
      ]
     },
     "execution_count": 39,
     "metadata": {},
     "output_type": "execute_result"
    }
   ],
   "source": [
    "nums1 = [1,2,2,1]\n",
    "nums2 = [2,2,1,3]\n",
    "nums3 = [value for value in nums1 if value in nums2]\n",
    "nums3"
   ]
  },
  {
   "cell_type": "code",
   "execution_count": 48,
   "id": "d1beb93d",
   "metadata": {},
   "outputs": [
    {
     "name": "stdout",
     "output_type": "stream",
     "text": [
      "{1: 2, 2: 2}\n",
      "num: 2\n",
      "aaa: 2\n",
      "num: 2\n",
      "aaa: 1\n",
      "num: 1\n",
      "aaa: 2\n",
      "num: 2\n",
      "aaa: 0\n"
     ]
    },
    {
     "data": {
      "text/plain": [
       "[2, 2, 1]"
      ]
     },
     "execution_count": 48,
     "metadata": {},
     "output_type": "execute_result"
    }
   ],
   "source": [
    "def intersect(nums1, nums2):\n",
    "    hashMap,result = {},[]\n",
    "    for num in nums1:\n",
    "        hashMap[num] = hashMap.get(num,0)+1\n",
    "\n",
    "    print(hashMap)\n",
    "    for num in nums2:\n",
    "        if num in hashMap and hashMap[num] != 0:\n",
    "            result.append(num) \n",
    "            hashMap[num] -= 1\n",
    "\n",
    "    return result \n",
    "    \n",
    "nums1 = [1,2,2,1]\n",
    "nums2 = [2,2,1,2]\n",
    "intersect(nums1, nums2)"
   ]
  },
  {
   "cell_type": "code",
   "execution_count": null,
   "id": "f2090d58",
   "metadata": {},
   "outputs": [],
   "source": []
  }
 ],
 "metadata": {
  "kernelspec": {
   "display_name": "Python 3 (ipykernel)",
   "language": "python",
   "name": "python3"
  },
  "language_info": {
   "codemirror_mode": {
    "name": "ipython",
    "version": 3
   },
   "file_extension": ".py",
   "mimetype": "text/x-python",
   "name": "python",
   "nbconvert_exporter": "python",
   "pygments_lexer": "ipython3",
   "version": "3.10.9"
  }
 },
 "nbformat": 4,
 "nbformat_minor": 5
}
